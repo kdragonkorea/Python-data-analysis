{
 "cells": [
  {
   "cell_type": "code",
   "execution_count": null,
   "metadata": {},
   "outputs": [],
   "source": [
    "# 문제1 - urllib 방식1\n",
    "\n",
    "import urllib.request\n",
    "import urllib.parse\n",
    "params = urllib.parse.urlencode({'category': '역사', 'page': 25})\n",
    "#print(\"URL 인코딩 규칙이 적용된 문자열 : %s\" % params)\n",
    "url = \"http://unico2013.dothome.co.kr/crawling/exercise.php?%s\" % params\n",
    "with urllib.request.urlopen(url) as f:\n",
    "    print(f.read().decode('utf-8'))\n",
    "    #print(f.url)"
   ]
  },
  {
   "cell_type": "code",
   "execution_count": null,
   "metadata": {},
   "outputs": [],
   "source": [
    "# 문제1 - urllib 방식2\n",
    "\n",
    "import urllib.request\n",
    "\n",
    "query = urllib.parse.urlencode({'category': '역사', 'page': 25})\n",
    "url = \"http://unico2013.dothome.co.kr/crawling/exercise.php?\" + query\n",
    "with urllib.request.urlopen(url) as f:\n",
    "    print(f.read().decode('utf-8'))"
   ]
  },
  {
   "cell_type": "code",
   "execution_count": null,
   "metadata": {},
   "outputs": [],
   "source": [
    "# 문제2\n",
    "import requests\n",
    "\n",
    "dicdata = {'category': '여행', 'page': 100}\n",
    "url = \"http://unico2013.dothome.co.kr/crawling/exercise.php\"\n",
    "r = requests.request('GET', url, params=dicdata)\n",
    "r.encoding = 'utf-8'\n",
    "print(r.text)\n",
    "#print(r.url)"
   ]
  }
 ],
 "metadata": {
  "kernelspec": {
   "display_name": "pydatavenv",
   "language": "python",
   "name": "pydatavenv"
  },
  "language_info": {
   "codemirror_mode": {
    "name": "ipython",
    "version": 3
   },
   "file_extension": ".py",
   "mimetype": "text/x-python",
   "name": "python",
   "nbconvert_exporter": "python",
   "pygments_lexer": "ipython3",
   "version": "3.8.8"
  }
 },
 "nbformat": 4,
 "nbformat_minor": 4
}
