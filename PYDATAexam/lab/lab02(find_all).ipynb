{
 "cells": [
  {
   "cell_type": "code",
   "execution_count": 47,
   "metadata": {},
   "outputs": [],
   "source": [
    "import requests\n",
    "from bs4 import BeautifulSoup\n",
    "import re\n",
    "\n",
    "r = requests.get('http://unico2013.dothome.co.kr/crawling/exercise_bs.html')\n",
    "html = r.content\n",
    "html = html.decode('utf-8')\n",
    "\n",
    "bs = BeautifulSoup(html, 'html.parser')\n",
    "\n",
    "# 1\n",
    "print(\"[<h1> 태그의 콘텐츠]\", bs.h1.text) # or (bs.h1.string) \n",
    "print(\"----------------------------------------\")\n",
    "\n",
    "# 2\n",
    "print(\"[텍스트 형식으로 내용을 가지고 있는 <a> 태그의 콘텐츠와 href 속성값]\")\n",
    "aTags = bs.find_all('a', limit=4)\n",
    "for i in aTags:\n",
    "    print(i.text,\":\",i[\"href\"])\n",
    "print(\"----------------------------------------\")\n",
    "\n",
    "# 3\n",
    "print(\"[<img> 태그의 src 속성값]\", bs.img[\"src\"])\n",
    "print(\"----------------------------------------\")\n",
    "\n",
    "# 4\n",
    "print(\"[첫 번째 <h2> 태그의 콘텐츠]\",bs.h2.text)\n",
    "print(\"----------------------------------------\")\n",
    "\n",
    "# 5\n",
    "print(\"[<ul> 태그의 자식 태그들 중 style 속성의 값이 green으로 끝나는 태그의 콘텐츠]\")\n",
    "#print(bs.ul.text.strip()[8:10])\n",
    "print(bs.ul.find(style=re.compile('green$')).text)\n",
    "print(\"----------------------------------------\")"
   ]
  },
  {
   "cell_type": "code",
   "execution_count": 48,
   "metadata": {},
   "outputs": [
    {
     "name": "stdout",
     "output_type": "stream",
     "text": [
      "[두 번째 <h2> 태그의 콘텐츠] 먹고싶은 음식\n",
      "----------------------------------------\n",
      "[<ol> 태그의 모든 자식 태그들의 콘텐츠]\n",
      "짜장면\n",
      "냉면\n",
      "돈까스\n",
      "갈비\n",
      "----------------------------------------\n",
      "[<table> 태그의 모든 자손 태그들의 콘텐츠]\n",
      "둘리또치도우너\n",
      "케라토사우루스타조외계인\n",
      "도봉구 쌍문동아프리카깐따삐아 별\n",
      "----------------------------------------\n",
      "[name이라는 클래스 속성을 갖는 <tr> 태그의 콘텐츠]\n",
      "둘리또치도우너\n",
      "----------------------------------------\n",
      "[target이라는 아이디 속성을 갖는 <td> 태그의 콘텐츠]\n",
      "아프리카\n"
     ]
    }
   ],
   "source": [
    "     \n",
    "# 6\n",
    "print(\"[두 번째 <h2> 태그의 콘텐츠]\", bs.find_all('h2')[1].text)\n",
    "print(\"----------------------------------------\")\n",
    "      \n",
    "# 7\n",
    "print(\"[<ol> 태그의 모든 자식 태그들의 콘텐츠]\")\n",
    "print(bs.ol.text.strip())\n",
    "print(\"----------------------------------------\")\n",
    "\n",
    "# 8 \n",
    "print('[<table> 태그의 모든 자손 태그들의 콘텐츠]')\n",
    "print(bs.table.text.strip())\n",
    "print(\"----------------------------------------\")\n",
    "\n",
    "# 9\n",
    "print('[name이라는 클래스 속성을 갖는 <tr> 태그의 콘텐츠]')\n",
    "print(bs.find('tr', class_='name').text)\n",
    "print(\"----------------------------------------\")\n",
    "\n",
    "# 10\n",
    "print('[target이라는 아이디 속성을 갖는 <td> 태그의 콘텐츠]')\n",
    "print(bs.find('td', id='target').text)"
   ]
  }
 ],
 "metadata": {
  "kernelspec": {
   "display_name": "pydatavenv",
   "language": "python",
   "name": "pydatavenv"
  },
  "language_info": {
   "codemirror_mode": {
    "name": "ipython",
    "version": 3
   },
   "file_extension": ".py",
   "mimetype": "text/x-python",
   "name": "python",
   "nbconvert_exporter": "python",
   "pygments_lexer": "ipython3",
   "version": "3.8.8"
  }
 },
 "nbformat": 4,
 "nbformat_minor": 4
}
