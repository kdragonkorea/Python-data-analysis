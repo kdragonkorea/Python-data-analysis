{
 "cells": [
  {
   "cell_type": "code",
   "execution_count": null,
   "metadata": {},
   "outputs": [],
   "source": [
    "from selenium import webdriver\n",
    "\n",
    "driver = webdriver.Chrome('C:/Temp/chromedriver')\n",
    "driver.implicitly_wait(3) \n",
    "\n",
    "driver.get(\"https://www.istarbucks.co.kr/store/store_map.do\")\n",
    "import time\n",
    "time.sleep(2)\n",
    "loca = driver.find_element_by_class_name('loca_search')\n",
    "loca.click()\n",
    "time.sleep(2)\n",
    "f_link = driver.find_element_by_css_selector(\"div.loca_step1_cont > ul > li:nth-child(1) > a\")\n",
    "f_link.click()\n",
    "time.sleep(2)\n",
    "s_link = driver.find_element_by_css_selector(\"#mCSB_2_container > ul > li:nth-child(1) > a\")\n",
    "s_link.click()\n",
    "time.sleep(2)\n",
    "shopList = driver.find_elements_by_css_selector(\"#mCSB_3_container > ul > li\")\n",
    "\n",
    "temp_list = []\n",
    "time.sleep(3)\n",
    "count = 0\n",
    "total = len(shopList)\n",
    "print(total)\n",
    "for shop in shopList :    \n",
    "    count += 1\n",
    "    #print(count)\n",
    "    shoplat = shop.get_attribute(\"data-lat\")\n",
    "    shoplong = shop.get_attribute(\"data-long\")\n",
    "    shopname = shop.find_element_by_tag_name(\"strong\")\n",
    "    shopinfo = shop.find_element_by_tag_name(\"p\")\n",
    "    splitinfo = shopinfo.text.split('\\n')\n",
    "    if(len(splitinfo) == 2):\n",
    "        addr = splitinfo[0]\n",
    "        phonenum = splitinfo[1]\n",
    "    temp_list.append([shopname.text, shoplat, shoplong, addr, phonenum])\n",
    "    if count != total and count % 3 == 0:\n",
    "        driver.execute_script(\"var su = arguments[0]; var dom=document.querySelectorAll('#mCSB_3_container > ul > li')[su]; dom.scrollIntoView();\", count)\n",
    "with open('output/starbucks_shop.txt', \"wt\", encoding=\"utf-8\") as f:\n",
    "    for item in temp_list :\n",
    "        f.write(str(item)+'\\n')\n",
    "\n",
    "#driver.quit()"
   ]
  }
 ],
 "metadata": {
  "kernelspec": {
   "display_name": "pydatavenv",
   "language": "python",
   "name": "pydatavenv"
  },
  "language_info": {
   "codemirror_mode": {
    "name": "ipython",
    "version": 3
   },
   "file_extension": ".py",
   "mimetype": "text/x-python",
   "name": "python",
   "nbconvert_exporter": "python",
   "pygments_lexer": "ipython3",
   "version": "3.8.8"
  }
 },
 "nbformat": 4,
 "nbformat_minor": 4
}
