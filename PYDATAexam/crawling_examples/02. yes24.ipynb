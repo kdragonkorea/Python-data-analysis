{
 "cells": [
  {
   "cell_type": "code",
   "execution_count": null,
   "metadata": {},
   "outputs": [],
   "source": [
    "# yes24 'python' 검색 결과 크롤링 - 제목, 링크 (1개 페이지)\n",
    "\n",
    "import requests\n",
    "from bs4 import BeautifulSoup\n",
    "\n",
    "title = []\n",
    "link = []\n",
    "r = requests.get('http://www.yes24.com/SearchCorner/Search?domain=BOOK&query=python')\n",
    "#r.encoding = \"utf-8\"\n",
    "bs = BeautifulSoup(r.text, 'html.parser')\n",
    "titleList = bs.select('p.goods_name.goods_icon > a > strong')\n",
    "linklList = bs.select('p.goods_name.goods_icon > a')\n",
    "\n",
    "for titleDom in titleList:\n",
    "    title.append(titleDom.string)\n",
    "for linkDom in linklList:\n",
    "    link.append(linkDom[\"href\"])\n",
    "\n",
    "print(\"[도서 제목]---------------\")\n",
    "print(title)\n",
    "print(\"[도서 링크 URL]---------------\")\n",
    "print(link)\n",
    "# with open('../output/booklink.csv', \"wt\", encoding=\"utf-8\") as f:\n",
    "#     f.write('booktitle,booklink\\n')  \n",
    "#     for i in range(len(title)):\n",
    "#         f.write(title[i]+\",\"+link[i]+'\\n')  "
   ]
  },
  {
   "cell_type": "code",
   "execution_count": null,
   "metadata": {},
   "outputs": [],
   "source": [
    "# yes24 '명견만리' 검색 결과 크롤링 - 리뷰 (개 페이지)\n",
    "\n",
    "from selenium import webdriver\n",
    "\n",
    "driver = webdriver.Chrome('C:/Temp/chromedriver')\n",
    "driver.implicitly_wait(3) \n",
    "driver.get(\"http://www.yes24.com/Product/goods/40936880\")\n",
    "import time\n",
    "time.sleep(2)"
   ]
  },
  {
   "cell_type": "code",
   "execution_count": null,
   "metadata": {},
   "outputs": [],
   "source": [
    "reviewList = driver.find_elements_by_css_selector('#infoset_reviewContentList div.reviewInfoBot.origin div.review_cont')\n",
    "\n",
    "temp_list = []\n",
    "time.sleep(3)\n",
    "\n",
    "for review in reviewList :    \n",
    "    temp_list.append(review.text)\n",
    "stopFlag = False\n",
    "while True :\n",
    "    for n in range(4, 13) :\n",
    "        linkurl = '#infoset_reviewContentList > div.review_sort.sortBot > div.review_sortLft > div > a:nth-child('+str(n)+')'\n",
    "        linkNum = driver.find_element_by_css_selector(linkurl)\n",
    "        linkNum.click()   \n",
    "        time.sleep(2)\n",
    "        readLinks = driver.find_elements_by_css_selector('#infoset_reviewContentList span.review_more')\n",
    "        for readlink in readLinks :\n",
    "            try :\n",
    "                readlink.click()\n",
    "            except :\n",
    "                driver.execute_script(\"arguments[0].click\", readlink)                  \n",
    "            time.sleep(2)\n",
    "            \n",
    "        reviewList = driver.find_elements_by_css_selector('#infoset_reviewContentList div.reviewInfoBot.origin div.review_cont')\n",
    "        for review in reviewList :    \n",
    "            temp_list.append(review.text)\n",
    "\n",
    "        if len(reviewList) < 5 :\n",
    "            stopFlag = True\n",
    "            break\n",
    "\n",
    "    if stopFlag == True :\n",
    "        break\n",
    "    nextPage = '#infoset_reviewContentList > div.review_sort.sortBot > div.review_sortLft > div > a.bgYUI.next'\n",
    "    linkNum = driver.find_element_by_css_selector(nextPage)\n",
    "    linkNum.click()\n",
    "    time.sleep(2)\n",
    "\n",
    "print(\"스크래핑 끝!!\")\n",
    "wfile = open(\"output/yes24file.txt\",\"w\", encoding=\"utf-8\") \n",
    "wfile.writelines(temp_list) \n",
    "wfile.close()\n",
    "\n",
    "#driver.quit()"
   ]
  }
 ],
 "metadata": {
  "kernelspec": {
   "display_name": "pydatavenv",
   "language": "python",
   "name": "pydatavenv"
  },
  "language_info": {
   "codemirror_mode": {
    "name": "ipython",
    "version": 3
   },
   "file_extension": ".py",
   "mimetype": "text/x-python",
   "name": "python",
   "nbconvert_exporter": "python",
   "pygments_lexer": "ipython3",
   "version": "3.8.8"
  }
 },
 "nbformat": 4,
 "nbformat_minor": 4
}
