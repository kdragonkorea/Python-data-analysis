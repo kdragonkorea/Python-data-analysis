{
 "cells": [
  {
   "cell_type": "markdown",
   "metadata": {},
   "source": [
    "![Matplotlib image](images/matplotlib.png)"
   ]
  },
  {
   "cell_type": "markdown",
   "metadata": {},
   "source": [
    "## matplotlib이 사용하는 기본폰트는 한글폰트를 가지고 있지 않음\n",
    "### 한글 폰트를 등록해주어야 함\n",
    "### 이 방법은 설정 후 모든 코드에 적용됨 - 전역적 방법"
   ]
  },
  {
   "cell_type": "code",
   "execution_count": 2,
   "metadata": {},
   "outputs": [
    {
     "name": "stdout",
     "output_type": "stream",
     "text": [
      "THEGaeideuk\n"
     ]
    }
   ],
   "source": [
    "from matplotlib import font_manager, rc\n",
    "font_path = \"data/THEdog.ttf\"   #폰트파일의 위치\n",
    "font_name = font_manager.FontProperties(fname=font_path).get_name()\n",
    "print(font_name)\n",
    "rc('font', family=font_name)"
   ]
  },
  {
   "cell_type": "code",
   "execution_count": 3,
   "metadata": {},
   "outputs": [],
   "source": [
    "import pandas as pd\n",
    "import matplotlib.pyplot as plt\n",
    "import matplotlib\n",
    "# %matplotlib inline\n",
    "# %config InlineBackend.figure_format='retina'"
   ]
  },
  {
   "cell_type": "code",
   "execution_count": null,
   "metadata": {},
   "outputs": [],
   "source": [
    "print(matplotlib.__version__)"
   ]
  },
  {
   "cell_type": "code",
   "execution_count": null,
   "metadata": {},
   "outputs": [],
   "source": [
    "import pandas as pd\n",
    "import matplotlib.pyplot as plt\n",
    "\n",
    "s = pd.Series(\n",
    "    [5, 4, 7, 1, 12],\n",
    "    index = [\"둘리\", \"또치\", \"도우너\", \"희동이\", \"마이콜\"]\n",
    ")\n",
    "\n",
    "plt.title(\"시리즈 데이터로 그리는 그래프\")\n",
    "plt.ylabel('갯수')\n",
    "plt.xlabel('학생이름')\n",
    "\n",
    "#Set tick colors:\n",
    "ax = plt.gca()\n",
    "ax.tick_params(axis='x', colors='blue')\n",
    "ax.tick_params(axis='y', colors='red')\n",
    "\n",
    "# plt.bar(x,height, width=0.8, bottom=None,*, align='center',data=None,**kwargs,)\n",
    "plt.bar(x=s.index, height=s, color=['skyblue', 'red', 'green', 'orange', 'yellow'])\n",
    "plt.show()"
   ]
  },
  {
   "cell_type": "markdown",
   "metadata": {},
   "source": [
    "### plt.plot(*args, scalex=True, scaley=True, data=None, **kwargs)\n",
    "#### plot([x], y, [fmt], *, data=None, **kwargs)\n",
    "#### plot([x], y, [fmt], [x2], y2, [fmt2], ..., **kwargs)\n",
    "<span style=\"color:red\">fmt = '[marker][line][color]'</span>\n",
    "##### plot(x, y)        # plot x and y using default line style and color\n",
    "##### plot(x, y, 'bo')  # plot x and y using blue circle markers\n",
    "##### plot(y)           # plot y using x as index array 0..N-1\n",
    "##### plot(y, 'r+')     # ditto, but with red plusses"
   ]
  },
  {
   "cell_type": "code",
   "execution_count": null,
   "metadata": {},
   "outputs": [],
   "source": [
    "from matplotlib import pyplot as plt\n",
    "plt.figure(figsize=(10,6))\n",
    "plt.plot([1,2,3,4,5,6])\n",
    "plt.title('matplotliab 그래프(1)')\n",
    "plt.xlabel('X-축')\n",
    "plt.ylabel('Y-축')\n",
    "plt.show()"
   ]
  },
  {
   "cell_type": "code",
   "execution_count": null,
   "metadata": {},
   "outputs": [],
   "source": [
    "?plt.plot"
   ]
  },
  {
   "cell_type": "code",
   "execution_count": null,
   "metadata": {},
   "outputs": [],
   "source": [
    "from matplotlib import pyplot as plt\n",
    "#plt.figure(figsize=(10,6))\n",
    "t = [10,20,30,40,50,60] \n",
    "y = [1,2,3,4,5,6]\n",
    "plt.plot(t,y)\n",
    "plt.title('matplotliab 그래프(2)')\n",
    "plt.xlabel('X-축')\n",
    "plt.ylabel('Y-축')\n",
    "plt.show()"
   ]
  },
  {
   "cell_type": "code",
   "execution_count": null,
   "metadata": {},
   "outputs": [],
   "source": [
    "from matplotlib import pyplot as plt\n",
    "plt.plot([1,2,3,4,5,6],[100,200,300,400,500,800], 'r+')\n",
    "plt.title('matplotliab 그래프(3)')\n",
    "plt.xlabel('X-축')\n",
    "plt.ylabel('Y-축')\n",
    "plt.show()"
   ]
  },
  {
   "cell_type": "code",
   "execution_count": null,
   "metadata": {},
   "outputs": [],
   "source": [
    "from matplotlib import pyplot as plt\n",
    "plt.plot([1,2,3,4,5,6],[1,2,3,4,5,6], 'r--', [1,2,3,4,5,6],[3,4,5,6,7,8], 'gv-', [1,2,3,4,5,6],[5,6,7,8,9,10], 'm-.')\n",
    "plt.title('matplotliab 그래프(4)')\n",
    "plt.xlabel('X-축')\n",
    "plt.ylabel('Y-축')\n",
    "plt.show()"
   ]
  },
  {
   "cell_type": "code",
   "execution_count": null,
   "metadata": {},
   "outputs": [],
   "source": [
    "import numpy as np\n",
    "\n",
    "a = np.arange(0, 2, 0.2)\n",
    "print(a)\n",
    "plt.plot(a, a, 'r--', a, a**2, 'bo', a, a**3, 'g-.')\n",
    "plt.savefig(\"output/test1.png\") # show() 호출전에\n",
    "plt.show()"
   ]
  },
  {
   "cell_type": "code",
   "execution_count": null,
   "metadata": {},
   "outputs": [],
   "source": [
    "import numpy as np\n",
    "\n",
    "a = np.arange(0, 2, 0.2)\n",
    "\n",
    "plt.plot(a, a, 'bo')\n",
    "plt.plot(a, a**2, color='#e35f62', marker='*', linewidth=2)\n",
    "plt.plot(a, a**3, color='springgreen', marker='^', markersize=9)\n",
    "plt.legend([\"a\", \"a**2\", \"a**3\"])\n",
    "plt.grid()\n",
    "\n",
    "plt.show()"
   ]
  },
  {
   "cell_type": "code",
   "execution_count": null,
   "metadata": {},
   "outputs": [],
   "source": [
    "import numpy as np\n",
    "\n",
    "a = np.arange(0, 2, 0.2)\n",
    "\n",
    "plt.plot(a, a, 'bo')\n",
    "plt.plot(a, a**2, color='#e35f62', marker='*', linewidth=2)\n",
    "plt.plot(a, a**3, color='springgreen', marker='^', markersize=9)\n",
    "plt.legend([\"a\", \"a**2\", \"a**3\"], loc='upper center')\n",
    "plt.grid(True, axis='y')\n",
    "\n",
    "plt.show()"
   ]
  },
  {
   "cell_type": "code",
   "execution_count": null,
   "metadata": {},
   "outputs": [],
   "source": [
    "a = np.arange(0, 2, 0.2)\n",
    "\n",
    "plt.plot(a, a, 'bo')\n",
    "plt.plot(a, a**2, color='#e35f62', marker='*', linewidth=2)\n",
    "plt.plot(a, a**3, color='springgreen', marker='^', markersize=9)\n",
    "plt.legend([\"a\", \"a**2\", \"a**3\"], loc='center')\n",
    "plt.grid(True, axis='y', color='red', alpha=0.5, linestyle='--')\n",
    "plt.show() "
   ]
  },
  {
   "cell_type": "code",
   "execution_count": null,
   "metadata": {},
   "outputs": [],
   "source": [
    "import numpy as np\n",
    "\n",
    "a = np.arange(0, 2, 0.2)\n",
    "\n",
    "plt.plot(a, a, 'bo')\n",
    "plt.plot(a, a**2, color='#e35f62', marker='*', linewidth=2)\n",
    "plt.plot(a, a**3, color='springgreen', marker='^', markersize=9)\n",
    "plt.xticks([0, 1, 2])\n",
    "plt.yticks(np.arange(1, 6))\n",
    "\n",
    "plt.show()"
   ]
  },
  {
   "cell_type": "code",
   "execution_count": null,
   "metadata": {},
   "outputs": [],
   "source": [
    "import numpy as np\n",
    "\n",
    "a = np.arange(0, 2, 0.2)\n",
    "\n",
    "plt.plot(a, a, 'bo')\n",
    "plt.plot(a, a**2, color='#e35f62', marker='*', linewidth=2)\n",
    "plt.plot(a, a**3, color='springgreen', marker='^', markersize=9)\n",
    "plt.xticks(np.arange(0, 2.1, 0.2), labels=['Jan', '', 'Feb', '', 'Mar', '', 'May', '', 'June', '', 'July'])\n",
    "plt.yticks(np.arange(0, 7), ('0', '1GB', '2GB', '3GB', '4GB', '5GB', '6GB'))\n",
    "\n",
    "plt.show()"
   ]
  },
  {
   "cell_type": "code",
   "execution_count": null,
   "metadata": {},
   "outputs": [],
   "source": [
    "a = np.arange(0, 2, 0.2)\n",
    "\n",
    "plt.plot(a, a, 'bo')\n",
    "plt.plot(a, a**2, color='#e35f62', marker='*', linewidth=2)\n",
    "plt.plot(a, a**3, color='springgreen', marker='^', markersize=9)\n",
    "plt.xticks(np.arange(0, 2.1, 0.2), labels=['Jan', '', 'Feb', '', 'Mar', '', 'May', '', 'June', '', 'July'])\n",
    "plt.yticks(np.arange(0, 7), ('0', '1GB', '2GB', '3GB', '4GB', '5GB', '6GB'))\n",
    "\n",
    "plt.tick_params(axis='x', direction='in', length=3, pad=6, labelsize=14, labelcolor='green', top=True)\n",
    "plt.tick_params(axis='y', direction='inout', length=10, pad=15, labelsize=12, width=2, color='r')\n",
    "\n",
    "plt.show()"
   ]
  },
  {
   "cell_type": "code",
   "execution_count": null,
   "metadata": {},
   "outputs": [],
   "source": [
    "a = np.arange(0, 2, 0.2)\n",
    "\n",
    "plt.plot(a, a, 'bo')\n",
    "plt.plot(a, a**2, color='#e35f62', marker='*', linewidth=2)\n",
    "plt.plot(a, a**3, color='springgreen', marker='^', markersize=9)\n",
    "plt.grid(True, axis='y', color='gray', alpha=0.5, linestyle='--')\n",
    "plt.tick_params(axis='both', direction='in', length=3, pad=6, labelsize=14)\n",
    "plt.title('Sample graph')\n",
    "\n",
    "plt.show()"
   ]
  },
  {
   "cell_type": "code",
   "execution_count": null,
   "metadata": {},
   "outputs": [],
   "source": [
    "plt.title('Sample graph', loc='right', pad=20)"
   ]
  },
  {
   "cell_type": "code",
   "execution_count": null,
   "metadata": {},
   "outputs": [],
   "source": [
    "plt.title('Sample graph', loc='right', pad=20)\n",
    "\n",
    "title_font = {\n",
    "    'fontsize': 16,\n",
    "    'fontweight': 'bold'\n",
    "}\n",
    "plt.title('Sample graph', fontdict=title_font, loc='left', pad=20)"
   ]
  },
  {
   "cell_type": "code",
   "execution_count": null,
   "metadata": {},
   "outputs": [],
   "source": [
    "import numpy as np\n",
    "\n",
    "a = np.arange(0, 2, 0.2)\n",
    "\n",
    "plt.plot(a, a, 'bo')\n",
    "plt.plot(a, a**2, color='#e35f62', marker='*', linewidth=2)\n",
    "plt.plot(a, a**3, color='springgreen', marker='^', markersize=9)\n",
    "plt.xticks(np.arange(0, 2.1, 0.2), labels=['Jan', '', 'Feb', '', 'Mar', '', 'May', '', 'June', '', 'July'])\n",
    "plt.yticks(np.arange(0, 7), ('0', '1GB', '2GB', '3GB', '4GB', '5GB', '6GB'))\n",
    "\n",
    "plt.axhline(1, 0, 0.55, color='gray', linestyle='--', linewidth='1')\n",
    "plt.axvline(1, 0, 0.16, color='lightgray', linestyle=':', linewidth='2')\n",
    "\n",
    "plt.axhline(5.83, 0, 0.95, color='gray', linestyle='--', linewidth='1')\n",
    "plt.axvline(1.8, 0, 0.95, color='lightgray', linestyle=':', linewidth='2')\n",
    "\n",
    "plt.show()"
   ]
  },
  {
   "cell_type": "code",
   "execution_count": null,
   "metadata": {},
   "outputs": [],
   "source": [
    "plt.plot([1,2,3,4,5,6,7,8,9,8,7,6,5,4,3,2,1,0], 'o')\n",
    "plt.show()"
   ]
  },
  {
   "cell_type": "code",
   "execution_count": null,
   "metadata": {},
   "outputs": [],
   "source": [
    "plt.plot([1,2,3,4,5,6,7,8,8,8,7,6,5,4,3,2,1,0], 'ro')\n",
    "plt.plot([5,3,4,1,7,1,4,5,3,5,4,8,9,6,2,4,5,1], 'b--')\n",
    "plt.show()"
   ]
  },
  {
   "cell_type": "code",
   "execution_count": null,
   "metadata": {},
   "outputs": [],
   "source": [
    "import numpy as np\n",
    "t = np.arange(0,12,0.01)\n",
    "y = np.sin(t)\n",
    "\n",
    "print(type(t))\n",
    "print(type(t[0]))\n",
    "print(t)\n",
    "print(y)"
   ]
  },
  {
   "cell_type": "code",
   "execution_count": null,
   "metadata": {},
   "outputs": [],
   "source": [
    "plt.figure(figsize=(10,6)) \n",
    "plt.plot(t, y)\n",
    "plt.show()"
   ]
  },
  {
   "cell_type": "code",
   "execution_count": null,
   "metadata": {},
   "outputs": [],
   "source": [
    "plt.figure(figsize=(10,6))\n",
    "plt.plot(t, y)\n",
    "plt.grid() # 그리드 적용하기\n",
    "plt.show()"
   ]
  },
  {
   "cell_type": "code",
   "execution_count": null,
   "metadata": {},
   "outputs": [],
   "source": [
    "plt.figure(figsize=(10,6))\n",
    "plt.plot(t, np.sin(t))\n",
    "plt.plot(t, np.cos(t))\n",
    "plt.grid(True)\n",
    "plt.xlabel('time')\n",
    "plt.ylabel('Amplitude')\n",
    "plt.title('Example of sinewave')\n",
    "plt.show()\n"
   ]
  },
  {
   "cell_type": "code",
   "execution_count": null,
   "metadata": {},
   "outputs": [],
   "source": [
    "plt.figure(figsize=(10,6))\n",
    "plt.plot(t, np.sin(t), label='sin')\n",
    "plt.plot(t, np.cos(t), label='cos')\n",
    "plt.grid()\n",
    "plt.legend()\n",
    "plt.xlabel('time')\n",
    "plt.ylabel('Amplitude')\n",
    "plt.title('Example of sinewave')\n",
    "plt.show()"
   ]
  },
  {
   "cell_type": "code",
   "execution_count": null,
   "metadata": {},
   "outputs": [],
   "source": [
    "plt.figure(figsize=(10,6))\n",
    "plt.plot(t, np.sin(t), lw=3, label='싸인')\n",
    "plt.plot(t, np.cos(t), 'r', lw=5, label='코싸인')\n",
    "plt.grid(True)\n",
    "plt.legend()\n",
    "plt.xlabel('time')\n",
    "plt.ylabel('Amplitude')\n",
    "plt.title('Example of sinewave')\n",
    "plt.show()"
   ]
  },
  {
   "cell_type": "code",
   "execution_count": null,
   "metadata": {},
   "outputs": [],
   "source": [
    "plt.figure(figsize=(10,6))\n",
    "plt.plot(t, np.sin(t), lw=3, label='sin')\n",
    "plt.plot(t, np.cos(t), 'r', label='cos')\n",
    "plt.grid()\n",
    "plt.legend()\n",
    "plt.xlabel('time')\n",
    "plt.ylabel('Amplitude')\n",
    "plt.title('Example of sinewave')\n",
    "plt.ylim(-1.2, 1.2)\n",
    "plt.xlim(0, np.pi)\n",
    "plt.show()"
   ]
  },
  {
   "cell_type": "code",
   "execution_count": null,
   "metadata": {},
   "outputs": [],
   "source": [
    "t = np.arange(0, 5, 0.5)\n",
    "print(t)\n",
    "plt.figure(figsize=(10,6))\n",
    "plt.plot(t, t**2, 'bs')\n",
    "\n",
    "plt.figure(figsize=(10,6))\n",
    "plt.plot(t, t**3, 'g^')\n",
    "\n",
    "plt.show()"
   ]
  },
  {
   "cell_type": "code",
   "execution_count": null,
   "metadata": {},
   "outputs": [],
   "source": [
    "t = [0, 1, 2, 3, 4, 5, 6] \n",
    "y = [1, 4, 5, 8, 9, 5, 3]\n",
    "\n",
    "plt.figure(figsize=(10,6))\n",
    "plt.plot(t, y, color='green')\n",
    "plt.show()"
   ]
  },
  {
   "cell_type": "code",
   "execution_count": null,
   "metadata": {},
   "outputs": [],
   "source": [
    "plt.figure(figsize=(10,6))\n",
    "plt.plot(t, y, color='green', linestyle='dashed')\n",
    "plt.show()"
   ]
  },
  {
   "cell_type": "code",
   "execution_count": null,
   "metadata": {},
   "outputs": [],
   "source": [
    "plt.figure(figsize=(10,6))\n",
    "plt.plot(t, y, color='green', linestyle='dashed', marker='o')\n",
    "#plt.plot(t, y, 'ro--')\n",
    "plt.show()"
   ]
  },
  {
   "cell_type": "code",
   "execution_count": null,
   "metadata": {},
   "outputs": [],
   "source": [
    "plt.figure(figsize=(10,6))\n",
    "plt.plot(t, y, color='green', linestyle='dashed', marker='o',\n",
    "        markerfacecolor = 'blue')\n",
    "plt.show()"
   ]
  },
  {
   "cell_type": "code",
   "execution_count": null,
   "metadata": {},
   "outputs": [],
   "source": [
    "plt.figure(figsize=(10,6))\n",
    "plt.plot(t, y, color='green', linestyle='dashed', marker='o',\n",
    "        markerfacecolor = 'blue', markersize=12)\n",
    "\n",
    "plt.xlim([-0.5, 6.5])\n",
    "plt.ylim([0.5, 9.5])\n",
    "plt.show()"
   ]
  },
  {
   "cell_type": "code",
   "execution_count": null,
   "metadata": {},
   "outputs": [],
   "source": [
    "t = np.array([0,1,2,3,4,5,6,7,8,9])\n",
    "y = np.array([9,8,7,9,8,3,2,4,3,4])"
   ]
  },
  {
   "cell_type": "code",
   "execution_count": null,
   "metadata": {},
   "outputs": [],
   "source": [
    "plt.figure(figsize=(10,6))\n",
    "plt.scatter(t,y)\n",
    "plt.show()"
   ]
  },
  {
   "cell_type": "code",
   "execution_count": null,
   "metadata": {},
   "outputs": [],
   "source": [
    "plt.figure(figsize=(10,6))\n",
    "plt.scatter(t,y, marker='>')\n",
    "plt.show()"
   ]
  },
  {
   "cell_type": "code",
   "execution_count": null,
   "metadata": {},
   "outputs": [],
   "source": [
    "plt.figure(figsize=(10,6))\n",
    "plt.scatter(t,y, s = 50, c=t, marker='>')\n",
    "plt.show()"
   ]
  },
  {
   "cell_type": "code",
   "execution_count": null,
   "metadata": {},
   "outputs": [],
   "source": [
    "plt.figure(figsize=(10,6))\n",
    "plt.scatter(t,y, s = 50, c = t, marker='>')\n",
    "plt.colorbar()\n",
    "plt.show()"
   ]
  },
  {
   "cell_type": "code",
   "execution_count": null,
   "metadata": {},
   "outputs": [],
   "source": [
    "s1 = np.random.normal(loc=0, scale=1, size=1000) # 평균 0 표준편차 1\n",
    "s2 = np.random.normal(loc=5, scale=0.5, size=1000) # 평균 5 표준편차 0.5\n",
    "s3 = np.random.normal(loc=10, scale=2, size=1000) # 평균 10 표준편차 2"
   ]
  },
  {
   "cell_type": "code",
   "execution_count": null,
   "metadata": {},
   "outputs": [],
   "source": [
    "plt.figure(figsize=(10,6))\n",
    "plt.plot(s1, label='s1')\n",
    "plt.plot(s2, label='s2')\n",
    "plt.plot(s3, label='s3')\n",
    "plt.legend()\n",
    "plt.show()"
   ]
  },
  {
   "cell_type": "code",
   "execution_count": null,
   "metadata": {},
   "outputs": [],
   "source": [
    "plt.figure(figsize=(10,6))\n",
    "plt.boxplot((s1, s2, s3), labels=['월요일', '수요일', '금요일'])\n",
    "plt.grid()\n",
    "plt.show()"
   ]
  },
  {
   "cell_type": "code",
   "execution_count": null,
   "metadata": {},
   "outputs": [],
   "source": [
    "import numpy as np\n",
    "\n",
    "x = np.arange(3)\n",
    "years = ['2017', '2018', '2019']\n",
    "values = [100, 400, 900]\n",
    "\n",
    "plt.bar(x, values)\n",
    "plt.xticks(x, years)\n",
    "plt.show()"
   ]
  },
  {
   "cell_type": "code",
   "execution_count": null,
   "metadata": {},
   "outputs": [],
   "source": [
    "import numpy as np\n",
    "\n",
    "y = np.arange(3)\n",
    "print(y)\n",
    "years = ['2017', '2018', '2019']\n",
    "values = [100, 400, 900]\n",
    "\n",
    "plt.barh(y, values, height=-0.6, align='edge', color=\"springgreen\",\n",
    "        edgecolor=\"gray\", linewidth=3, tick_label=years)\n",
    "plt.show()"
   ]
  },
  {
   "cell_type": "code",
   "execution_count": null,
   "metadata": {},
   "outputs": [],
   "source": [
    "np.random.seed(10)    # 0에서 4294967295 사이의 정수\n",
    "\n",
    "N = 50\n",
    "x = np.random.rand(N)\n",
    "print(x)\n",
    "y = np.random.rand(N)\n",
    "colors = np.random.rand(N)\n",
    "area = (30 * np.random.rand(N))**2\n",
    "\n",
    "plt.scatter(x, y, s=area, c=colors, alpha=0.5)\n",
    "plt.show()"
   ]
  },
  {
   "cell_type": "code",
   "execution_count": null,
   "metadata": {},
   "outputs": [],
   "source": [
    "ratio = [34, 32, 16, 18]\n",
    "\n",
    "plt.pie(ratio)\n",
    "plt.show()"
   ]
  },
  {
   "cell_type": "code",
   "execution_count": null,
   "metadata": {},
   "outputs": [],
   "source": [
    "ratio = [34, 32, 16, 18]\n",
    "sr = pd.Series(ratio, index=['Apple', 'Banana', 'Melon', 'Grapes'])\n",
    "\n",
    "plt.pie(sr, labels=sr.index)\n",
    "plt.show()"
   ]
  },
  {
   "cell_type": "code",
   "execution_count": null,
   "metadata": {},
   "outputs": [],
   "source": [
    "ratio = [34, 32, 16, 18]\n",
    "labels = ['Apple', 'Banana', 'Melon', 'Grapes']\n",
    "\n",
    "plt.pie(ratio, labels=labels)\n",
    "plt.show()"
   ]
  },
  {
   "cell_type": "code",
   "execution_count": null,
   "metadata": {},
   "outputs": [],
   "source": [
    "ratio = [34, 32, 16, 18]\n",
    "labels = ['Apple', 'Banana', 'Melon', 'Grapes']\n",
    "\n",
    "plt.pie(ratio, labels=labels, autopct='%.1f%%', textprops={'color':'skyblue'})\n",
    "plt.show()"
   ]
  },
  {
   "cell_type": "code",
   "execution_count": null,
   "metadata": {},
   "outputs": [],
   "source": [
    "ratio = [34, 32, 16, 18]\n",
    "labels = ['Apple', 'Banana', 'Melon', 'Grapes']\n",
    "\n",
    "plt.pie(ratio, labels=labels, autopct='%.1f%%', startangle=260,  counterclock=False)\n",
    "plt.show()"
   ]
  },
  {
   "cell_type": "code",
   "execution_count": null,
   "metadata": {},
   "outputs": [],
   "source": [
    "ratio = [34, 32, 16, 18]\n",
    "labels = ['Apple', 'Banana', 'Melon', 'Grapes']\n",
    "explode = [0, 0.10, 0, 0.10]\n",
    "\n",
    "plt.pie(ratio, labels=labels, autopct='%.1f%%', startangle=90, counterclock=False, explode=explode)\n",
    "plt.show()"
   ]
  },
  {
   "cell_type": "code",
   "execution_count": null,
   "metadata": {},
   "outputs": [],
   "source": [
    "ratio = [34, 32, 16, 18]\n",
    "labels = ['Apple', 'Banana', 'Melon', 'Grapes']\n",
    "explode = [0.05, 0.05, 0.05, 0.05]\n",
    "\n",
    "plt.pie(ratio, labels=labels, autopct='%.1f%%', startangle=260, counterclock=False, explode=explode, shadow=True)\n",
    "plt.show()"
   ]
  },
  {
   "cell_type": "code",
   "execution_count": null,
   "metadata": {},
   "outputs": [],
   "source": [
    "ratio = [34, 32, 16, 18]\n",
    "labels = ['Apple', 'Banana', 'Melon', 'Grapes']\n",
    "explode = [0.05, 0.05, 0.05, 0.05]\n",
    "colors = ['silver', 'gold', 'whitesmoke', 'lightgray']\n",
    "\n",
    "plt.pie(ratio, labels=labels, autopct='%.1f%%', startangle=260, counterclock=False, explode=explode, shadow=True, colors=colors)\n",
    "plt.show()"
   ]
  },
  {
   "cell_type": "code",
   "execution_count": null,
   "metadata": {},
   "outputs": [],
   "source": [
    "ratio = [34, 32, 16, 18]\n",
    "labels = ['Apple', 'Banana', 'Melon', 'Grapes']\n",
    "explode = [0.05, 0.05, 0.05, 0.05]\n",
    "colors = ['#ff9999', '#ffc000', '#8fd9b6', '#d395d0']\n",
    "\n",
    "plt.pie(ratio, labels=labels, autopct='%.1f%%', startangle=260, counterclock=False, explode=explode, shadow=True, colors=colors)\n",
    "plt.show()"
   ]
  },
  {
   "cell_type": "code",
   "execution_count": null,
   "metadata": {},
   "outputs": [],
   "source": [
    "ratio = [34, 32, 16, 18]\n",
    "labels = ['Apple', 'Banana', 'Melon', 'Grapes']\n",
    "colors = ['#ff9999', '#ffc000', '#8fd9b6', '#d395d0']\n",
    "wedgeprops={'width': 0.7, 'edgecolor': 'w', 'linewidth': 5}\n",
    "\n",
    "plt.pie(ratio, labels=labels, autopct='%.1f%%', startangle=260, counterclock=False, colors=colors, wedgeprops=wedgeprops)\n",
    "plt.show()"
   ]
  },
  {
   "cell_type": "code",
   "execution_count": null,
   "metadata": {},
   "outputs": [],
   "source": [
    "score = pd.read_csv(\"data/score.csv\", index_col=\"name\")\n",
    "display(score)"
   ]
  },
  {
   "cell_type": "code",
   "execution_count": null,
   "metadata": {},
   "outputs": [],
   "source": [
    "print(score.sum())\n",
    "print(score.T.sum())"
   ]
  },
  {
   "cell_type": "code",
   "execution_count": null,
   "metadata": {},
   "outputs": [],
   "source": [
    "plt.pie(score.T.sum(), labels=score.T.columns.map(lambda x : x+'학생'), autopct='%.1f%%')\n",
    "plt.show()"
   ]
  },
  {
   "cell_type": "code",
   "execution_count": null,
   "metadata": {},
   "outputs": [],
   "source": [
    "plt.pie(score.sum(), labels=score.columns.map(lambda x : x+'과목'), autopct='%.1f%%')\n",
    "plt.show()"
   ]
  },
  {
   "cell_type": "code",
   "execution_count": null,
   "metadata": {},
   "outputs": [],
   "source": [
    "plt.subplot(2,1,1)\n",
    "plt.title('matplotliab 그래프(5)')\n",
    "plt.plot([1,2,3,4,5,6],[10,3,7,4,6,3])\n",
    "plt.subplot(2,1,2)\n",
    "plt.title('matplotliab 그래프(6)')\n",
    "plt.plot([1,2,3,4,5,6],[10,3,7,4,6,3], 'r--', lw=7)\n",
    "#plt.savefig(\"output/case1.png\")\n",
    "plt.show()"
   ]
  },
  {
   "cell_type": "code",
   "execution_count": null,
   "metadata": {},
   "outputs": [],
   "source": [
    "plt.title('matplotliab 그래프(5)')\n",
    "plt.plot([1,2,3,4,5,6],[10,3,7,4,6,3])\n",
    "plt.title('matplotliab 그래프(6)')\n",
    "plt.plot([1,2,3,4,5,6],[10,3,7,4,6,3], 'r--', lw=7)\n",
    "plt.savefig(\"output/case2.png\")\n",
    "plt.show()\n"
   ]
  },
  {
   "cell_type": "code",
   "execution_count": null,
   "metadata": {},
   "outputs": [],
   "source": [
    "plt.figure()\n",
    "plt.title('matplotliab 그래프(5)')\n",
    "plt.plot([1,2,3,4,5,6],[10,3,7,4,6,3])\n",
    "plt.figure()\n",
    "plt.title('matplotliab 그래프(6)')\n",
    "plt.plot([1,2,3,4,5,6],[10,3,7,4,6,3], 'r--', lw=7)\n",
    "plt.savefig(\"output/case3.png\")\n",
    "plt.show()"
   ]
  },
  {
   "cell_type": "code",
   "execution_count": null,
   "metadata": {},
   "outputs": [],
   "source": [
    "plt.figure(figsize=(10,12))\n",
    "plt.subplot(2,1,1)\n",
    "plt.title('matplotliab 그래프(5)')\n",
    "plt.plot([1,2,3,4,5,6],[10,3,7,4,6,3])\n",
    "plt.subplot(2,1,2) \n",
    "plt.title('matplotliab 그래프(6)')\n",
    "plt.plot([1,2,3,4,5,6],[10,3,7,4,6,3], 'r--', lw=7)\n",
    "plt.show()"
   ]
  },
  {
   "cell_type": "code",
   "execution_count": null,
   "metadata": {},
   "outputs": [],
   "source": [
    "plt.subplot(2,1,1)\n",
    "plt.title('matplotliab 그래프(5)')\n",
    "plt.plot([1,2,3,4,5,6],[10,3,7,4,6,3])\n",
    "plt.subplot(2,1,2) # AxesSubplot 객체 리턴\n",
    "plt.subplots_adjust(hspace=1) \n",
    "plt.title('matplotliab 그래프(6)')\n",
    "plt.plot([1,2,3,4,5,6],[10,3,7,4,6,3], 'r--', lw=7)\n",
    "plt.show()"
   ]
  },
  {
   "cell_type": "code",
   "execution_count": null,
   "metadata": {},
   "outputs": [],
   "source": [
    "plt.subplot(1,2,1)\n",
    "plt.title('matplotliab 그래프(7)')\n",
    "plt.plot([1,2,3,4,5,6],[10,3,7,4,6,3], 'yp-.')\n",
    "plt.subplot(1,2,2)\n",
    "plt.title('matplotliab 그래프(8)')\n",
    "plt.plot([1,2,3,4,5,6],[10,3,7,4,6,3], 'r:', lw=7)\n",
    "plt.show()"
   ]
  },
  {
   "cell_type": "code",
   "execution_count": null,
   "metadata": {},
   "outputs": [],
   "source": [
    "plt.figure(figsize=(10,6))\n",
    "\n",
    "plt.subplot(2,2,1)\n",
    "plt.subplot(2,2,2)\n",
    "plt.subplot(2,2,3)\n",
    "plt.subplot(2,2,4)\n",
    "plt.show()"
   ]
  },
  {
   "cell_type": "code",
   "execution_count": null,
   "metadata": {},
   "outputs": [],
   "source": [
    "plt.figure(figsize=(10,6))\n",
    "\n",
    "plt.subplot(2,2,1)\n",
    "plt.subplot(2,2,2)\n",
    "plt.subplot(2,1,2)\n",
    "\n",
    "plt.show()"
   ]
  },
  {
   "cell_type": "code",
   "execution_count": null,
   "metadata": {},
   "outputs": [],
   "source": [
    "import numpy as np\n",
    "import matplotlib.pyplot as plt\n",
    "\n",
    "\n",
    "def f(t):\n",
    "    return np.exp(-t) * np.cos(2*np.pi*t)\n",
    "\n",
    "\n",
    "t1 = np.arange(0.0, 3.0, 0.01)\n",
    "\n",
    "ax1 = plt.subplot(212)\n",
    "ax1.margins(0.05)           # Default margin is 0.05, value 0 means fit\n",
    "ax1.plot(t1, f(t1))\n",
    "\n",
    "ax2 = plt.subplot(221)\n",
    "ax2.margins(2,2)           # Values >0.0 zoom out\n",
    "ax2.plot(t1, f(t1))\n",
    "ax2.set_title('Zoomed out')\n",
    "\n",
    "ax3 = plt.subplot(222)\n",
    "ax3.margins(x=0, y=-0.25)   # Values in (-0.5, 0.0) zooms in to center\n",
    "ax3.plot(t1, f(t1))\n",
    "ax3.set_title('Zoomed in')\n",
    "\n",
    "plt.show()"
   ]
  },
  {
   "cell_type": "code",
   "execution_count": null,
   "metadata": {},
   "outputs": [],
   "source": [
    "t = np.arange(0,5,0.01)\n",
    "\n",
    "plt.figure(figsize=(10,12))\n",
    "\n",
    "plt.subplot(411)\n",
    "plt.plot(t,np.sqrt(t))\n",
    "plt.grid(True)\n",
    "\n",
    "plt.subplot(423)\n",
    "plt.plot(t,t**2)\n",
    "plt.grid(True)\n",
    "\n",
    "plt.subplot(424)\n",
    "plt.plot(t,t**3)\n",
    "plt.grid(True)\n",
    "\n",
    "plt.subplot(413)\n",
    "plt.plot(t,np.sin(t))\n",
    "plt.grid(True)\n",
    "\n",
    "plt.subplot(414)\n",
    "plt.plot(t,np.cos(t))\n",
    "plt.grid(True)\n",
    "\n",
    "plt.show()"
   ]
  },
  {
   "cell_type": "code",
   "execution_count": null,
   "metadata": {},
   "outputs": [],
   "source": [
    "import numpy as np\n",
    "import matplotlib.pyplot as plt\n",
    "\n",
    "x=np.linspace(-3,3,100)\n",
    "y1=np.sin(x)\n",
    "y2=np.cos(x)\n",
    "y3=1/(1+np.exp(-x))\n",
    "y4=np.exp(x)\n",
    "\n",
    "fig, ax = plt.subplots(2, 2)\n",
    "\n",
    "ax[0, 0].plot(x, y1)\n",
    "ax[0, 1].plot(x, y2)\n",
    "ax[1, 0].plot(x, y3)\n",
    "ax[1, 1].plot(x,y4)\n",
    "\n",
    "ax[0, 0].set_title(\"Sine function\")\n",
    "ax[0, 1].set_title(\"Cosine function\")\n",
    "ax[1, 0].set_title(\"Sigmoid function\")\n",
    "ax[1, 1].set_title(\"Exponential function\")\n",
    "\n",
    "plt.show()"
   ]
  },
  {
   "cell_type": "code",
   "execution_count": null,
   "metadata": {},
   "outputs": [],
   "source": [
    "import numpy as np\n",
    "import matplotlib.pyplot as plt\n",
    "\n",
    "x=np.linspace(-3,3,100)\n",
    "y1=np.sin(x)\n",
    "y2=np.cos(x)\n",
    "y3=1/(1+np.exp(-x))\n",
    "y4=np.exp(x)\n",
    "\n",
    "fig, ax = plt.subplots(2, 2, constrained_layout=True)\n",
    "\n",
    "ax[0, 0].plot(x, y1)\n",
    "ax[0, 1].plot(x, y2)\n",
    "ax[1, 0].plot(x, y3)\n",
    "ax[1, 1].plot(x,y4)\n",
    "\n",
    "ax[0, 0].set_title(\"Sine function\")\n",
    "ax[0, 1].set_title(\"Cosine function\")\n",
    "ax[1, 0].set_title(\"Sigmoid function\")\n",
    "ax[1, 1].set_title(\"Exponential function\")\n",
    "\n",
    "plt.show()"
   ]
  },
  {
   "cell_type": "code",
   "execution_count": null,
   "metadata": {},
   "outputs": [],
   "source": [
    "import numpy as np\n",
    "import matplotlib.pyplot as plt\n",
    "\n",
    "x=np.linspace(-3,3,100)\n",
    "y1=np.sin(x)\n",
    "y2=np.cos(x)\n",
    "y3=1/(1+np.exp(-x))\n",
    "y4=np.exp(x)\n",
    "\n",
    "fig, ax = plt.subplots(2, 2)\n",
    "\n",
    "ax[0, 0].plot(x, y1)\n",
    "ax[0, 1].plot(x, y2)\n",
    "ax[1, 0].plot(x, y3)\n",
    "ax[1, 1].plot(x,y4)\n",
    "\n",
    "ax[0, 0].set_title(\"Sine function\")\n",
    "ax[0, 1].set_title(\"Cosine function\")\n",
    "ax[1, 0].set_title(\"Sigmoid function\")\n",
    "ax[1, 1].set_title(\"Exponential function\")\n",
    "\n",
    "plt.subplots_adjust(left=0.125,\n",
    "                    bottom=0.1, \n",
    "                    right=0.9, \n",
    "                    top=0.9, \n",
    "                    wspace=0.2, \n",
    "                    hspace=0.9)\n",
    "\n",
    "plt.show()\n"
   ]
  },
  {
   "cell_type": "code",
   "execution_count": null,
   "metadata": {},
   "outputs": [],
   "source": [
    "x = np.linspace(0, 10, 100)\n",
    "y = np.cos(x)"
   ]
  },
  {
   "cell_type": "code",
   "execution_count": null,
   "metadata": {},
   "outputs": [],
   "source": [
    "fig, axes = plt.subplots(1,2)\n",
    "axes[0].scatter(x, y, marker=\".\")\n",
    "axes[0].text(2,0, \"Example Graph\", style=\"italic\", size=30)\n",
    "axes[1].scatter(x, y, marker=\"*\")\n",
    "axes[1].annotate(\"Sine\", xy=(5,0.5), xytext=(2,0.75),\n",
    "                 arrowprops=dict(arrowstyle=\"simple\"))\n",
    "plt.show()"
   ]
  },
  {
   "cell_type": "code",
   "execution_count": null,
   "metadata": {},
   "outputs": [],
   "source": [
    "fig, axes = plt.subplots(1,2, figsize=(8,3))\n",
    "plt.subplots_adjust(hspace=0.4, wspace=0.3)\n",
    "plt.suptitle(\"Main Title\")\n",
    "axes[0].set_title(\"Title 1\")\n",
    "axes[0].set_xlabel(\"W\")\n",
    "axes[1].set_title(\"Title 2\", loc=\"right\")\n",
    "axes[1].set_xlabel(\"X\")\n",
    "plt.show()"
   ]
  },
  {
   "cell_type": "code",
   "execution_count": null,
   "metadata": {},
   "outputs": [],
   "source": [
    "from matplotlib import pyplot as plt\n",
    "# x,y 축 데이터\n",
    "years = [1950, 1960, 1970, 1980, 1990, 2000, 2010]\n",
    "gdp = [300.2, 543.3, 1075.9, 2862.5, 5979.6, 10289.7, 14958.3]\n",
    "\n",
    "# 표 내부 설정\n",
    "#plt.plot(years, gdp, color='green', marker='o', linestyle='solid')\n",
    "plt.plot(years, gdp, 'go--')\n",
    "\n",
    "# 표 외부 설정\n",
    "plt.title(\"Nominal GDP\", color=\"r\")\n",
    "plt.ylabel(\"Billions of $\")\n",
    "plt.xlabel(\"Years\")\n",
    "\n",
    "# 표 그리기\n",
    "plt.show()\n",
    "# 파일 저장\n",
    "plt.savefig(\"output/hello.png\")"
   ]
  },
  {
   "cell_type": "code",
   "execution_count": null,
   "metadata": {},
   "outputs": [],
   "source": [
    "data = {'a': np.arange(50),\n",
    "        'c': np.random.randint(0, 50, 50),\n",
    "        'd': np.random.randn(50)}\n",
    "data['b'] = data['a'] + 10 * np.random.randn(50)\n",
    "data['d'] = np.abs(data['d']) * 100\n",
    "\n",
    "plt.scatter('a', 'b', c='c', s='d', data=data)\n",
    "plt.xlabel('entry a')\n",
    "plt.ylabel('entry b')\n",
    "plt.show()"
   ]
  },
  {
   "cell_type": "code",
   "execution_count": null,
   "metadata": {},
   "outputs": [],
   "source": [
    "names = ['group_a', 'group_b', 'group_c']\n",
    "values = [1, 10, 100]\n",
    "\n",
    "plt.figure(figsize=(9, 3))\n",
    "\n",
    "plt.subplot(131)\n",
    "plt.bar(names, values)\n",
    "plt.subplot(132)\n",
    "plt.scatter(names, values)\n",
    "plt.subplot(133)\n",
    "plt.plot(names, values)\n",
    "plt.suptitle('Categorical Plotting')\n",
    "plt.show()"
   ]
  },
  {
   "cell_type": "code",
   "execution_count": null,
   "metadata": {},
   "outputs": [],
   "source": [
    "# 예제 4-1\n",
    "import pandas as pd\n",
    "import matplotlib.pyplot as plt\n",
    "\n",
    "# Excel 데이터를 데이터프레임 변환 \n",
    "df = pd.read_excel('data/시도별 전출입 인구수.xlsx', header=0)\n",
    "#df.fillna(0, inplace=True)\n",
    "df.head()"
   ]
  },
  {
   "cell_type": "code",
   "execution_count": null,
   "metadata": {},
   "outputs": [],
   "source": [
    "# 누락값(NaN)을 앞 데이터로 채움 (엑셀 양식 병합 부분)\n",
    "df = df.fillna(method='ffill')\n",
    "display(df)"
   ]
  },
  {
   "cell_type": "code",
   "execution_count": null,
   "metadata": {},
   "outputs": [],
   "source": [
    "# 서울에서 다른 지역으로 이동한 데이터만 추출하여 정리\n",
    "mask = (df['전출지별'] == '서울특별시') & (df['전입지별'] != '서울특별시') \n",
    "df_seoul = df[mask]\n",
    "df_seoul = df_seoul.drop(['전출지별'], axis=1)\n",
    "df_seoul.rename({'전입지별':'전입지'}, axis=1, inplace=True)\n",
    "df_seoul.set_index('전입지', inplace=True)\n",
    "display(df_seoul)"
   ]
  },
  {
   "cell_type": "code",
   "execution_count": null,
   "metadata": {},
   "outputs": [],
   "source": [
    "# 서울에서 경기도로 이동한 인구 데이터 값만 선택 \n",
    "sr_one = df_seoul.loc['경기도']\n",
    "display(sr_one)"
   ]
  },
  {
   "cell_type": "code",
   "execution_count": null,
   "metadata": {},
   "outputs": [],
   "source": [
    "# x, y축 데이터를 plot 함수에 입력\n",
    "plt.plot(sr_one.index, sr_one.values)"
   ]
  },
  {
   "cell_type": "code",
   "execution_count": null,
   "metadata": {},
   "outputs": [],
   "source": [
    "# 판다스 객체를 plot 함수에 입력\n",
    "plt.plot(sr_one)"
   ]
  },
  {
   "cell_type": "code",
   "execution_count": null,
   "metadata": {},
   "outputs": [],
   "source": [
    "# 예제 4-2\n",
    "# 라이브러리 불러오기\n",
    "import pandas as pd\n",
    "import matplotlib.pyplot as plt\n",
    "\n",
    "# Excel 데이터를 데이터프레임 변환 \n",
    "df = pd.read_excel('data/시도별 전출입 인구수.xlsx', header=0)\n",
    "\n",
    "# 전출지별에서 누락값(NaN)을 앞 데이터로 채움 (엑셀 양식 병합 부분)\n",
    "df = df.fillna(method='ffill')\n",
    "\n",
    "# 서울에서 다른 지역으로 이동한 데이터만 추출하여 정리\n",
    "mask = (df['전출지별'] == '서울특별시') & (df['전입지별'] != '서울특별시') \n",
    "df_seoul = df[mask]\n",
    "df_seoul = df_seoul.drop(['전출지별'], axis=1)\n",
    "df_seoul.rename({'전입지별':'전입지'}, axis=1, inplace=True)\n",
    "df_seoul.set_index('전입지', inplace=True)\n",
    "\n",
    "# 서울에서 경기도로 이동한 인구 데이터 값만 선택 \n",
    "sr_one = df_seoul.loc['경기도']\n",
    "\n",
    "# x, y축 데이터를 plot 함수에 입력\n",
    "plt.plot(sr_one.index, sr_one.values)\n",
    "\n",
    "# 차트 제목 추가\n",
    "plt.title('서울 -> 경기 인구 이동')\n",
    "\n",
    "# 축이름 추가\n",
    "plt.xlabel('기간')\n",
    "plt.ylabel('이동 인구수')\n",
    "\n",
    "plt.show()  # 변경사항 저장하고 그래프 출력"
   ]
  },
  {
   "cell_type": "code",
   "execution_count": null,
   "metadata": {},
   "outputs": [],
   "source": [
    "# 예제 4-3\n",
    "# 라이브러리 불러오기\n",
    "import pandas as pd\n",
    "import matplotlib.pyplot as plt\n",
    "\n",
    "# matplotlib 한글 폰트 오류 문제 해결\n",
    "from matplotlib import font_manager, rc\n",
    "font_path = \"data/malgun.ttf\"   #폰트파일의 위치\n",
    "font_name = font_manager.FontProperties(fname=font_path).get_name()\n",
    "rc('font', family=font_name)\n",
    "\n",
    "# Excel 데이터를 데이터프레임 변환 \n",
    "df = pd.read_excel('data/시도별 전출입 인구수.xlsx',  header=0)\n",
    "\n",
    "# 전출지별에서 누락값(NaN)을 앞 데이터로 채움 (엑셀 양식 병합 부분)\n",
    "df = df.fillna(method='ffill')\n",
    "\n",
    "# 서울에서 다른 지역으로 이동한 데이터만 추출하여 정리\n",
    "mask = (df['전출지별'] == '서울특별시') & (df['전입지별'] != '서울특별시') \n",
    "df_seoul = df[mask]\n",
    "df_seoul = df_seoul.drop(['전출지별'], axis=1)\n",
    "df_seoul.rename({'전입지별':'전입지'}, axis=1, inplace=True)\n",
    "df_seoul.set_index('전입지', inplace=True)\n",
    "\n",
    "# 서울에서 경기도로 이동한 인구 데이터 값만 선택\n",
    "sr_one = df_seoul.loc['경기도']\n",
    "\n",
    "# x, y축 데이터를 plot 함수에 입력\n",
    "plt.plot(sr_one.index, sr_one.values)\n",
    "\n",
    "# 차트 제목 추가\n",
    "plt.title('서울 -> 경기 인구 이동')\n",
    "\n",
    "# 축이름 추가\n",
    "plt.xlabel('기간')\n",
    "plt.ylabel('이동 인구수')\n",
    "\n",
    "plt.show()  # 변경사항 저장하고 그래프 출력"
   ]
  },
  {
   "cell_type": "code",
   "execution_count": null,
   "metadata": {},
   "outputs": [],
   "source": [
    "# 예제 4-4\n",
    "# 라이브러리 불러오기\n",
    "import pandas as pd\n",
    "import matplotlib.pyplot as plt\n",
    "\n",
    "# matplotlib 한글 폰트 오류 문제 해결\n",
    "from matplotlib import font_manager, rc\n",
    "font_path = \"data/malgun.ttf\"   #폰트파일의 위치\n",
    "font_name = font_manager.FontProperties(fname=font_path).get_name()\n",
    "rc('font', family=font_name)\n",
    "\n",
    "# Excel 데이터를 데이터프레임 변환 \n",
    "df = pd.read_excel('data/시도별 전출입 인구수.xlsx',  header=0)\n",
    "\n",
    "# 전출지별에서 누락값(NaN)을 앞 데이터로 채움 (엑셀 양식 병합 부분)\n",
    "df = df.fillna(method='ffill')\n",
    "\n",
    "# 서울에서 다른 지역으로 이동한 데이터만 추출하여 정리\n",
    "mask = (df['전출지별'] == '서울특별시') & (df['전입지별'] != '서울특별시') \n",
    "df_seoul = df[mask]\n",
    "df_seoul = df_seoul.drop(['전출지별'], axis=1)\n",
    "df_seoul.rename({'전입지별':'전입지'}, axis=1, inplace=True)\n",
    "df_seoul.set_index('전입지', inplace=True)\n",
    "\n",
    "# 서울에서 경기도로 이동한 인구 데이터 값만 선택\n",
    "sr_one = df_seoul.loc['경기도']\n",
    "\n",
    "# 그림 사이즈 지정(가로 14인치, 세로 5인치)\n",
    "plt.figure(figsize=(14, 5))\n",
    "\n",
    "# x축 눈금 라벨 회전하기\n",
    "plt.xticks(rotation='vertical')\n",
    "\n",
    "# x, y축 데이터를 plot 함수에 입력 \n",
    "plt.plot(sr_one.index, sr_one.values)\n",
    "\n",
    "plt.title('서울 -> 경기 인구 이동')  #차트 제목\n",
    "plt.xlabel('기간')                  #x축 이름\n",
    "plt.ylabel('이동 인구수')           #y축 이름\n",
    "\n",
    "plt.legend(labels=['서울 -> 경기'], loc='best')     #범례 표시\n",
    "\n",
    "plt.show()  # 변경사항 저장하고 그래프 출력"
   ]
  },
  {
   "cell_type": "code",
   "execution_count": null,
   "metadata": {},
   "outputs": [],
   "source": [
    "# 예제 4-5\n",
    "# 라이브러리 불러오기\n",
    "import pandas as pd\n",
    "import matplotlib.pyplot as plt\n",
    "\n",
    "# matplotlib 한글 폰트 오류 문제 해결\n",
    "from matplotlib import font_manager, rc\n",
    "font_path = \"./data/malgun.ttf\"   #폰트파일의 위치\n",
    "font_name = font_manager.FontProperties(fname=font_path).get_name()\n",
    "rc('font', family=font_name)\n",
    "\n",
    "# Excel 데이터를 데이터프레임 변환 \n",
    "df = pd.read_excel('data/시도별 전출입 인구수.xlsx', header=0)\n",
    "\n",
    "# 전출지별에서 누락값(NaN)을 앞 데이터로 채움 (엑셀 양식 병합 부분)\n",
    "df = df.fillna(method='ffill')\n",
    "\n",
    "# 서울에서 다른 지역으로 이동한 데이터만 추출하여 정리\n",
    "mask = (df['전출지별'] == '서울특별시') & (df['전입지별'] != '서울특별시') \n",
    "df_seoul = df[mask]\n",
    "df_seoul = df_seoul.drop(['전출지별'], axis=1)\n",
    "df_seoul.rename({'전입지별':'전입지'}, axis=1, inplace=True)\n",
    "df_seoul.set_index('전입지', inplace=True)\n",
    "\n",
    "# 서울에서 경기도로 이동한 인구 데이터 값만 선택\n",
    "sr_one = df_seoul.loc['경기도']\n",
    "\n",
    "# 스타일 서식 지정\n",
    "plt.style.use('ggplot') \n",
    "\n",
    "# 그림 사이즈 지정\n",
    "plt.figure(figsize=(14, 5))\n",
    "\n",
    "# x축 눈금 라벨 회전하기\n",
    "plt.xticks(size=10, rotation='vertical')\n",
    "\n",
    "# x, y축 데이터를 plot 함수에 입력 \n",
    "plt.plot(sr_one.index, sr_one.values, marker='o', markersize=10)  # 마커 표시 추가\n",
    "\n",
    "plt.title('서울 -> 경기 인구 이동', size=30)  #차트 제목\n",
    "plt.xlabel('기간', size=20)                  #x축 이름\n",
    "plt.ylabel('이동 인구수', size=20)           #y축 이름\n",
    "\n",
    "plt.legend(labels=['서울 -> 경기'], loc='best', fontsize=15)   #범례 표시\n",
    "\n",
    "plt.show()  # 변경사항 저장하고 그래프 출력\n"
   ]
  },
  {
   "cell_type": "code",
   "execution_count": null,
   "metadata": {},
   "outputs": [],
   "source": [
    "# 예제 4-6\n",
    "# 라이브러리 불러오기\n",
    "import matplotlib.pyplot as plt\n",
    "\n",
    "# 스타일 리스트 출력\n",
    "print(plt.style.available)"
   ]
  },
  {
   "cell_type": "code",
   "execution_count": null,
   "metadata": {},
   "outputs": [],
   "source": [
    "# 예제 4-7\n",
    "# 라이브러리 불러오기\n",
    "import pandas as pd\n",
    "import matplotlib.pyplot as plt\n",
    "\n",
    "# matplotlib 한글 폰트 오류 문제 해결\n",
    "from matplotlib import font_manager, rc\n",
    "font_path = \"./data/malgun.ttf\"   #폰트파일의 위치\n",
    "font_name = font_manager.FontProperties(fname=font_path).get_name()\n",
    "rc('font', family=font_name)\n",
    "\n",
    "# Excel 데이터를 데이터프레임 변환 \n",
    "df = pd.read_excel('data/시도별 전출입 인구수.xlsx', header=0)\n",
    "\n",
    "# 전출지별에서 누락값(NaN)을 앞 데이터로 채움 (엑셀 양식 병합 부분)\n",
    "df = df.fillna(method='ffill')\n",
    "\n",
    "# 서울에서 다른 지역으로 이동한 데이터만 추출하여 정리\n",
    "mask = (df['전출지별'] == '서울특별시') & (df['전입지별'] != '서울특별시') \n",
    "df_seoul = df[mask]\n",
    "df_seoul = df_seoul.drop(['전출지별'], axis=1)\n",
    "df_seoul.rename({'전입지별':'전입지'}, axis=1, inplace=True)\n",
    "df_seoul.set_index('전입지', inplace=True)\n",
    "\n",
    "# 서울에서 경기도로 이동한 인구 데이터 값만 선택\n",
    "sr_one = df_seoul.loc['경기도']\n",
    "\n",
    "# 스타일 서식 지정\n",
    "plt.style.use('ggplot') \n",
    "\n",
    "# 그림 사이즈 늘리기\n",
    "plt.figure(figsize=(14, 5))\n",
    "\n",
    "# x축 눈금 라벨 회전하기\n",
    "plt.xticks(size=10, rotation='vertical')\n",
    "\n",
    "# x, y축 데이터를 plot 함수에 입력 \n",
    "plt.plot(sr_one.index, sr_one.values, marker='o', markersize=10)  # 마커 표시 추가\n",
    "\n",
    "plt.title('서울 -> 경기 인구 이동', size=30)  #차트 제목\n",
    "plt.xlabel('기간', size=20)                  #x축 이름\n",
    "plt.ylabel('이동 인구수', size=20)           #y축 이름\n",
    "\n",
    "#범례 표시\n",
    "plt.legend(labels=['서울 -> 경기'], loc='best', fontsize=15)\n",
    "\n",
    "# y축 범위 지정 (최소값, 최대값)\n",
    "plt.ylim(50000, 800000)\n",
    "\n",
    "# 주석 표시 - 화살표\n",
    "plt.annotate('',\n",
    "             xy=(20, 620000),       #화살표의 머리 부분(끝점)\n",
    "             xytext=(2, 290000),    #화살표의 꼬리 부분(시작점)\n",
    "             xycoords='data',       #좌표체계\n",
    "             arrowprops=dict(arrowstyle='->', color='skyblue', lw=5), #화살표 서식\n",
    "             )\n",
    "\n",
    "plt.annotate('',\n",
    "             xy=(47, 450000),       #화살표의 머리 부분(끝점)\n",
    "             xytext=(30, 580000),   #화살표의 꼬리 부분(시작점)\n",
    "             xycoords='data',       #좌표체계\n",
    "             arrowprops=dict(arrowstyle='->', color='olive', lw=5),  #화살표 서식\n",
    "             )\n",
    "\n",
    "# 주석 표시 - 텍스트\n",
    "plt.annotate('인구이동 증가(1970-1995)',  #텍스트 입력\n",
    "             xy=(10, 550000),            #텍스트 위치 기준점\n",
    "             rotation=25,                #텍스트 회전각도\n",
    "             va='baseline',              #텍스트 상하 정렬\n",
    "             ha='center',                #텍스트 좌우 정렬\n",
    "             fontsize=15,                #텍스트 크기\n",
    "             )\n",
    "\n",
    "plt.annotate('인구이동 감소(1995-2017)',  #텍스트 입력\n",
    "             xy=(40, 560000),            #텍스트 위치 기준점\n",
    "             rotation=-11,               #텍스트 회전각도\n",
    "             va='baseline',              #텍스트 상하 정렬\n",
    "             ha='center',                #텍스트 좌우 정렬\n",
    "             fontsize=15,                #텍스트 크기\n",
    "             )\n",
    "\n",
    "plt.show()  # 변경사항 저장하고 그래프 출력\n"
   ]
  },
  {
   "cell_type": "code",
   "execution_count": null,
   "metadata": {},
   "outputs": [],
   "source": [
    "# 예제 4-8\n",
    "# 라이브러리 불러오기\n",
    "import pandas as pd\n",
    "import matplotlib.pyplot as plt\n",
    "\n",
    "# matplotlib 한글 폰트 오류 문제 해결\n",
    "from matplotlib import font_manager, rc\n",
    "font_path = \"./data/malgun.ttf\"   #폰트파일의 위치\n",
    "font_name = font_manager.FontProperties(fname=font_path).get_name()\n",
    "rc('font', family=font_name)\n",
    "\n",
    "# Excel 데이터를 데이터프레임 변환 \n",
    "df = pd.read_excel('data/시도별 전출입 인구수.xlsx', header=0)\n",
    "\n",
    "# 전출지별에서 누락값(NaN)을 앞 데이터로 채움 (엑셀 양식 병합 부분)\n",
    "df = df.fillna(method='ffill')\n",
    "\n",
    "# 서울에서 다른 지역으로 이동한 데이터만 추출하여 정리\n",
    "mask = (df['전출지별'] == '서울특별시') & (df['전입지별'] != '서울특별시') \n",
    "df_seoul = df[mask]\n",
    "df_seoul = df_seoul.drop(['전출지별'], axis=1)\n",
    "df_seoul.rename({'전입지별':'전입지'}, axis=1, inplace=True)\n",
    "df_seoul.set_index('전입지', inplace=True)\n",
    "\n",
    "# 서울에서 경기도로 이동한 인구 데이터 값만 선택\n",
    "sr_one = df_seoul.loc['경기도']\n",
    "\n",
    "# 스타일 서식 지정\n",
    "plt.style.use('ggplot') \n",
    "\n",
    "# 그래프 객체 생성 (figure에 2개의 서브 플롯을 생성)\n",
    "fig = plt.figure(figsize=(10, 10))   \n",
    "ax1 = fig.add_subplot(2, 1, 1)\n",
    "ax2 = fig.add_subplot(2, 1, 2)\n",
    "\n",
    "# axe 객체에 plot 함수로 그래프 출력\n",
    "ax1.plot(sr_one, 'o', markersize=10)\n",
    "ax2.plot(sr_one, marker='o', markerfacecolor='green', markersize=10, \n",
    "         color='olive', linewidth=2, label='서울 -> 경기')\n",
    "ax2.legend(loc='best')\n",
    "\n",
    "#y축 범위 지정 (최소값, 최대값)\n",
    "ax1.set_ylim(50000, 800000)\n",
    "ax2.set_ylim(50000, 800000)\n",
    "\n",
    "# 축 눈금 라벨 지정 및 75도 회전\n",
    "ax1.set_xticklabels(sr_one.index, rotation=75)\n",
    "ax2.set_xticklabels(sr_one.index, rotation=75)\n",
    "\n",
    "plt.show()  # 변경사항 저장하고 그래프 출력"
   ]
  },
  {
   "cell_type": "code",
   "execution_count": null,
   "metadata": {},
   "outputs": [],
   "source": [
    "# 예제 4-9\n",
    "# 라이브러리 불러오기\n",
    "import pandas as pd\n",
    "import matplotlib.pyplot as plt\n",
    "\n",
    "# matplotlib 한글 폰트 오류 문제 해결\n",
    "from matplotlib import font_manager, rc\n",
    "font_path = \"./data/malgun.ttf\"   #폰트파일의 위치\n",
    "font_name = font_manager.FontProperties(fname=font_path).get_name()\n",
    "rc('font', family=font_name)\n",
    "\n",
    "# Excel 데이터를 데이터프레임 변환 \n",
    "df = pd.read_excel('data/시도별 전출입 인구수.xlsx', header=0)\n",
    "\n",
    "# 전출지별에서 누락값(NaN)을 앞 데이터로 채움 (엑셀 양식 병합 부분)\n",
    "df = df.fillna(method='ffill')\n",
    "\n",
    "# 서울에서 다른 지역으로 이동한 데이터만 추출하여 정리\n",
    "mask = (df['전출지별'] == '서울특별시') & (df['전입지별'] != '서울특별시') \n",
    "df_seoul = df[mask]\n",
    "df_seoul = df_seoul.drop(['전출지별'], axis=1)\n",
    "df_seoul.rename({'전입지별':'전입지'}, axis=1, inplace=True)\n",
    "df_seoul.set_index('전입지', inplace=True)\n",
    "\n",
    "# 서울에서 경기도로 이동한 인구 데이터 값만 선택\n",
    "sr_one = df_seoul.loc['경기도']\n",
    "\n",
    "# 스타일 서식 지정\n",
    "plt.style.use('ggplot') \n",
    "\n",
    "# 그래프 객체 생성 (figure에 1개의 서브 플롯을 생성)\n",
    "fig = plt.figure(figsize=(20, 5))   \n",
    "ax = fig.add_subplot(1, 1, 1)\n",
    "\n",
    "# axe 객체에 plot 함수로 그래프 출력\n",
    "ax.plot(sr_one, marker='o', markerfacecolor='orange', markersize=10, \n",
    "        color='olive', linewidth=2, label='서울 -> 경기')\n",
    "ax.legend(loc='best')\n",
    "\n",
    "#y축 범위 지정 (최소값, 최대값)\n",
    "ax.set_ylim(50000, 800000)\n",
    "\n",
    "# 차트 제목 추가\n",
    "ax.set_title('서울 -> 경기 인구 이동', size=20)\n",
    "\n",
    "# 축이름 추가\n",
    "ax.set_xlabel('기간', size=12)\n",
    "ax.set_ylabel('이동 인구수', size = 12)\n",
    "\n",
    "# 축 눈금 라벨 지정 및 75도 회전\n",
    "ax.set_xticklabels(sr_one.index, rotation=75)\n",
    "\n",
    "# 축 눈금 라벨 크기\n",
    "ax.tick_params(axis=\"x\", labelsize=10)\n",
    "ax.tick_params(axis=\"y\", labelsize=10)\n",
    "\n",
    "plt.show()  # 변경사항 저장하고 그래프 출력"
   ]
  },
  {
   "cell_type": "code",
   "execution_count": null,
   "metadata": {},
   "outputs": [],
   "source": [
    "# 예제 4-10\n",
    "# 라이브러리 불러오기\n",
    "import pandas as pd\n",
    "import matplotlib.pyplot as plt\n",
    "\n",
    "# matplotlib 한글 폰트 오류 문제 해결\n",
    "from matplotlib import font_manager, rc\n",
    "font_path = \"./data/malgun.ttf\"   #폰트파일의 위치\n",
    "font_name = font_manager.FontProperties(fname=font_path).get_name()\n",
    "rc('font', family=font_name)\n",
    "\n",
    "# Excel 데이터를 데이터프레임 변환 \n",
    "df = pd.read_excel('data/시도별 전출입 인구수.xlsx', header=0)\n",
    "\n",
    "# 전출지별에서 누락값(NaN)을 앞 데이터로 채움 (엑셀 양식 병합 부분)\n",
    "df = df.fillna(method='ffill')\n",
    "\n",
    "# 서울에서 다른 지역으로 이동한 데이터만 추출하여 정리\n",
    "mask = (df['전출지별'] == '서울특별시') & (df['전입지별'] != '서울특별시') \n",
    "df_seoul = df[mask]\n",
    "df_seoul = df_seoul.drop(['전출지별'], axis=1)\n",
    "df_seoul.rename({'전입지별':'전입지'}, axis=1, inplace=True)\n",
    "df_seoul.set_index('전입지', inplace=True)\n",
    "\n",
    "# 서울에서 '충청남도','경상북도', '강원도'로 이동한 인구 데이터 값만 선택\n",
    "col_years = list(map(str, range(1970, 2018)))\n",
    "df_3 = df_seoul.loc[['충청남도','경상북도', '강원도'], col_years]\n",
    "\n",
    "# 스타일 서식 지정\n",
    "plt.style.use('ggplot') \n",
    "\n",
    "# 그래프 객체 생성 (figure에 1개의 서브 플롯을 생성)\n",
    "fig = plt.figure(figsize=(20, 5))   \n",
    "ax = fig.add_subplot(1, 1, 1)\n",
    "\n",
    "# axe 객체에 plot 함수로 그래프 출력\n",
    "ax.plot(col_years, df_3.loc['충청남도',:], marker='o', markerfacecolor='green', \n",
    "        markersize=10, color='olive', linewidth=2, label='서울 -> 충남')\n",
    "ax.plot(col_years, df_3.loc['경상북도',:], marker='o', markerfacecolor='blue', \n",
    "        markersize=10, color='skyblue', linewidth=2, label='서울 -> 경북')\n",
    "ax.plot(col_years, df_3.loc['강원도',:], marker='o', markerfacecolor='red', \n",
    "        markersize=10, color='magenta', linewidth=2, label='서울 -> 강원')\n",
    "\n",
    "# 범례 표시\n",
    "ax.legend(loc='best')\n",
    "\n",
    "# 차트 제목 추가\n",
    "ax.set_title('서울 -> 충남, 경북, 강원 인구 이동', size=20)\n",
    "\n",
    "# 축이름 추가\n",
    "ax.set_xlabel('기간', size=12)\n",
    "ax.set_ylabel('이동 인구수', size = 12)\n",
    "\n",
    "# 축 눈금 라벨 지정 및 90도 회전\n",
    "ax.set_xticklabels(col_years, rotation=90)\n",
    "\n",
    "# 축 눈금 라벨 크기\n",
    "ax.tick_params(axis=\"x\", labelsize=10)\n",
    "ax.tick_params(axis=\"y\", labelsize=10)\n",
    "\n",
    "plt.show()  # 변경사항 저장하고 그래프 출력"
   ]
  },
  {
   "cell_type": "code",
   "execution_count": null,
   "metadata": {},
   "outputs": [],
   "source": [
    "# 예제 4-11\n",
    "# 라이브러리 불러오기\n",
    "import pandas as pd\n",
    "import matplotlib.pyplot as plt\n",
    "\n",
    "# matplotlib 한글 폰트 오류 문제 해결\n",
    "from matplotlib import font_manager, rc\n",
    "font_path = \"./data/malgun.ttf\"   #폰트파일의 위치\n",
    "font_name = font_manager.FontProperties(fname=font_path).get_name()\n",
    "rc('font', family=font_name)\n",
    "\n",
    "# Excel 데이터를 데이터프레임 변환 \n",
    "df = pd.read_excel('data/시도별 전출입 인구수.xlsx', header=0)\n",
    "\n",
    "# 전출지별에서 누락값(NaN)을 앞 데이터로 채움 (엑셀 양식 병합 부분)\n",
    "df = df.fillna(method='ffill')\n",
    "\n",
    "# 서울에서 다른 지역으로 이동한 데이터만 추출하여 정리\n",
    "mask = (df['전출지별'] == '서울특별시') & (df['전입지별'] != '서울특별시') \n",
    "df_seoul = df[mask]\n",
    "df_seoul = df_seoul.drop(['전출지별'], axis=1)\n",
    "df_seoul.rename({'전입지별':'전입지'}, axis=1, inplace=True)\n",
    "df_seoul.set_index('전입지', inplace=True)\n",
    "\n",
    "# 서울에서 '충청남도','경상북도', '강원도', '전라남도'로 이동한 인구 데이터 값만 선택\n",
    "col_years = list(map(str, range(1970, 2018)))\n",
    "df_4 = df_seoul.loc[['충청남도','경상북도', '강원도', '전라남도'], col_years]\n",
    "\n",
    "# 스타일 서식 지정\n",
    "plt.style.use('ggplot') \n",
    "\n",
    "# 그래프 객체 생성 (figure에 1개의 서브 플롯을 생성)\n",
    "fig = plt.figure(figsize=(20, 10))   \n",
    "ax1 = fig.add_subplot(2, 2, 1)\n",
    "ax2 = fig.add_subplot(2, 2, 2)\n",
    "ax3 = fig.add_subplot(2, 2, 3)\n",
    "ax4 = fig.add_subplot(2, 2, 4)\n",
    "\n",
    "# axe 객체에 plot 함수로 그래프 출력\n",
    "ax1.plot(col_years, df_4.loc['충청남도',:], marker='o', markerfacecolor='green', \n",
    "        markersize=10, color='olive', linewidth=2, label='서울 -> 충남')\n",
    "ax2.plot(col_years, df_4.loc['경상북도',:], marker='o', markerfacecolor='blue', \n",
    "        markersize=10, color='skyblue', linewidth=2, label='서울 -> 경북')\n",
    "ax3.plot(col_years, df_4.loc['강원도',:], marker='o', markerfacecolor='red', \n",
    "        markersize=10, color='magenta', linewidth=2, label='서울 -> 강원')\n",
    "ax4.plot(col_years, df_4.loc['전라남도',:], marker='o', markerfacecolor='orange', \n",
    "        markersize=10, color='yellow', linewidth=2, label='서울 -> 전남')\n",
    "\n",
    "# 범례 표시\n",
    "ax1.legend(loc='best')\n",
    "ax2.legend(loc='best')\n",
    "ax3.legend(loc='best')\n",
    "ax4.legend(loc='best')\n",
    "\n",
    "# 차트 제목 추가\n",
    "ax1.set_title('서울 -> 충남 인구 이동', size=15)\n",
    "ax2.set_title('서울 -> 경북 인구 이동', size=15)\n",
    "ax3.set_title('서울 -> 강원 인구 이동', size=15)\n",
    "ax4.set_title('서울 -> 전남 인구 이동', size=15)\n",
    "\n",
    "# 축 눈금 라벨 지정 및 90도 회전\n",
    "ax1.set_xticklabels(col_years, rotation=90)\n",
    "ax2.set_xticklabels(col_years, rotation=90)\n",
    "ax3.set_xticklabels(col_years, rotation=90)\n",
    "ax4.set_xticklabels(col_years, rotation=90)\n",
    "\n",
    "plt.show()  # 변경사항 저장하고 그래프 출력"
   ]
  },
  {
   "cell_type": "code",
   "execution_count": null,
   "metadata": {},
   "outputs": [],
   "source": [
    "# 예제 4-12\n",
    "# 라이브러리 불러오기\n",
    "import matplotlib\n",
    "\n",
    "# 컬러 정보를 담을 빈 딕셔너리 생성\n",
    "colors={}\n",
    "\n",
    "# 컬러 이름과 헥사코드 확인하여 딕셔서리에 입력\n",
    "for name, hex in matplotlib.colors.cnames.items():\n",
    "\tcolors[name] = hex\n",
    "\n",
    "# 딕셔너리 출력    \n",
    "print(colors)"
   ]
  },
  {
   "cell_type": "code",
   "execution_count": null,
   "metadata": {},
   "outputs": [],
   "source": [
    "# 예제 4-13\n",
    "# 라이브러리 불러오기\n",
    "import pandas as pd\n",
    "import matplotlib.pyplot as plt\n",
    "\n",
    "# matplotlib 한글 폰트 오류 문제 해결\n",
    "from matplotlib import font_manager, rc\n",
    "font_path = \"./data/malgun.ttf\"   #폰트파일의 위치\n",
    "font_name = font_manager.FontProperties(fname=font_path).get_name()\n",
    "rc('font', family=font_name)\n",
    "\n",
    "# Excel 데이터를 데이터프레임 변환 \n",
    "df = pd.read_excel('data/시도별 전출입 인구수.xlsx', header=0)\n",
    "\n",
    "# 전출지별에서 누락값(NaN)을 앞 데이터로 채움 (엑셀 양식 병합 부분)\n",
    "df = df.fillna(method='ffill')\n",
    "\n",
    "# 서울에서 다른 지역으로 이동한 데이터만 추출하여 정리\n",
    "mask = (df['전출지별'] == '서울특별시') & (df['전입지별'] != '서울특별시') \n",
    "df_seoul = df[mask]\n",
    "df_seoul = df_seoul.drop(['전출지별'], axis=1)\n",
    "df_seoul.rename({'전입지별':'전입지'}, axis=1, inplace=True)\n",
    "df_seoul.set_index('전입지', inplace=True)\n",
    "\n",
    "# 서울에서 '충청남도','경상북도', '강원도', '전라남도'로 이동한 인구 데이터 값만 선택\n",
    "col_years = list(map(str, range(1970, 2018)))\n",
    "df_4 = df_seoul.loc[['충청남도','경상북도', '강원도', '전라남도'], col_years]\n",
    "df_4 = df_4.transpose()\n",
    "\n",
    "# 스타일 서식 지정\n",
    "plt.style.use('ggplot') \n",
    "\n",
    "# 데이터프레임의 인덱스를 정수형으로 변경 (x축 눈금 라벨 표시)\n",
    "df_4.index = df_4.index.map(int)\n",
    "\n",
    "# 면적 그래프 그리기\n",
    "df_4.plot(kind='area', stacked=False, alpha=0.2, figsize=(20, 10))\n",
    "\n",
    "plt.title('서울 -> 타시도 인구 이동', size=30)\n",
    "plt.ylabel('이동 인구 수', size=20)\n",
    "plt.xlabel('기간', size=20)\n",
    "plt.legend(loc='best', fontsize=15)\n",
    "\n",
    "plt.show()"
   ]
  },
  {
   "cell_type": "code",
   "execution_count": null,
   "metadata": {},
   "outputs": [],
   "source": [
    "# 예제 4-14\n",
    "# 라이브러리 불러오기\n",
    "import pandas as pd\n",
    "import matplotlib.pyplot as plt\n",
    "\n",
    "# matplotlib 한글 폰트 오류 문제 해결\n",
    "from matplotlib import font_manager, rc\n",
    "font_path = \"data/malgun.ttf\"   #폰트파일의 위치\n",
    "font_name = font_manager.FontProperties(fname=font_path).get_name()\n",
    "rc('font', family=font_name)\n",
    "\n",
    "# Excel 데이터를 데이터프레임 변환 \n",
    "df = pd.read_excel('data/시도별 전출입 인구수.xlsx', header=0)\n",
    "\n",
    "# 전출지별에서 누락값(NaN)을 앞 데이터로 채움 (엑셀 양식 병합 부분)\n",
    "df = df.fillna(method='ffill')\n",
    "\n",
    "# 서울에서 다른 지역으로 이동한 데이터만 추출하여 정리\n",
    "mask = (df['전출지별'] == '서울특별시') & (df['전입지별'] != '서울특별시') \n",
    "df_seoul = df[mask]\n",
    "df_seoul = df_seoul.drop(['전출지별'], axis=1)\n",
    "df_seoul.rename({'전입지별':'전입지'}, axis=1, inplace=True)\n",
    "df_seoul.set_index('전입지', inplace=True)\n",
    "\n",
    "# 서울에서 '충청남도','경상북도', '강원도', '전라남도'로 이동한 인구 데이터 값만 선택\n",
    "col_years = list(map(str, range(1970, 2018)))\n",
    "df_4 = df_seoul.loc[['충청남도','경상북도', '강원도', '전라남도'], col_years]\n",
    "df_4 = df_4.transpose()\n",
    "\n",
    "# 스타일 서식 지정\n",
    "plt.style.use('ggplot') \n",
    "\n",
    "# 데이터프레임의 인덱스를 정수형으로 변경 (x축 눈금 라벨 표시)\n",
    "df_4.index = df_4.index.map(int)\n",
    "\n",
    "# 면적 그래프 그리기\n",
    "df_4.plot(kind='area', stacked=True, alpha=0.2, figsize=(20, 10))\n",
    "\n",
    "plt.title('서울 -> 타시도 인구 이동', size=30)\n",
    "plt.ylabel('이동 인구 수', size=20)\n",
    "plt.xlabel('기간', size=20)\n",
    "plt.legend(loc='best', fontsize=15)\n",
    "\n",
    "plt.show()"
   ]
  },
  {
   "cell_type": "code",
   "execution_count": null,
   "metadata": {},
   "outputs": [],
   "source": [
    "# 예제 4-15\n",
    "# 라이브러리 불러오기\n",
    "import pandas as pd\n",
    "import matplotlib.pyplot as plt\n",
    "\n",
    "# matplotlib 한글 폰트 오류 문제 해결\n",
    "from matplotlib import font_manager, rc\n",
    "font_path = \"data/malgun.ttf\"   #폰트파일의 위치\n",
    "font_name = font_manager.FontProperties(fname=font_path).get_name()\n",
    "rc('font', family=font_name)\n",
    "\n",
    "# Excel 데이터를 데이터프레임 변환 \n",
    "df = pd.read_excel('data/시도별 전출입 인구수.xlsx', header=0)\n",
    "\n",
    "# 전출지별에서 누락값(NaN)을 앞 데이터로 채움 (엑셀 양식 병합 부분)\n",
    "df = df.fillna(method='ffill')\n",
    "\n",
    "# 서울에서 다른 지역으로 이동한 데이터만 추출하여 정리\n",
    "mask = (df['전출지별'] == '서울특별시') & (df['전입지별'] != '서울특별시') \n",
    "df_seoul = df[mask]\n",
    "df_seoul = df_seoul.drop(['전출지별'], axis=1)\n",
    "df_seoul.rename({'전입지별':'전입지'}, axis=1, inplace=True)\n",
    "df_seoul.set_index('전입지', inplace=True)\n",
    "\n",
    "# 서울에서 '충청남도','경상북도', '강원도', '전라남도'로 이동한 인구 데이터 값만 선택\n",
    "col_years = list(map(str, range(1970, 2018)))\n",
    "df_4 = df_seoul.loc[['충청남도','경상북도', '강원도', '전라남도'], col_years]\n",
    "df_4 = df_4.transpose()\n",
    "\n",
    "# 스타일 서식 지정\n",
    "plt.style.use('ggplot') \n",
    "\n",
    "# 데이터프레임의 인덱스를 정수형으로 변경 (x축 눈금 라벨 표시)\n",
    "df_4.index = df_4.index.map(int)\n",
    "\n",
    "# 면적 그래프 axe 객체 생성\n",
    "ax = df_4.plot(kind='area', stacked=True, alpha=0.2, figsize=(20, 10))\n",
    "print(type(ax))\n",
    "\n",
    "# axe 객체 설정 변경\n",
    "ax.set_title('서울 -> 타시도 인구 이동', size=30, color='brown', weight='bold')\n",
    "ax.set_ylabel('이동 인구 수', size=20, color='blue')\n",
    "ax.set_xlabel('기간', size=20, color='blue')\n",
    "ax.legend(loc='best', fontsize=15)\n",
    "\n",
    "plt.show()"
   ]
  },
  {
   "cell_type": "code",
   "execution_count": null,
   "metadata": {},
   "outputs": [],
   "source": [
    "# 예제 4-16\n",
    "# 라이브러리 불러오기\n",
    "import pandas as pd\n",
    "import matplotlib.pyplot as plt\n",
    "\n",
    "# matplotlib 한글 폰트 오류 문제 해결\n",
    "from matplotlib import font_manager, rc\n",
    "font_path = \"data/malgun.ttf\"   #폰트파일의 위치\n",
    "font_name = font_manager.FontProperties(fname=font_path).get_name()\n",
    "rc('font', family=font_name)\n",
    "\n",
    "# Excel 데이터를 데이터프레임 변환 \n",
    "df = pd.read_excel('data/시도별 전출입 인구수.xlsx', header=0)\n",
    "\n",
    "# 전출지별에서 누락값(NaN)을 앞 데이터로 채움 (엑셀 양식 병합 부분)\n",
    "df = df.fillna(method='ffill')\n",
    "\n",
    "# 서울에서 다른 지역으로 이동한 데이터만 추출하여 정리\n",
    "mask = (df['전출지별'] == '서울특별시') & (df['전입지별'] != '서울특별시') \n",
    "df_seoul = df[mask]\n",
    "df_seoul = df_seoul.drop(['전출지별'], axis=1)\n",
    "df_seoul.rename({'전입지별':'전입지'}, axis=1, inplace=True)\n",
    "df_seoul.set_index('전입지', inplace=True)\n",
    "\n",
    "# 서울에서 '충청남도','경상북도', '강원도', '전라남도'로 이동한 인구 데이터 값만 선택\n",
    "col_years = list(map(str, range(2010, 2018)))     \n",
    "df_4 = df_seoul.loc[['충청남도','경상북도', '강원도', '전라남도'], col_years]\n",
    "df_4 = df_4.transpose()\n",
    "display(df_4)\n",
    "# 스타일 서식 지정\n",
    "plt.style.use('ggplot') \n",
    "\n",
    "# 데이터프레임의 인덱스를 정수형으로 변경 (x축 눈금 라벨 표시)\n",
    "df_4.index = df_4.index.map(int)\n",
    "\n",
    "# 막대 그래프 그리기\n",
    "df_4.plot(kind='bar', figsize=(20, 10), width=0.7,\n",
    "          color=['orange', 'green', 'skyblue', 'blue'])\n",
    "\n",
    "plt.title('서울 -> 타시도 인구 이동', size=30)\n",
    "plt.ylabel('이동 인구 수', size=20)\n",
    "plt.xlabel('기간', size=20)\n",
    "plt.ylim(5000, 30000)\n",
    "plt.legend(loc='best', fontsize=15)\n",
    "\n",
    "plt.show()\n"
   ]
  },
  {
   "cell_type": "code",
   "execution_count": null,
   "metadata": {},
   "outputs": [],
   "source": [
    "# 예제 4-17\n",
    "# 라이브러리 불러오기\n",
    "import pandas as pd\n",
    "import matplotlib.pyplot as plt\n",
    "\n",
    "# matplotlib 한글 폰트 오류 문제 해결\n",
    "from matplotlib import font_manager, rc\n",
    "font_path = \"data/malgun.ttf\"   #폰트파일의 위치\n",
    "font_name = font_manager.FontProperties(fname=font_path).get_name()\n",
    "rc('font', family=font_name)\n",
    "\n",
    "# Excel 데이터를 데이터프레임 변환 \n",
    "df = pd.read_excel('data/시도별 전출입 인구수.xlsx', header=0)\n",
    "\n",
    "# 전출지별에서 누락값(NaN)을 앞 데이터로 채움 (엑셀 양식 병합 부분)\n",
    "df = df.fillna(method='ffill')\n",
    "\n",
    "# 서울에서 다른 지역으로 이동한 데이터만 추출하여 정리\n",
    "mask = (df['전출지별'] == '서울특별시') & (df['전입지별'] != '서울특별시') \n",
    "df_seoul = df[mask]\n",
    "df_seoul = df_seoul.drop(['전출지별'], axis=1)\n",
    "df_seoul.rename({'전입지별':'전입지'}, axis=1, inplace=True)\n",
    "df_seoul.set_index('전입지', inplace=True)\n",
    "\n",
    "# 서울에서 '충청남도','경상북도', '강원도', '전라남도'로 이동한 인구 데이터 값만 선택\n",
    "col_years = list(map(str, range(2010, 2018)))\n",
    "df_4 = df_seoul.loc[['충청남도','경상북도', '강원도', '전라남도'], col_years]\n",
    "\n",
    "# 2010-2017년 이동 인구 수를 합계하여 새로운 열로 추가\n",
    "df_4['합계'] = df_4.sum(axis=1)\n",
    "\n",
    "# 가장 큰 값부터 정렬\n",
    "df_total = df_4[['합계']].sort_values(by='합계', ascending=True)\n",
    "\n",
    "# 스타일 서식 지정\n",
    "plt.style.use('ggplot') \n",
    "\n",
    "# 수평 막대 그래프 그리기\n",
    "df_total.plot(kind='barh', color='cornflowerblue', width=0.5, figsize=(10, 5))\n",
    "\n",
    "plt.title('서울 -> 타시도 인구 이동')\n",
    "plt.ylabel('전입지')\n",
    "plt.xlabel('이동 인구 수')\n",
    "\n",
    "plt.show()\n"
   ]
  },
  {
   "cell_type": "code",
   "execution_count": null,
   "metadata": {},
   "outputs": [],
   "source": [
    "# 예제 4-18\n",
    "# 라이브러리 불러오기\n",
    "import pandas as pd\n",
    "import matplotlib.pyplot as plt\n",
    "\n",
    "# matplotlib 한글 폰트 오류 문제 해결\n",
    "from matplotlib import font_manager, rc\n",
    "font_path = \"data/malgun.ttf\"   #폰트파일의 위치\n",
    "font_name = font_manager.FontProperties(fname=font_path).get_name()\n",
    "rc('font', family=font_name)\n",
    "\n",
    "plt.style.use('ggplot')   # 스타일 서식 지정\n",
    "plt.rcParams['axes.unicode_minus']=False   # 마이너스 부호 출력 설정\n",
    "\n",
    "# Excel 데이터를 데이터프레임 변환 \n",
    "df = pd.read_excel('data/남북한발전전력량.xlsx', convert_float=True)\n",
    "df = df.loc[5:9]\n",
    "df.drop('전력량 (억㎾h)', axis='columns', inplace=True)\n",
    "df.set_index('발전 전력별', inplace=True)\n",
    "df = df.T \n",
    "\n",
    "# 증감율(변동률) 계산\n",
    "df = df.rename(columns={'합계':'총발전량'})\n",
    "df['총발전량 - 1년'] = df['총발전량'].shift(1)\n",
    "df['증감율'] = ((df['총발전량'] / df['총발전량 - 1년']) - 1) * 100      \n",
    "\n",
    "# 2축 그래프 그리기\n",
    "ax1 = df[['수력','화력']].plot(kind='bar', figsize=(20, 10), width=0.7, stacked=True)  \n",
    "ax2 = ax1.twinx()\n",
    "ax2.plot(df.index, df.증감율, ls='--', marker='o', markersize=20, \n",
    "         color='green', label='전년대비 증감율(%)')  \n",
    "\n",
    "ax1.set_ylim(0, 500)\n",
    "ax2.set_ylim(-50, 50)\n",
    "\n",
    "ax1.set_xlabel('연도', size=20)\n",
    "ax1.set_ylabel('발전량(억 KWh)')\n",
    "ax2.set_ylabel('전년 대비 증감율(%)')\n",
    "\n",
    "plt.title('북한 전력 발전량 (1990 ~ 2016)', size=30)\n",
    "ax1.legend(loc='upper left')\n",
    "\n",
    "plt.show()"
   ]
  },
  {
   "cell_type": "code",
   "execution_count": null,
   "metadata": {},
   "outputs": [],
   "source": [
    "# 예제 4-19\n",
    "# 라이브러리 불러오기\n",
    "import pandas as pd\n",
    "import matplotlib.pyplot as plt\n",
    "\n",
    "plt.style.use('classic')   # 스타일 서식 지정\n",
    "\n",
    "# read_csv() 함수로 df 생성\n",
    "df = pd.read_csv('data/auto-mpg.csv', header=None)\n",
    "\n",
    "# 열 이름을 지정\n",
    "df.columns = ['mpg','cylinders','displacement','horsepower','weight',\n",
    "              'acceleration','model year','origin','name']\n",
    "\n",
    "# 연비(mpg) 열에 대한 히스토그램 그리기\n",
    "df['mpg'].plot(kind='hist', bins=10, color='coral', figsize=(10, 5))\n",
    "\n",
    "# 그래프 꾸미기\n",
    "plt.title('Histogram')\n",
    "plt.xlabel('mpg')\n",
    "plt.show()"
   ]
  },
  {
   "cell_type": "code",
   "execution_count": null,
   "metadata": {},
   "outputs": [],
   "source": [
    "# 예제 4-20\n",
    "# 라이브러리 불러오기\n",
    "import pandas as pd\n",
    "import matplotlib.pyplot as plt\n",
    "\n",
    "plt.style.use('default')   # 스타일 서식 지정\n",
    "\n",
    "# read_csv() 함수로 df 생성\n",
    "df = pd.read_csv('data/auto-mpg.csv', header=None)\n",
    "\n",
    "# 열 이름을 지정\n",
    "df.columns = ['mpg','cylinders','displacement','horsepower','weight',\n",
    "              'acceleration','model year','origin','name']\n",
    "\n",
    "# 연비(mpg)와 차중(weight) 열에 대한 산점도 그리기\n",
    "df.plot(kind='scatter', x='weight', y='mpg',  c='coral', s=10, figsize=(10, 5))\n",
    "plt.title('Scatter Plot - mpg vs. weight')\n",
    "plt.show()"
   ]
  },
  {
   "cell_type": "code",
   "execution_count": null,
   "metadata": {},
   "outputs": [],
   "source": [
    "# 예제 4-21\n",
    "# 라이브러리 불러오기\n",
    "import pandas as pd\n",
    "import matplotlib.pyplot as plt\n",
    "\n",
    "plt.style.use('default')   # 스타일 서식 지정\n",
    "\n",
    "# read_csv() 함수로 df 생성\n",
    "df = pd.read_csv('data/auto-mpg.csv', header=None)\n",
    "\n",
    "# 열 이름을 지정\n",
    "df.columns = ['mpg','cylinders','displacement','horsepower','weight',\n",
    "              'acceleration','model year','origin','name']\n",
    "\n",
    "# cylinders 개수의 상대적 비율을 계산하여 시리즈 생성\n",
    "cylinders_size = df.cylinders / df.cylinders.max() * 300\n",
    "\n",
    "# 3개의 변수로 산점도 그리기 \n",
    "df.plot(kind='scatter', x='weight', y='mpg', c='coral', figsize=(10, 5),\n",
    "        s=cylinders_size, alpha=0.3)\n",
    "plt.title('Scatter Plot: mpg-weight-cylinders')\n",
    "plt.show()"
   ]
  },
  {
   "cell_type": "code",
   "execution_count": null,
   "metadata": {},
   "outputs": [],
   "source": [
    "# 예제 4-22\n",
    "# 라이브러리 불러오기\n",
    "import pandas as pd\n",
    "import matplotlib.pyplot as plt\n",
    "\n",
    "plt.style.use('default')   # 스타일 서식 지정\n",
    "\n",
    "# read_csv() 함수로 df 생성\n",
    "df = pd.read_csv('data/auto-mpg.csv', header=None)\n",
    "\n",
    "# 열 이름을 지정\n",
    "df.columns = ['mpg','cylinders','displacement','horsepower','weight',\n",
    "              'acceleration','model year','origin','name']\n",
    "\n",
    "# cylinders 개수의 상대적 비율을 계산하여 시리즈 생성\n",
    "cylinders_size = df.cylinders / df.cylinders.max() * 300\n",
    "\n",
    "# 3개의 변수로 산점도 그리기 \n",
    "df.plot(kind='scatter', x='weight', y='mpg', marker='+', figsize=(10, 5),\n",
    "        cmap='viridis', c=cylinders_size, s=50, alpha=0.3)\n",
    "plt.title('Scatter Plot: mpg-weight-cylinders')\n",
    "\n",
    "plt.savefig(\"output/scatter.png\")   \n",
    "plt.savefig(\"output/scatter_transparent.png\", transparent=True)   \n",
    "\n",
    "plt.show()"
   ]
  },
  {
   "cell_type": "code",
   "execution_count": null,
   "metadata": {},
   "outputs": [],
   "source": [
    "# 예제 4-23\n",
    "# 라이브러리 불러오기\n",
    "import pandas as pd\n",
    "import matplotlib.pyplot as plt\n",
    "\n",
    "# read_csv() 함수로 df 생성\n",
    "df = pd.read_csv('data/auto-mpg.csv', header=None)\n",
    "\n",
    "plt.style.use('default')   # 스타일 서식 지정\n",
    "\n",
    "# 열 이름을 지정\n",
    "df.columns = ['mpg','cylinders','displacement','horsepower','weight',\n",
    "              'acceleration','model year','origin','name']\n",
    "\n",
    "# 데이터 개수 카운트를 위해 값 1을 가진 열을 추가\n",
    "df['count'] = 1\n",
    "df_origin = df.groupby('origin').sum()   # origin 열을 기준으로 그룹화, 합계 연산\n",
    "print(df_origin.head())                  # 그룹 연산 결과 출력\n",
    "\n",
    "# 제조국가(origin) 값을 실제 지역명으로 변경\n",
    "df_origin.index = ['USA', 'EU', 'JAPAN']\n",
    "\n",
    "# 제조국가(origin) 열에 대한 파이 차트 그리기 – count 열 데이터 사용\n",
    "df_origin['count'].plot(kind='pie', \n",
    "                     figsize=(7, 5),\n",
    "                     autopct='%1.1f%%',   # 퍼센트 % 표시\n",
    "                     startangle=10,       # 파이 조각을 나누는 시작점(각도 표시)\n",
    "                     colors=['chocolate', 'bisque', 'cadetblue']    # 색상 리스트\n",
    "                     )\n",
    "\n",
    "plt.title('Model Origin', size=20)\n",
    "plt.axis('equal')    # 파이 차트의 비율을 같게 (원에 가깝게) 조정\n",
    "plt.legend(labels=df_origin.index, loc='upper right')   # 범례 표시\n",
    "plt.show()"
   ]
  },
  {
   "cell_type": "code",
   "execution_count": null,
   "metadata": {},
   "outputs": [],
   "source": [
    "# 예제 4-24\n",
    "# 라이브러리 불러오기\n",
    "import pandas as pd\n",
    "import matplotlib.pyplot as plt\n",
    "\n",
    "# matplotlib 한글 폰트 오류 문제 해결\n",
    "from matplotlib import font_manager, rc\n",
    "font_path = \"data/malgun.ttf\"   #폰트파일의 위치\n",
    "font_name = font_manager.FontProperties(fname=font_path).get_name()\n",
    "rc('font', family=font_name)\n",
    "\n",
    "plt.style.use('seaborn-poster')            # 스타일 서식 지정\n",
    "plt.rcParams['axes.unicode_minus']=False   # 마이너스 부호 출력 설정\n",
    "\n",
    "# read_csv() 함수로 df 생성\n",
    "df = pd.read_csv('data/auto-mpg.csv', header=None)\n",
    "\n",
    "# 열 이름을 지정\n",
    "df.columns = ['mpg','cylinders','displacement','horsepower','weight',\n",
    "              'acceleration','model year','origin','name']\n",
    "\n",
    "# 그래프 객체 생성 (figure에 2개의 서브 플롯을 생성)\n",
    "fig = plt.figure(figsize=(15, 5))   \n",
    "ax1 = fig.add_subplot(1, 2, 1)\n",
    "ax2 = fig.add_subplot(1, 2, 2)\n",
    "\n",
    "# axe 객체에 boxplot 메서드로 그래프 출력\n",
    "ax1.boxplot(x=[df[df['origin']==1]['mpg'],\n",
    "               df[df['origin']==2]['mpg'],\n",
    "               df[df['origin']==3]['mpg']], \n",
    "         labels=['USA', 'EU', 'JAPAN'])\n",
    "\n",
    "ax2.boxplot(x=[df[df['origin']==1]['mpg'],\n",
    "               df[df['origin']==2]['mpg'],\n",
    "               df[df['origin']==3]['mpg']], \n",
    "         labels=['USA', 'EU', 'JAPAN'],\n",
    "         vert=False)\n",
    "\n",
    "ax1.set_title('제조국가별 연비 분포(수직 박스 플롯)')\n",
    "ax2.set_title('제조국가별 연비 분포(수평 박스 플롯)')\n",
    "\n",
    "plt.show()"
   ]
  },
  {
   "cell_type": "markdown",
   "metadata": {},
   "source": [
    "## Matplotlib의 칼라맵\n",
    "\n"
   ]
  },
  {
   "cell_type": "code",
   "execution_count": 4,
   "metadata": {},
   "outputs": [
    {
     "name": "stdout",
     "output_type": "stream",
     "text": [
      "3.3.4\n"
     ]
    }
   ],
   "source": [
    "import matplotlib.pyplot as plt\n",
    "import matplotlib\n",
    "import seaborn as sns\n",
    "print(matplotlib.__version__)"
   ]
  },
  {
   "cell_type": "code",
   "execution_count": 5,
   "metadata": {},
   "outputs": [
    {
     "data": {
      "text/plain": [
       "dict_keys(['Blues', 'BrBG', 'BuGn', 'BuPu', 'CMRmap', 'GnBu', 'Greens', 'Greys', 'OrRd', 'Oranges', 'PRGn', 'PiYG', 'PuBu', 'PuBuGn', 'PuOr', 'PuRd', 'Purples', 'RdBu', 'RdGy', 'RdPu', 'RdYlBu', 'RdYlGn', 'Reds', 'Spectral', 'Wistia', 'YlGn', 'YlGnBu', 'YlOrBr', 'YlOrRd', 'afmhot', 'autumn', 'binary', 'bone', 'brg', 'bwr', 'cool', 'coolwarm', 'copper', 'cubehelix', 'flag', 'gist_earth', 'gist_gray', 'gist_heat', 'gist_ncar', 'gist_rainbow', 'gist_stern', 'gist_yarg', 'gnuplot', 'gnuplot2', 'gray', 'hot', 'hsv', 'jet', 'nipy_spectral', 'ocean', 'pink', 'prism', 'rainbow', 'seismic', 'spring', 'summer', 'terrain', 'winter', 'Accent', 'Dark2', 'Paired', 'Pastel1', 'Pastel2', 'Set1', 'Set2', 'Set3', 'tab10', 'tab20', 'tab20b', 'tab20c'])"
      ]
     },
     "execution_count": 5,
     "metadata": {},
     "output_type": "execute_result"
    }
   ],
   "source": [
    "plt.cm.datad.keys()"
   ]
  },
  {
   "cell_type": "code",
   "execution_count": 6,
   "metadata": {},
   "outputs": [
    {
     "data": {
      "text/html": [
       "<svg  width=\"550\" height=\"55\"><rect x=\"0\" y=\"0\" width=\"55\" height=\"55\" style=\"fill:#1c120b;stroke-width:2;stroke:rgb(255,255,255)\"/><rect x=\"55\" y=\"0\" width=\"55\" height=\"55\" style=\"fill:#392417;stroke-width:2;stroke:rgb(255,255,255)\"/><rect x=\"110\" y=\"0\" width=\"55\" height=\"55\" style=\"fill:#553622;stroke-width:2;stroke:rgb(255,255,255)\"/><rect x=\"165\" y=\"0\" width=\"55\" height=\"55\" style=\"fill:#73492e;stroke-width:2;stroke:rgb(255,255,255)\"/><rect x=\"220\" y=\"0\" width=\"55\" height=\"55\" style=\"fill:#8f5b3a;stroke-width:2;stroke:rgb(255,255,255)\"/><rect x=\"275\" y=\"0\" width=\"55\" height=\"55\" style=\"fill:#ac6d45;stroke-width:2;stroke:rgb(255,255,255)\"/><rect x=\"330\" y=\"0\" width=\"55\" height=\"55\" style=\"fill:#c87f51;stroke-width:2;stroke:rgb(255,255,255)\"/><rect x=\"385\" y=\"0\" width=\"55\" height=\"55\" style=\"fill:#e6915d;stroke-width:2;stroke:rgb(255,255,255)\"/><rect x=\"440\" y=\"0\" width=\"55\" height=\"55\" style=\"fill:#ffa368;stroke-width:2;stroke:rgb(255,255,255)\"/><rect x=\"495\" y=\"0\" width=\"55\" height=\"55\" style=\"fill:#ffb573;stroke-width:2;stroke:rgb(255,255,255)\"/></svg>"
      ],
      "text/plain": [
       "[(0.11141865890495223, 0.07046117647058824, 0.04487254901960784),\n",
       " (0.22283731780990446, 0.14092235294117647, 0.08974509803921568),\n",
       " (0.3342559767148567, 0.2113835294117647, 0.1346176470588235),\n",
       " (0.45051892513741554, 0.28490823529411763, 0.18144117647058822),\n",
       " (0.5619375840423678, 0.3553694117647059, 0.22631372549019607),\n",
       " (0.67335624294732, 0.42583058823529407, 0.27118627450980387),\n",
       " (0.7847749018522723, 0.4962917647058823, 0.3160588235294117),\n",
       " (0.9010378502748311, 0.5698164705882353, 0.36288235294117643),\n",
       " (1.0, 0.6402776470588235, 0.4077549019607843),\n",
       " (1.0, 0.7107388235294118, 0.45262745098039214)]"
      ]
     },
     "execution_count": 6,
     "metadata": {},
     "output_type": "execute_result"
    }
   ],
   "source": [
    "sns.color_palette('copper', 10)"
   ]
  },
  {
   "cell_type": "code",
   "execution_count": 7,
   "metadata": {},
   "outputs": [
    {
     "data": {
      "text/html": [
       "<svg  width=\"550\" height=\"55\"><rect x=\"0\" y=\"0\" width=\"55\" height=\"55\" style=\"fill:#db5f57;stroke-width:2;stroke:rgb(255,255,255)\"/><rect x=\"55\" y=\"0\" width=\"55\" height=\"55\" style=\"fill:#dbae57;stroke-width:2;stroke:rgb(255,255,255)\"/><rect x=\"110\" y=\"0\" width=\"55\" height=\"55\" style=\"fill:#b9db57;stroke-width:2;stroke:rgb(255,255,255)\"/><rect x=\"165\" y=\"0\" width=\"55\" height=\"55\" style=\"fill:#69db57;stroke-width:2;stroke:rgb(255,255,255)\"/><rect x=\"220\" y=\"0\" width=\"55\" height=\"55\" style=\"fill:#57db94;stroke-width:2;stroke:rgb(255,255,255)\"/><rect x=\"275\" y=\"0\" width=\"55\" height=\"55\" style=\"fill:#57d3db;stroke-width:2;stroke:rgb(255,255,255)\"/><rect x=\"330\" y=\"0\" width=\"55\" height=\"55\" style=\"fill:#5784db;stroke-width:2;stroke:rgb(255,255,255)\"/><rect x=\"385\" y=\"0\" width=\"55\" height=\"55\" style=\"fill:#7957db;stroke-width:2;stroke:rgb(255,255,255)\"/><rect x=\"440\" y=\"0\" width=\"55\" height=\"55\" style=\"fill:#c957db;stroke-width:2;stroke:rgb(255,255,255)\"/><rect x=\"495\" y=\"0\" width=\"55\" height=\"55\" style=\"fill:#db579e;stroke-width:2;stroke:rgb(255,255,255)\"/></svg>"
      ],
      "text/plain": [
       "[(0.86, 0.3712, 0.33999999999999997),\n",
       " (0.86, 0.6832, 0.33999999999999997),\n",
       " (0.7247999999999999, 0.86, 0.33999999999999997),\n",
       " (0.41279999999999994, 0.86, 0.33999999999999997),\n",
       " (0.33999999999999997, 0.86, 0.5792000000000002),\n",
       " (0.33999999999999997, 0.8287999999999999, 0.86),\n",
       " (0.33999999999999997, 0.5167999999999995, 0.86),\n",
       " (0.4752000000000003, 0.33999999999999997, 0.86),\n",
       " (0.7871999999999999, 0.33999999999999997, 0.86),\n",
       " (0.86, 0.33999999999999997, 0.6207999999999999)]"
      ]
     },
     "execution_count": 7,
     "metadata": {},
     "output_type": "execute_result"
    }
   ],
   "source": [
    "sns.color_palette('hls', 10)"
   ]
  },
  {
   "cell_type": "code",
   "execution_count": 8,
   "metadata": {},
   "outputs": [
    {
     "data": {
      "text/html": [
       "<svg  width=\"550\" height=\"55\"><rect x=\"0\" y=\"0\" width=\"55\" height=\"55\" style=\"fill:#fbb4ae;stroke-width:2;stroke:rgb(255,255,255)\"/><rect x=\"55\" y=\"0\" width=\"55\" height=\"55\" style=\"fill:#b3cde3;stroke-width:2;stroke:rgb(255,255,255)\"/><rect x=\"110\" y=\"0\" width=\"55\" height=\"55\" style=\"fill:#ccebc5;stroke-width:2;stroke:rgb(255,255,255)\"/><rect x=\"165\" y=\"0\" width=\"55\" height=\"55\" style=\"fill:#decbe4;stroke-width:2;stroke:rgb(255,255,255)\"/><rect x=\"220\" y=\"0\" width=\"55\" height=\"55\" style=\"fill:#fed9a6;stroke-width:2;stroke:rgb(255,255,255)\"/><rect x=\"275\" y=\"0\" width=\"55\" height=\"55\" style=\"fill:#ffffcc;stroke-width:2;stroke:rgb(255,255,255)\"/><rect x=\"330\" y=\"0\" width=\"55\" height=\"55\" style=\"fill:#e5d8bd;stroke-width:2;stroke:rgb(255,255,255)\"/><rect x=\"385\" y=\"0\" width=\"55\" height=\"55\" style=\"fill:#fddaec;stroke-width:2;stroke:rgb(255,255,255)\"/><rect x=\"440\" y=\"0\" width=\"55\" height=\"55\" style=\"fill:#f2f2f2;stroke-width:2;stroke:rgb(255,255,255)\"/><rect x=\"495\" y=\"0\" width=\"55\" height=\"55\" style=\"fill:#fbb4ae;stroke-width:2;stroke:rgb(255,255,255)\"/></svg>"
      ],
      "text/plain": [
       "[(0.984313725490196, 0.7058823529411765, 0.6823529411764706),\n",
       " (0.7019607843137254, 0.803921568627451, 0.8901960784313725),\n",
       " (0.8, 0.9215686274509803, 0.7725490196078432),\n",
       " (0.8705882352941177, 0.796078431372549, 0.8941176470588236),\n",
       " (0.996078431372549, 0.8509803921568627, 0.6509803921568628),\n",
       " (1.0, 1.0, 0.8),\n",
       " (0.8980392156862745, 0.8470588235294118, 0.7411764705882353),\n",
       " (0.9921568627450981, 0.8549019607843137, 0.9254901960784314),\n",
       " (0.9490196078431372, 0.9490196078431372, 0.9490196078431372),\n",
       " (0.984313725490196, 0.7058823529411765, 0.6823529411764706)]"
      ]
     },
     "execution_count": 8,
     "metadata": {},
     "output_type": "execute_result"
    }
   ],
   "source": [
    "sns.color_palette('Pastel1', 10)"
   ]
  },
  {
   "cell_type": "code",
   "execution_count": 9,
   "metadata": {},
   "outputs": [
    {
     "data": {
      "text/html": [
       "<svg  width=\"825\" height=\"55\"><rect x=\"0\" y=\"0\" width=\"55\" height=\"55\" style=\"fill:#621a6e;stroke-width:2;stroke:rgb(255,255,255)\"/><rect x=\"55\" y=\"0\" width=\"55\" height=\"55\" style=\"fill:#7f3c8d;stroke-width:2;stroke:rgb(255,255,255)\"/><rect x=\"110\" y=\"0\" width=\"55\" height=\"55\" style=\"fill:#9568a6;stroke-width:2;stroke:rgb(255,255,255)\"/><rect x=\"165\" y=\"0\" width=\"55\" height=\"55\" style=\"fill:#ae8bbd;stroke-width:2;stroke:rgb(255,255,255)\"/><rect x=\"220\" y=\"0\" width=\"55\" height=\"55\" style=\"fill:#c7abd2;stroke-width:2;stroke:rgb(255,255,255)\"/><rect x=\"275\" y=\"0\" width=\"55\" height=\"55\" style=\"fill:#dec9e2;stroke-width:2;stroke:rgb(255,255,255)\"/><rect x=\"330\" y=\"0\" width=\"55\" height=\"55\" style=\"fill:#ede2ee;stroke-width:2;stroke:rgb(255,255,255)\"/><rect x=\"385\" y=\"0\" width=\"55\" height=\"55\" style=\"fill:#f6f7f6;stroke-width:2;stroke:rgb(255,255,255)\"/><rect x=\"440\" y=\"0\" width=\"55\" height=\"55\" style=\"fill:#e4f2e0;stroke-width:2;stroke:rgb(255,255,255)\"/><rect x=\"495\" y=\"0\" width=\"55\" height=\"55\" style=\"fill:#cbeac5;stroke-width:2;stroke:rgb(255,255,255)\"/><rect x=\"550\" y=\"0\" width=\"55\" height=\"55\" style=\"fill:#abdda5;stroke-width:2;stroke:rgb(255,255,255)\"/><rect x=\"605\" y=\"0\" width=\"55\" height=\"55\" style=\"fill:#7ec37f;stroke-width:2;stroke:rgb(255,255,255)\"/><rect x=\"660\" y=\"0\" width=\"55\" height=\"55\" style=\"fill:#50a65a;stroke-width:2;stroke:rgb(255,255,255)\"/><rect x=\"715\" y=\"0\" width=\"55\" height=\"55\" style=\"fill:#298440;stroke-width:2;stroke:rgb(255,255,255)\"/><rect x=\"770\" y=\"0\" width=\"55\" height=\"55\" style=\"fill:#10632b;stroke-width:2;stroke:rgb(255,255,255)\"/></svg>"
      ],
      "text/plain": [
       "[(0.3838523644752019, 0.10334486735870818, 0.4319108035371011),\n",
       " (0.49773164167627837, 0.23467896962706652, 0.5537101114955786),\n",
       " (0.5838523644752018, 0.4069204152249135, 0.6521337946943483),\n",
       " (0.6819684736639753, 0.5451749327181853, 0.7425605536332179),\n",
       " (0.7806997308727411, 0.6723567858515955, 0.8252210688196847),\n",
       " (0.8717416378316032, 0.78800461361015, 0.8867358708189158),\n",
       " (0.9304882737408688, 0.8851980007689351, 0.9328719723183391),\n",
       " (0.966320645905421, 0.9680891964628989, 0.9658592848904267),\n",
       " (0.8925028835063438, 0.9508650519031142, 0.8772779700115341),\n",
       " (0.7960784313725492, 0.9185697808535179, 0.7725490196078433),\n",
       " (0.6705882352941179, 0.8668973471741638, 0.6470588235294119),\n",
       " (0.4931949250288352, 0.7653979238754326, 0.4966551326412919),\n",
       " (0.3141868512110727, 0.6491349480968859, 0.35455594002306806),\n",
       " (0.1591695501730104, 0.5162629757785467, 0.2512110726643599),\n",
       " (0.06228373702422146, 0.3866205305651672, 0.1704728950403691)]"
      ]
     },
     "execution_count": 9,
     "metadata": {},
     "output_type": "execute_result"
    }
   ],
   "source": [
    "sns.color_palette('PRGn', 15)"
   ]
  },
  {
   "cell_type": "code",
   "execution_count": 10,
   "metadata": {},
   "outputs": [
    {
     "data": {
      "text/html": [
       "<svg  width=\"880\" height=\"55\"><rect x=\"0\" y=\"0\" width=\"55\" height=\"55\" style=\"fill:#4c66d6;stroke-width:2;stroke:rgb(255,255,255)\"/><rect x=\"55\" y=\"0\" width=\"55\" height=\"55\" style=\"fill:#5f7fe8;stroke-width:2;stroke:rgb(255,255,255)\"/><rect x=\"110\" y=\"0\" width=\"55\" height=\"55\" style=\"fill:#7396f5;stroke-width:2;stroke:rgb(255,255,255)\"/><rect x=\"165\" y=\"0\" width=\"55\" height=\"55\" style=\"fill:#88abfd;stroke-width:2;stroke:rgb(255,255,255)\"/><rect x=\"220\" y=\"0\" width=\"55\" height=\"55\" style=\"fill:#9dbdff;stroke-width:2;stroke:rgb(255,255,255)\"/><rect x=\"275\" y=\"0\" width=\"55\" height=\"55\" style=\"fill:#b1cbfc;stroke-width:2;stroke:rgb(255,255,255)\"/><rect x=\"330\" y=\"0\" width=\"55\" height=\"55\" style=\"fill:#c4d5f3;stroke-width:2;stroke:rgb(255,255,255)\"/><rect x=\"385\" y=\"0\" width=\"55\" height=\"55\" style=\"fill:#d5dbe5;stroke-width:2;stroke:rgb(255,255,255)\"/><rect x=\"440\" y=\"0\" width=\"55\" height=\"55\" style=\"fill:#e4d9d2;stroke-width:2;stroke:rgb(255,255,255)\"/><rect x=\"495\" y=\"0\" width=\"55\" height=\"55\" style=\"fill:#f0cdbb;stroke-width:2;stroke:rgb(255,255,255)\"/><rect x=\"550\" y=\"0\" width=\"55\" height=\"55\" style=\"fill:#f6bea4;stroke-width:2;stroke:rgb(255,255,255)\"/><rect x=\"605\" y=\"0\" width=\"55\" height=\"55\" style=\"fill:#f7aa8c;stroke-width:2;stroke:rgb(255,255,255)\"/><rect x=\"660\" y=\"0\" width=\"55\" height=\"55\" style=\"fill:#f39475;stroke-width:2;stroke:rgb(255,255,255)\"/><rect x=\"715\" y=\"0\" width=\"55\" height=\"55\" style=\"fill:#e97a5f;stroke-width:2;stroke:rgb(255,255,255)\"/><rect x=\"770\" y=\"0\" width=\"55\" height=\"55\" style=\"fill:#dc5d4a;stroke-width:2;stroke:rgb(255,255,255)\"/><rect x=\"825\" y=\"0\" width=\"55\" height=\"55\" style=\"fill:#ca3b37;stroke-width:2;stroke:rgb(255,255,255)\"/></svg>"
      ],
      "text/plain": [
       "[(0.2994412594117647, 0.40024818329411765, 0.8398419750588235),\n",
       " (0.37355243129411764, 0.4974987054117647, 0.9094673695294118),\n",
       " (0.4517385604705882, 0.5881809882352941, 0.9602012675882352),\n",
       " (0.5325682374117646, 0.6698005978823529, 0.9903932701176471),\n",
       " (0.6139326527647059, 0.7399229822941177, 0.9991423720588235),\n",
       " (0.6933212848235294, 0.7963141317058823, 0.9863077805294118),\n",
       " (0.7680343643529411, 0.8370352195294117, 0.9524882182352941),\n",
       " (0.8353447113529412, 0.8605139972941176, 0.8989704099411765),\n",
       " (0.8958817682941177, 0.8499060565882353, 0.8234990762941177),\n",
       " (0.940878943, 0.8055964028235294, 0.7351665564705883),\n",
       " (0.9648353582352941, 0.7446136745882352, 0.6432388753529412),\n",
       " (0.968105337, 0.6684751961176472, 0.5504862209411766),\n",
       " (0.951253794882353, 0.5787993895882353, 0.4594078057647059),\n",
       " (0.9151571239411764, 0.4769265271764706, 0.3721794147647059),\n",
       " (0.8610536002941176, 0.3629157635294118, 0.2906281271764706),\n",
       " (0.7905615319411765, 0.23139699905882352, 0.21624203829411764)]"
      ]
     },
     "execution_count": 10,
     "metadata": {},
     "output_type": "execute_result"
    }
   ],
   "source": [
    "sns.color_palette('coolwarm', 16)"
   ]
  },
  {
   "cell_type": "code",
   "execution_count": 13,
   "metadata": {},
   "outputs": [
    {
     "name": "stdout",
     "output_type": "stream",
     "text": [
      "앞에서 부터 3개만 미리 보기\n"
     ]
    },
    {
     "data": {
      "text/html": [
       "<div>\n",
       "<style scoped>\n",
       "    .dataframe tbody tr th:only-of-type {\n",
       "        vertical-align: middle;\n",
       "    }\n",
       "\n",
       "    .dataframe tbody tr th {\n",
       "        vertical-align: top;\n",
       "    }\n",
       "\n",
       "    .dataframe thead th {\n",
       "        text-align: right;\n",
       "    }\n",
       "</style>\n",
       "<table border=\"1\" class=\"dataframe\">\n",
       "  <thead>\n",
       "    <tr style=\"text-align: right;\">\n",
       "      <th></th>\n",
       "      <th>구별</th>\n",
       "      <th>CCTV수</th>\n",
       "      <th>인구수</th>\n",
       "      <th>한국인</th>\n",
       "      <th>외국인</th>\n",
       "      <th>고령자</th>\n",
       "    </tr>\n",
       "  </thead>\n",
       "  <tbody>\n",
       "    <tr>\n",
       "      <th>0</th>\n",
       "      <td>강남구</td>\n",
       "      <td>2780</td>\n",
       "      <td>570500.0</td>\n",
       "      <td>565550.0</td>\n",
       "      <td>4950.0</td>\n",
       "      <td>63167.0</td>\n",
       "    </tr>\n",
       "    <tr>\n",
       "      <th>1</th>\n",
       "      <td>강동구</td>\n",
       "      <td>773</td>\n",
       "      <td>453233.0</td>\n",
       "      <td>449019.0</td>\n",
       "      <td>4214.0</td>\n",
       "      <td>54622.0</td>\n",
       "    </tr>\n",
       "    <tr>\n",
       "      <th>2</th>\n",
       "      <td>강북구</td>\n",
       "      <td>748</td>\n",
       "      <td>330192.0</td>\n",
       "      <td>326686.0</td>\n",
       "      <td>3506.0</td>\n",
       "      <td>54813.0</td>\n",
       "    </tr>\n",
       "  </tbody>\n",
       "</table>\n",
       "</div>"
      ],
      "text/plain": [
       "    구별  CCTV수       인구수       한국인     외국인      고령자\n",
       "0  강남구   2780  570500.0  565550.0  4950.0  63167.0\n",
       "1  강동구    773  453233.0  449019.0  4214.0  54622.0\n",
       "2  강북구    748  330192.0  326686.0  3506.0  54813.0"
      ]
     },
     "metadata": {},
     "output_type": "display_data"
    },
    {
     "data": {
      "image/png": "[encoded data removed]",
      "text/plain": [
       "<Figure size 720x720 with 1 Axes>"
      ]
     },
     "metadata": {
      "needs_background": "light"
     },
     "output_type": "display_data"
    }
   ],
   "source": [
    "import pandas as pd\n",
    "import seaborn as sns\n",
    "from matplotlib import pyplot as plt\n",
    "data_result = pd.read_csv(\"./data/cctv_seoul.csv\")\n",
    "\n",
    "print(\"앞에서 부터 3개만 미리 보기\") \n",
    "display(data_result.head(3))\n",
    "data_result.set_index('구별', inplace=True)\n",
    "data_result.head()\n",
    "mycolors = sns.color_palette('hls',len(data_result['CCTV수']))\n",
    "plt.figure(figsize=(10,10))\n",
    "data_result['CCTV수'].plot(kind='barh', grid=True, color=mycolors)\n",
    "plt.xlabel('각 구에 설치된 CCTV 댓수', size=15)\n",
    "plt.ylabel('구이름', size=15)\n",
    "plt.title('구별 CCTV 설치 현황(1)', size=20)\n",
    "plt.savefig(\"output/hw1.png\") \n",
    "plt.show()\n"
   ]
  },
  {
   "cell_type": "code",
   "execution_count": null,
   "metadata": {},
   "outputs": [],
   "source": [
    "mycolors = sns.color_palette('PRGn',len(data_result['CCTV수']))\n",
    "plt.figure(figsize=(14,8))\n",
    "data_result.sort_values(by='CCTV수', ascending=False, inplace=True)\n",
    "data_result['CCTV수'].plot(kind='bar', grid=True, color=mycolors, rot=20)\n",
    "plt.ylabel('각 구에 설치된 CCTV 댓수', size=15)\n",
    "plt.xlabel('구이름', size=15)\n",
    "plt.title('구별 CCTV 설치 현황(2)', size=20)\n",
    "plt.show()"
   ]
  },
  {
   "cell_type": "markdown",
   "metadata": {},
   "source": [
    "![Seaborn image](images/seaborn.png)"
   ]
  },
  {
   "cell_type": "code",
   "execution_count": null,
   "metadata": {},
   "outputs": [],
   "source": [
    "# 예제 4-25\n",
    "# 라이브러리 불러오기\n",
    "import seaborn as sns\n",
    "\n",
    "# titanic 데이터셋 가져오기\n",
    "titanic = sns.load_dataset('titanic')\n",
    "\n",
    "# titanic 데이터셋 살펴보기\n",
    "print(titanic.head())\n",
    "print('\\n')\n",
    "print(titanic.info())"
   ]
  },
  {
   "cell_type": "code",
   "execution_count": null,
   "metadata": {},
   "outputs": [],
   "source": [
    "# 예제 4-26\n",
    "# 라이브러리 불러오기\n",
    "import matplotlib.pyplot as plt\n",
    "import seaborn as sns\n",
    " \n",
    "# Seaborn 제공 데이터셋 가져오기\n",
    "titanic = sns.load_dataset('titanic')\n",
    " \n",
    "# 스타일 테마 설정 (5가지: darkgrid, whitegrid, dark, white, ticks)\n",
    "sns.set_style('darkgrid')\n",
    "\n",
    "# 그래프 객체 생성 (figure에 2개의 서브 플롯을 생성)\n",
    "fig = plt.figure(figsize=(15, 5))   \n",
    "ax1 = fig.add_subplot(1, 2, 1)\n",
    "ax2 = fig.add_subplot(1, 2, 2)\n",
    " \n",
    "# 그래프 그리기 - 선형회귀선 표시(fit_reg=True)\n",
    "sns.regplot(x='age',        #x축 변수\n",
    "            y='fare',       #y축 변수\n",
    "            data=titanic,   #데이터\n",
    "            ax=ax1)         #axe 객체 - 1번째 그래프 \n",
    "\n",
    "# 그래프 그리기 - 선형회귀선 미표시(fit_reg=False)\n",
    "sns.regplot(x='age',        #x축 변수\n",
    "            y='fare',       #y축 변수\n",
    "            data=titanic,   #데이터\n",
    "            ax=ax2,         #axe 객체 - 2번째 그래프        \n",
    "            fit_reg=False)  #회귀선 미표시\n",
    "\n",
    "plt.show()"
   ]
  },
  {
   "cell_type": "code",
   "execution_count": null,
   "metadata": {},
   "outputs": [],
   "source": [
    "# 예제 4-27\n",
    "# 라이브러리 불러오기\n",
    "import matplotlib.pyplot as plt\n",
    "import seaborn as sns\n",
    " \n",
    "# Seaborn 제공 데이터셋 가져오기\n",
    "titanic = sns.load_dataset('titanic')\n",
    " \n",
    "# 스타일 테마 설정 (5가지: darkgrid, whitegrid, dark, white, ticks)\n",
    "sns.set_style('darkgrid')\n",
    "\n",
    "# 그래프 객체 생성 (figure에 3개의 서브 플롯을 생성)\n",
    "fig = plt.figure(figsize=(15, 5))   \n",
    "ax1 = fig.add_subplot(1, 3, 1)\n",
    "ax2 = fig.add_subplot(1, 3, 2)\n",
    "ax3 = fig.add_subplot(1, 3, 3)\n",
    " \n",
    "# 기본값\n",
    "sns.distplot(titanic['fare'], ax=ax1) \n",
    "\n",
    "# hist=False\n",
    "sns.distplot(titanic['fare'], hist=False, ax=ax2) \n",
    "\n",
    "# kde=False\n",
    "sns.distplot(titanic['fare'], kde=False, ax=ax3)        \n",
    "\n",
    "# 차트 제목 표시\n",
    "ax1.set_title('titanic fare - hist/ked')\n",
    "ax2.set_title('titanic fare - ked')\n",
    "ax3.set_title('titanic fare - hist')\n",
    "\n",
    "plt.show()"
   ]
  },
  {
   "cell_type": "code",
   "execution_count": null,
   "metadata": {},
   "outputs": [],
   "source": [
    "# 예제 4-28\n",
    "# 라이브러리 불러오기\n",
    "import matplotlib.pyplot as plt\n",
    "import seaborn as sns\n",
    " \n",
    "# Seaborn 제공 데이터셋 가져오기\n",
    "titanic = sns.load_dataset('titanic')\n",
    " \n",
    "# 스타일 테마 설정 (5가지: darkgrid, whitegrid, dark, white, ticks)\n",
    "sns.set_style('darkgrid')\n",
    "\n",
    "# 피벗테이블로 범주형 변수를 각각 행, 열로 재구분하여 정리\n",
    "table = titanic.pivot_table(index=['sex'], columns=['class'], aggfunc='size')\n",
    "\n",
    "# 히트맵 그리기\n",
    "sns.heatmap(table,                  # 데이터프레임\n",
    "            annot=True, fmt='d',    # 데이터 값 표시 여부, 정수형 포맷\n",
    "            cmap='YlGnBu',          # 컬러 맵\n",
    "            linewidth=.5,           # 구분 선\n",
    "            cbar=False)             # 컬러 바 표시 여부\n",
    "\n",
    "plt.show()"
   ]
  },
  {
   "cell_type": "code",
   "execution_count": null,
   "metadata": {},
   "outputs": [],
   "source": [
    "# 예제 4-29\n",
    "# 라이브러리 불러오기\n",
    "import matplotlib.pyplot as plt\n",
    "import seaborn as sns\n",
    " \n",
    "# Seaborn 제공 데이터셋 가져오기\n",
    "titanic = sns.load_dataset('titanic')\n",
    " \n",
    "# 스타일 테마 설정 (5가지: darkgrid, whitegrid, dark, white, ticks)\n",
    "sns.set_style('whitegrid')\n",
    "\n",
    "# 그래프 객체 생성 (figure에 2개의 서브 플롯을 생성)\n",
    "fig = plt.figure(figsize=(15, 5))   \n",
    "ax1 = fig.add_subplot(1, 2, 1)\n",
    "ax2 = fig.add_subplot(1, 2, 2)\n",
    " \n",
    "# 이산형 변수의 분포 - 데이터 분산 미고려\n",
    "sns.stripplot(x=\"class\",      #x축 변수\n",
    "              y=\"age\",        #y축 변수           \n",
    "              data=titanic,   #데이터셋 - 데이터프레임\n",
    "              ax=ax1)         #axe 객체 - 1번째 그래프 \n",
    "\n",
    "# 이산형 변수의 분포 - 데이터 분산 고려 (중복 X) \n",
    "sns.swarmplot(x=\"class\",      #x축 변수\n",
    "              y=\"age\",        #y축 변수\n",
    "              data=titanic,   #데이터셋 - 데이터프레임\n",
    "              ax=ax2)         #axe 객체 - 2번째 그래프        \n",
    "\n",
    "# 차트 제목 표시\n",
    "ax1.set_title('Strip Plot')\n",
    "ax2.set_title('Strip Plot')\n",
    "\n",
    "plt.show()"
   ]
  },
  {
   "cell_type": "code",
   "execution_count": null,
   "metadata": {},
   "outputs": [],
   "source": [
    "# 예제 4-30\n",
    "# 라이브러리 불러오기\n",
    "import matplotlib.pyplot as plt\n",
    "import seaborn as sns\n",
    " \n",
    "# Seaborn 제공 데이터셋 가져오기\n",
    "titanic = sns.load_dataset('titanic')\n",
    " \n",
    "# 스타일 테마 설정 (5가지: darkgrid, whitegrid, dark, white, ticks)\n",
    "sns.set_style('whitegrid')\n",
    "\n",
    "# 그래프 객체 생성 (figure에 3개의 서브 플롯을 생성)\n",
    "fig = plt.figure(figsize=(15, 5))   \n",
    "ax1 = fig.add_subplot(1, 3, 1)\n",
    "ax2 = fig.add_subplot(1, 3, 2)\n",
    "ax3 = fig.add_subplot(1, 3, 3)\n",
    " \n",
    "# x축, y축에 변수 할당\n",
    "sns.barplot(x='sex', y='survived', data=titanic, ax=ax1) \n",
    "\n",
    "# x축, y축에 변수 할당하고 hue 옵션 추가 \n",
    "sns.barplot(x='sex', y='survived', hue='class', data=titanic, ax=ax2) \n",
    "\n",
    "# x축, y축에 변수 할당하고 hue 옵션을 추가하여 누적 출력\n",
    "sns.barplot(x='sex', y='survived', hue='class', dodge=False, data=titanic, ax=ax3)       \n",
    "\n",
    "# 차트 제목 표시\n",
    "ax1.set_title('titanic survived - sex')\n",
    "ax2.set_title('titanic survived - sex/class')\n",
    "ax3.set_title('titanic survived - sex/class(stacked)')\n",
    "\n",
    "plt.show()"
   ]
  },
  {
   "cell_type": "code",
   "execution_count": null,
   "metadata": {},
   "outputs": [],
   "source": [
    "# 예제 4-31\n",
    "# 라이브러리 불러오기\n",
    "import matplotlib.pyplot as plt\n",
    "import seaborn as sns\n",
    " \n",
    "# Seaborn 제공 데이터셋 가져오기\n",
    "titanic = sns.load_dataset('titanic')\n",
    " \n",
    "# 스타일 테마 설정 (5가지: darkgrid, whitegrid, dark, white, ticks)\n",
    "sns.set_style('whitegrid')\n",
    "\n",
    "# 그래프 객체 생성 (figure에 3개의 서브 플롯을 생성)\n",
    "fig = plt.figure(figsize=(15, 5))   \n",
    "ax1 = fig.add_subplot(1, 3, 1)\n",
    "ax2 = fig.add_subplot(1, 3, 2)\n",
    "ax3 = fig.add_subplot(1, 3, 3)\n",
    " \n",
    "# 기본값\n",
    "sns.countplot(x='class', palette='Set1', data=titanic, ax=ax1) \n",
    "\n",
    "# hue 옵션에 'who' 추가 \n",
    "sns.countplot(x='class', hue='who', palette='Set2', data=titanic, ax=ax2) \n",
    "\n",
    "# dodge=False 옵션 추가 (축 방향으로 분리하지 않고 누적 그래프 출력)\n",
    "sns.countplot(x='class', hue='who', palette='Set3', dodge=False, data=titanic, ax=ax3)       \n",
    "\n",
    "# 차트 제목 표시\n",
    "ax1.set_title('titanic class')\n",
    "ax2.set_title('titanic class - who')\n",
    "ax3.set_title('titanic class - who(stacked)')\n",
    "\n",
    "plt.show()"
   ]
  },
  {
   "cell_type": "code",
   "execution_count": null,
   "metadata": {},
   "outputs": [],
   "source": [
    "# 예제 4-32\n",
    "# 라이브러리 불러오기\n",
    "import matplotlib.pyplot as plt\n",
    "import seaborn as sns\n",
    " \n",
    "# Seaborn 제공 데이터셋 가져오기\n",
    "titanic = sns.load_dataset('titanic')\n",
    " \n",
    "# 스타일 테마 설정 (5가지: darkgrid, whitegrid, dark, white, ticks)\n",
    "sns.set_style('whitegrid')\n",
    "\n",
    "# 그래프 객체 생성 (figure에 4개의 서브 플롯을 생성)\n",
    "fig = plt.figure(figsize=(15, 10))   \n",
    "ax1 = fig.add_subplot(2, 2, 1)\n",
    "ax2 = fig.add_subplot(2, 2, 2)\n",
    "ax3 = fig.add_subplot(2, 2, 3)\n",
    "ax4 = fig.add_subplot(2, 2, 4)\n",
    " \n",
    "# 박스 그래프 - 기본값\n",
    "sns.boxplot(x='alive', y='age', data=titanic, ax=ax1) \n",
    "\n",
    "# 바이올린 그래프 - hue 변수 추가\n",
    "sns.boxplot(x='alive', y='age', hue='sex', data=titanic, ax=ax2) \n",
    "\n",
    "# 박스 그래프 - 기본값\n",
    "sns.violinplot(x='alive', y='age', data=titanic, ax=ax3) \n",
    "\n",
    "# 바이올린 그래프 - hue 변수 추가\n",
    "sns.violinplot(x='alive', y='age', hue='sex', data=titanic, ax=ax4) \n",
    "\n",
    "plt.show()"
   ]
  },
  {
   "cell_type": "code",
   "execution_count": null,
   "metadata": {},
   "outputs": [],
   "source": [
    "# 예제 4-33\n",
    "# 라이브러리 불러오기\n",
    "import matplotlib.pyplot as plt\n",
    "import seaborn as sns\n",
    " \n",
    "# Seaborn 제공 데이터셋 가져오기\n",
    "titanic = sns.load_dataset('titanic')\n",
    " \n",
    "# 스타일 테마 설정 (5가지: darkgrid, whitegrid, dark, white, ticks)\n",
    "sns.set_style('whitegrid')\n",
    "\n",
    "# 조인트 그래프 - 산점도(기본값)\n",
    "j1 = sns.jointplot(x='fare', y='age', data=titanic) \n",
    "\n",
    "# 조인트 그래프 - 회귀선\n",
    "j2 = sns.jointplot(x='fare', y='age', kind='reg', data=titanic) \n",
    "\n",
    "# 조인트 그래프 - 육각 그래프\n",
    "j3 = sns.jointplot(x='fare', y='age', kind='hex', data=titanic) \n",
    "\n",
    "# 조인트 그래프 - 커럴 밀집 그래프\n",
    "j4 = sns.jointplot(x='fare', y='age', kind='kde', data=titanic) \n",
    "\n",
    "# 차트 제목 표시\n",
    "j1.fig.suptitle('titanic fare - scatter', size=15)\n",
    "j2.fig.suptitle('titanic fare - reg', size=15)\n",
    "j3.fig.suptitle('titanic fare - hex', size=15)\n",
    "j4.fig.suptitle('titanic fare - kde', size=15)\n",
    "\n",
    "plt.show()\n"
   ]
  },
  {
   "cell_type": "code",
   "execution_count": null,
   "metadata": {},
   "outputs": [],
   "source": [
    "# 예제 4-34\n",
    "# 라이브러리 불러오기\n",
    "import matplotlib.pyplot as plt\n",
    "import seaborn as sns\n",
    " \n",
    "# Seaborn 제공 데이터셋 가져오기\n",
    "titanic = sns.load_dataset('titanic')\n",
    " \n",
    "# 스타일 테마 설정 (5가지: darkgrid, whitegrid, dark, white, ticks)\n",
    "sns.set_style('whitegrid')\n",
    "\n",
    "# 조건에 따라 그리드 나누기\n",
    "g = sns.FacetGrid(data=titanic, col='who', row='survived') \n",
    "\n",
    "# 그래프 적용하기\n",
    "g = g.map(plt.hist, 'age')\n"
   ]
  },
  {
   "cell_type": "code",
   "execution_count": null,
   "metadata": {},
   "outputs": [],
   "source": [
    "# 예제 4-35\n",
    "# 라이브러리 불러오기\n",
    "import matplotlib.pyplot as plt\n",
    "import seaborn as sns\n",
    " \n",
    "# Seaborn 제공 데이터셋 가져오기\n",
    "titanic = sns.load_dataset('titanic')\n",
    " \n",
    "# 스타일 테마 설정 (5가지: darkgrid, whitegrid, dark, white, ticks)\n",
    "sns.set_style('whitegrid')\n",
    "\n",
    "# titanic 데이터셋 중에서 분석 데이터 선택하기\n",
    "titanic_pair = titanic[['age','pclass', 'fare']]\n",
    "\n",
    "# 조건에 따라 그리드 나누기\n",
    "g = sns.pairplot(titanic_pair)\n"
   ]
  },
  {
   "cell_type": "code",
   "execution_count": null,
   "metadata": {},
   "outputs": [],
   "source": [
    "X = np.random.normal(0, 1, 100)\n",
    "Y = np.random.normal(0, 1, 100)\n",
    "C = np.random.randint(0, 5, 100)\n",
    "cmap_lst = [plt.cm.rainbow, plt.cm.Blues, plt.cm.autumn, plt.cm.RdYlGn]\n",
    "\n",
    "f, axes = plt.subplots(1, 4, sharex=True, sharey=True)\n",
    "f.set_size_inches((16, 4)) \n",
    "for i in range(0, 4):\n",
    "    axes[i].scatter(X, Y, c=C, cmap=cmap_lst[i])\n",
    "    axes[i].set_title(\"cmap: {}\".format(cmap_lst[i].name))\n",
    "plt.savefig('output/test.svg')\n",
    "plt.show()"
   ]
  },
  {
   "cell_type": "code",
   "execution_count": null,
   "metadata": {},
   "outputs": [],
   "source": [
    "iris = sns.load_dataset(\"iris\")"
   ]
  },
  {
   "cell_type": "code",
   "execution_count": null,
   "metadata": {},
   "outputs": [],
   "source": [
    "iris.head()"
   ]
  },
  {
   "cell_type": "code",
   "execution_count": null,
   "metadata": {},
   "outputs": [],
   "source": [
    "titanic = sns.load_dataset(\"titanic\")"
   ]
  },
  {
   "cell_type": "code",
   "execution_count": null,
   "metadata": {},
   "outputs": [],
   "source": [
    "titanic.head()"
   ]
  },
  {
   "cell_type": "code",
   "execution_count": null,
   "metadata": {},
   "outputs": [],
   "source": [
    "iris.describe()"
   ]
  },
  {
   "cell_type": "code",
   "execution_count": null,
   "metadata": {},
   "outputs": [],
   "source": [
    "titanic.describe()"
   ]
  },
  {
   "cell_type": "code",
   "execution_count": null,
   "metadata": {},
   "outputs": [],
   "source": [
    "titanic.describe(include='all')"
   ]
  },
  {
   "cell_type": "code",
   "execution_count": null,
   "metadata": {},
   "outputs": [],
   "source": [
    "plt.style.use('ggplot')\n",
    "fig, ax = plt.subplots(figsize=(10,6))\n",
    "plt.show()"
   ]
  },
  {
   "cell_type": "code",
   "execution_count": null,
   "metadata": {},
   "outputs": [],
   "source": [
    "sns.set(style=\"darkgrid\")\n",
    "sns.scatterplot(x=\"petal_length\", y=\"petal_width\",\n",
    "                data=iris)\n",
    "plt.show()"
   ]
  },
  {
   "cell_type": "code",
   "execution_count": null,
   "metadata": {},
   "outputs": [],
   "source": [
    "sns.set_style(\"whitegrid\")\n",
    "sns.scatterplot(x=\"petal_length\", y=\"petal_width\",\n",
    "                data=iris)\n",
    "plt.show()"
   ]
  },
  {
   "cell_type": "code",
   "execution_count": null,
   "metadata": {},
   "outputs": [],
   "source": [
    "sns.set(style=\"white\")\n",
    "sns.scatterplot(x=\"petal_length\", y=\"petal_width\", data=iris)\n",
    "sns.lineplot(x=\"petal_length\", y=\"petal_width\", data=iris)\n",
    "plt.show()"
   ]
  },
  {
   "cell_type": "code",
   "execution_count": null,
   "metadata": {},
   "outputs": [],
   "source": [
    "sns.set_palette(\"dark\", 3)\n",
    "sns.scatterplot(x=\"petal_length\", \n",
    "                y=\"petal_width\",\n",
    "                data=iris, hue=\"species\")\n",
    "plt.show()"
   ]
  },
  {
   "cell_type": "code",
   "execution_count": null,
   "metadata": {},
   "outputs": [],
   "source": [
    "sns.set()\n",
    "sns.scatterplot(x=\"petal_length\", y=\"petal_width\",\n",
    "                data=iris)\n",
    "plt.show()"
   ]
  },
  {
   "cell_type": "code",
   "execution_count": null,
   "metadata": {},
   "outputs": [],
   "source": [
    "sns.scatterplot(x=\"petal_length\", y=\"petal_width\",\n",
    "                hue=\"species\", style=\"species\",\n",
    "                data=iris)\n",
    "plt.show()"
   ]
  },
  {
   "cell_type": "code",
   "execution_count": null,
   "metadata": {},
   "outputs": [],
   "source": [
    "sns.lineplot(x=\"petal_length\", y=\"petal_width\",\n",
    "             data=iris)\n",
    "plt.show()"
   ]
  },
  {
   "cell_type": "code",
   "execution_count": null,
   "metadata": {},
   "outputs": [],
   "source": [
    "sns.lineplot(x=\"petal_length\", y=\"petal_width\",\n",
    "             hue=\"species\", style=\"species\",\n",
    "             data=iris)\n",
    "plt.show()"
   ]
  },
  {
   "cell_type": "code",
   "execution_count": null,
   "metadata": {},
   "outputs": [],
   "source": [
    "sns.lineplot(x=\"petal_length\", y=\"petal_width\",\n",
    "             hue=\"species\", style=\"species\",\n",
    "             markers=True, dashes=False,\n",
    "             data=iris)\n",
    "plt.show()"
   ]
  },
  {
   "cell_type": "code",
   "execution_count": null,
   "metadata": {},
   "outputs": [],
   "source": [
    "fig, axes = plt.subplots(ncols=2, figsize=(15,5))\n",
    "plt.subplots_adjust(wspace=0.3)\n",
    "sns.scatterplot(x=\"petal_length\", y=\"petal_width\",\n",
    "                data=iris, ax=axes[0])\n",
    "sns.lineplot(x=\"petal_length\", y=\"petal_width\",\n",
    "             data=iris, ax=axes[1])\n",
    "plt.show()"
   ]
  },
  {
   "cell_type": "code",
   "execution_count": null,
   "metadata": {},
   "outputs": [],
   "source": [
    "sns.scatterplot(x=\"petal_length\", y=\"petal_width\", data=iris)\n",
    "sns.lineplot(x=\"petal_length\", y=\"petal_width\", data=iris)\n",
    "plt.show()"
   ]
  },
  {
   "cell_type": "code",
   "execution_count": null,
   "metadata": {},
   "outputs": [],
   "source": [
    "sns.relplot(x=\"petal_length\", y=\"petal_width\",\n",
    "            col=\"species\", data=iris)\n",
    "plt.show()"
   ]
  },
  {
   "cell_type": "code",
   "execution_count": null,
   "metadata": {},
   "outputs": [],
   "source": [
    "sns.stripplot(x=\"species\", y=\"petal_length\", data=iris)\n",
    "plt.show()"
   ]
  },
  {
   "cell_type": "code",
   "execution_count": null,
   "metadata": {},
   "outputs": [],
   "source": [
    "sns.swarmplot(x=\"species\", y=\"petal_length\", size=3, data=iris)\n",
    "plt.show()"
   ]
  },
  {
   "cell_type": "code",
   "execution_count": null,
   "metadata": {},
   "outputs": [],
   "source": [
    "titanic = sns.load_dataset(\"titanic\")"
   ]
  },
  {
   "cell_type": "code",
   "execution_count": null,
   "metadata": {},
   "outputs": [],
   "source": [
    "sns.barplot(x=\"sex\", y=\"survived\", hue=\"class\",\n",
    "            data=titanic)\n",
    "plt.show()"
   ]
  },
  {
   "cell_type": "code",
   "execution_count": null,
   "metadata": {},
   "outputs": [],
   "source": [
    "sns.countplot(x=\"deck\", data=titanic)\n",
    "plt.show()"
   ]
  },
  {
   "cell_type": "code",
   "execution_count": null,
   "metadata": {},
   "outputs": [],
   "source": [
    "sns.pointplot(x=\"class\", y=\"survived\", hue=\"sex\", \n",
    "              data=titanic,\n",
    "              palette={\"male\":\"g\", \"female\":\"m\"},\n",
    "              markers=[\"^\", \"o\"], linestyles=[\"-\", \"--\"])\n",
    "plt.show()"
   ]
  },
  {
   "cell_type": "code",
   "execution_count": null,
   "metadata": {},
   "outputs": [],
   "source": [
    "sns.boxplot(x=\"alive\", y=\"age\", hue=\"adult_male\",\n",
    "            data=titanic)\n",
    "plt.show()"
   ]
  },
  {
   "cell_type": "code",
   "execution_count": null,
   "metadata": {},
   "outputs": [],
   "source": [
    "import seaborn as sns\n",
    "sns.set_theme(style=\"darkgrid\")\n",
    "\n",
    "# Load an example dataset with long-form data\n",
    "fmri = sns.load_dataset(\"fmri\")\n",
    "print(fmri.shape)\n",
    "print(fmri.head())\n",
    "# Plot the responses for different events and regions\n",
    "sns.lineplot(x=\"timepoint\", y=\"signal\",\n",
    "             hue=\"region\", style=\"event\",\n",
    "             data=fmri)\n",
    "plt.show()"
   ]
  },
  {
   "cell_type": "code",
   "execution_count": null,
   "metadata": {},
   "outputs": [],
   "source": [
    "import numpy as np\n",
    "import seaborn as sns\n",
    "import matplotlib.pyplot as plt\n",
    "sns.set_theme(style=\"white\", context=\"talk\")\n",
    "rs = np.random.RandomState(8)\n",
    "\n",
    "# Set up the matplotlib figure\n",
    "f, (ax1, ax2, ax3) = plt.subplots(3, 1, figsize=(7, 7), sharex=True)\n",
    "\n",
    "# Generate some sequential data\n",
    "x = np.array(list(\"ABCDEFGHIJ\"))\n",
    "y1 = np.arange(1, 11)\n",
    "sns.barplot(x=x, y=y1, palette=\"rocket\", ax=ax1)\n",
    "ax1.axhline(0, color=\"k\", clip_on=False)\n",
    "ax1.set_ylabel(\"Sequential\")\n",
    "\n",
    "# Center the data to make it diverging\n",
    "y2 = y1 - 5.5\n",
    "sns.barplot(x=x, y=y2, palette=\"vlag\", ax=ax2)\n",
    "ax2.axhline(0, color=\"k\", clip_on=False)\n",
    "ax2.set_ylabel(\"Diverging\")\n",
    "\n",
    "# Randomly reorder the data to make it qualitative\n",
    "y3 = rs.choice(y1, len(y1), replace=False)\n",
    "sns.barplot(x=x, y=y3, palette=\"deep\", ax=ax3)\n",
    "ax3.axhline(0, color=\"k\", clip_on=False)\n",
    "ax3.set_ylabel(\"Qualitative\")\n",
    "\n",
    "# Finalize the plot\n",
    "sns.despine(bottom=True)\n",
    "plt.setp(f.axes, yticks=[])\n",
    "plt.tight_layout(h_pad=2)"
   ]
  },
  {
   "cell_type": "markdown",
   "metadata": {},
   "source": [
    "![Folium image](images/folium.png)"
   ]
  },
  {
   "cell_type": "markdown",
   "metadata": {},
   "source": [
    "### Python에서 사용 가능한 라이브러리로서 지도를 다루는 대표적인 라이브러리다.\n",
    "### leaflet.js 기반으로 지도를 그려주고, 모바일에서도 쓸 수 있을만큼 가볍다.\n",
    "https://python-visualization.github.io/folium/"
   ]
  },
  {
   "cell_type": "code",
   "execution_count": null,
   "metadata": {},
   "outputs": [],
   "source": [
    "# 예제 4-36\n",
    "# 라이브러리 불러오기\n",
    "import folium\n",
    "\n",
    "# 서울 지도 만들기\n",
    "seoul_map = folium.Map(location=[37.55,126.98], zoom_start=12)\n",
    "display(seoul_map)\n",
    "# 지도를 HTML 파일로 저장하기\n",
    "#seoul_map.save('output/seoul.html')"
   ]
  },
  {
   "cell_type": "code",
   "execution_count": null,
   "metadata": {},
   "outputs": [],
   "source": [
    "# 예제 4-37\n",
    "# 라이브러리 불러오기\n",
    "import folium\n",
    "\n",
    "# 서울 지도 만들기\n",
    "seoul_map2 = folium.Map(location=[37.55,126.98], tiles='Stamen Terrain', \n",
    "                        zoom_start=12)\n",
    "seoul_map3 = folium.Map(location=[37.55,126.98], tiles='Stamen Toner', \n",
    "                        zoom_start=15)\n",
    "\n",
    "display(seoul_map2)\n",
    "display(seoul_map3)\n",
    "# 지도를 HTML 파일로 저장하기\n",
    "seoul_map2.save('output/seoul2.html')\n",
    "seoul_map3.save('output/seoul3.html')"
   ]
  },
  {
   "cell_type": "code",
   "execution_count": null,
   "metadata": {},
   "outputs": [],
   "source": [
    "# 예제 4-38\n",
    "# 라이브러리 불러오기\n",
    "import pandas as pd\n",
    "import folium\n",
    "\n",
    "# 대학교 리스트를 데이터프레임 변환\n",
    "df = pd.read_excel('./data/서울지역 대학교 위치.xlsx')\n",
    "df.columns = ['학교명', '위도', '경도']\n",
    "print(df.head())\n",
    "seoul_map = folium.Map(location=[37.55,126.98], tiles='Stamen Terrain', \n",
    "                        zoom_start=12)\n",
    "\n",
    "# 대학교 위치정보를 Marker로 표시\n",
    "for name, lat, lng in zip(df.학교명, df.위도, df.경도):\n",
    "    folium.Marker([lat, lng], popup=name).add_to(seoul_map)\n",
    "display(seoul_map)\n",
    "# 지도를 HTML 파일로 저장하기\n",
    "\n",
    "seoul_map.save('output/seoul_colleges.html')"
   ]
  },
  {
   "cell_type": "code",
   "execution_count": null,
   "metadata": {},
   "outputs": [],
   "source": [
    "# 예제 4-39\n",
    "# 라이브러리 불러오기\n",
    "import pandas as pd\n",
    "import folium\n",
    "\n",
    "# 대학교 리스트를 데이터프레임 변환\n",
    "df = pd.read_excel('./data/서울지역 대학교 위치.xlsx')\n",
    "df.columns = ['학교명', '위도', '경도']\n",
    "# 서울 지도 만들기\n",
    "seoul_map = folium.Map(location=[37.55,126.98], tiles='Stamen Terrain', \n",
    "                        zoom_start=12)\n",
    "\n",
    "# 대학교 위치정보를 CircleMarker로 표시\n",
    "for name, lat, lng in zip(df.학교명, df.위도, df.경도):\n",
    "    folium.CircleMarker([lat, lng],\n",
    "                        radius=10,         # 원의 반지름\n",
    "                        color='brown',         # 원의 둘레 색상\n",
    "                        fill=True,\n",
    "                        fill_color='coral',    # 원을 채우는 색\n",
    "                        fill_opacity=0.7, # 투명도    \n",
    "                        popup=name\n",
    "    ).add_to(seoul_map)\n",
    "    \n",
    "display(seoul_map)\n",
    "\n",
    "# 지도를 HTML 파일로 저장하기\n",
    "seoul_map.save('output/seoul_colleges2.html')"
   ]
  },
  {
   "cell_type": "markdown",
   "metadata": {},
   "source": [
    "## 단계구분도(Choropleth map)\n",
    "\n",
    "### 각기 다른 음영이나 색상 또는 값으로 각 지역과 관련된 데이터를 표현한 지도\n",
    "\n",
    "#### 지도 데이터 파일 (.geojson) - 지역에 대한 경계 정보를 제공\n",
    "#### 시각화 하고자 하는 데이터 파일 (.csv 등) - 지역별로 표현하고자 하는 데이터를 제공\n",
    "\n",
    "__Choropleth와 같은 레이어를 만들 때 위의 이 두 데이터를 파라미터로 넘겨줘야 하는데 데이터는 각자 다른 파일에 있으므로,__\n",
    "__시각화할 데이터를 지도에 얹으려면 두 데이터를 매핑해야 한다.__"
   ]
  },
  {
   "cell_type": "markdown",
   "metadata": {},
   "source": [
    "#### folium.Choropleth(\n",
    "####    geo_data = \"지도 데이터 파일 경로 (.geojson, geopandas.DataFrame)\"\n",
    "####    data = \"시각화 하고자 하는 데이터파일. (pandas.DataFrame)\"\n",
    "####    columns = (지도 데이터와 매핑할 데이터, 시각화 하고려는 데이터),\n",
    "####    key_on = \"지도 데이터 파일에서 데이터 파일과 매핑할 값 feature.properties.xxx\",\n",
    "####    fill_color = \"시각화에 쓰일 색상\",[fill_opacity=, line_opacity= ,]\n",
    "####    legend_name = \"칼라 범주 이름\",\n",
    "#### ).add_to(m)\n"
   ]
  },
  {
   "cell_type": "code",
   "execution_count": null,
   "metadata": {},
   "outputs": [],
   "source": [
    "# 예제 4-40\n",
    "# 라이브러리 불러오기\n",
    "import pandas as pd\n",
    "import folium\n",
    "import json\n",
    "\n",
    "# 경기도 인구변화 데이터를 불러와서 데이터프레임으로 변환\n",
    "file_path = 'data/경기도인구데이터.xlsx'\n",
    "df = pd.read_excel(file_path, index_col='구분')  \n",
    "df.columns = df.columns.map(str)\n",
    "display(df.head())\n",
    "# 경기도 시군구 경계 정보를 가진 geo-json 파일 불러오기\n",
    "geo_path = 'data/경기도행정구역경계.json'\n",
    "try:\n",
    "    geo_data = json.load(open(geo_path, encoding='utf-8'))\n",
    "except:\n",
    "    geo_data = json.load(open(geo_path, encoding='utf-8-sig'))\n",
    "\n",
    "# 경기도 지도 만들기\n",
    "g_map = folium.Map(location=[37.5502,126.982], \n",
    "                   tiles='Stamen Terrain', zoom_start=9)\n",
    "\n",
    "# 출력할 연도 선택 (2007 ~ 2017년 중에서 선택)\n",
    "year = '2017'  \n",
    "\n",
    "# Choropleth 클래스로 단계구분도 표시하기\n",
    "folium.Choropleth(geo_data=geo_data,    # 지도 경계\n",
    "                 data = df[year],      # 표시하려는 데이터\n",
    "                 columns = [df.index, df[year]],  # 열 지정\n",
    "                 fill_color='YlOrRd', fill_opacity=0.7, line_opacity=0.3,\n",
    "                 threshold_scale=[10000, 100000, 300000, 500000, 700000],              \n",
    "                 key_on='feature.properties.name',\n",
    "                 ).add_to(g_map)\n",
    "\n",
    "display(g_map)\n",
    "# 지도를 HTML 파일로 저장하기\n",
    "g_map.save('output/gyonggi_population_' + year + '.html')"
   ]
  },
  {
   "cell_type": "code",
   "execution_count": null,
   "metadata": {},
   "outputs": [],
   "source": [
    "# 팝업처리 추가\n",
    "import pandas as pd\n",
    "import folium\n",
    "import json\n",
    "\n",
    "# 경기도 인구변화 데이터를 불러와서 데이터프레임으로 변환\n",
    "file_path = 'data/경기도인구데이터.xlsx'\n",
    "df = pd.read_excel(file_path, index_col='구분')  \n",
    "df.columns = df.columns.map(str)\n",
    "\n",
    "# 경기도 시군구 경계 정보를 가진 geo-json 파일 불러오기\n",
    "geo_path = 'data/경기도행정구역경계.json'\n",
    "try:\n",
    "    geo_data = json.load(open(geo_path, encoding='utf-8'))\n",
    "except:\n",
    "    geo_data = json.load(open(geo_path, encoding='utf-8-sig'))\n",
    "\n",
    "#print(geo_data)\n",
    "\n",
    "# 경기도 지도 만들기\n",
    "g_map = folium.Map(location=[37.5502,126.982], \n",
    "                   tiles='Stamen Terrain', zoom_start=9)\n",
    "\n",
    "test = folium.Html('<b>Hello world</b>', script=True)\n",
    "\n",
    "popup = folium.Popup(test, max_width=2650)\n",
    "\n",
    "# 출력할 연도 선택 (2007 ~ 2017년 중에서 선택)\n",
    "year = '2017'  \n",
    "\n",
    "# Choropleth 클래스로 단계구분도 표시하기\n",
    "fmap=folium.Choropleth(geo_data=geo_data,    # 지도 경계\n",
    "                 data = df[year],      # 표시하려는 데이터\n",
    "                 columns = [df.index, df[year]],  # 열 지정\n",
    "                 fill_color='YlOrRd', fill_opacity=0.7, line_opacity=0.3,\n",
    "                 threshold_scale=[10000, 100000, 300000, 500000, 700000],               \n",
    "                 key_on='feature.properties.name',\n",
    "                 highlight=True\n",
    "                 \n",
    "                 ).add_to(g_map)\n",
    "fmap.geojson.zoom_on_click = False\n",
    "fmap.geojson.add_child(\n",
    "     folium.features.GeoJsonTooltip(['name'],labels=True)\n",
    ")\n",
    "\n",
    "display(g_map)\n",
    "# 지도를 HTML 파일로 저장하기\n",
    "g_map.save('output/gyonggi_population_' + year + '_2.html')\n"
   ]
  },
  {
   "cell_type": "code",
   "execution_count": null,
   "metadata": {},
   "outputs": [],
   "source": [
    "# 팝업처리 추가\n",
    "import pandas as pd\n",
    "import folium\n",
    "import json\n",
    "\n",
    "# 경기도 인구변화 데이터를 불러와서 데이터프레임으로 변환\n",
    "file_path = 'data/경기도인구데이터.xlsx'\n",
    "df = pd.read_excel(file_path, index_col='구분')  \n",
    "df.columns = df.columns.map(str)\n",
    "\n",
    "# 경기도 시군구 경계 정보를 가진 geo-json 파일 불러오기\n",
    "geo_path = 'data/경기도행정구역경계.json'\n",
    "try:\n",
    "    geo_data = json.load(open(geo_path, encoding='utf-8'))\n",
    "except:\n",
    "    geo_data = json.load(open(geo_path, encoding='utf-8-sig'))\n",
    "\n",
    "#print(geo_data)\n",
    "\n",
    "# 경기도 지도 만들기\n",
    "g_map = folium.Map(location=[37.5502,126.982], \n",
    "                   tiles='Stamen Terrain', zoom_start=9)\n",
    "\n",
    "test = folium.Html('<b>Hello world</b>', script=True)\n",
    "\n",
    "popup = folium.Popup(test, max_width=2650)\n",
    "\n",
    "# 출력할 연도 선택 (2007 ~ 2017년 중에서 선택)\n",
    "year = '2017'  \n",
    "\n",
    "# Choropleth 클래스로 단계구분도 표시하기\n",
    "fmap=folium.Choropleth(geo_data=geo_data,    # 지도 경계\n",
    "                 data = df[year],      # 표시하려는 데이터\n",
    "                 columns = [df.index, df[year]],  # 열 지정\n",
    "                 fill_color='YlOrRd', fill_opacity=0.7, line_opacity=0.3,\n",
    "                 threshold_scale=[10000, 100000, 300000, 500000, 700000],               \n",
    "                 key_on='feature.properties.name',\n",
    "                 highlight=True\n",
    "                 \n",
    "                 ).add_to(g_map)\n",
    "fmap.geojson.zoom_on_click = False\n",
    "fmap.geojson.add_child(\n",
    "    folium.features.GeoJsonPopup(['name'],labels=False)\n",
    ")\n",
    "\n",
    "display(g_map)\n",
    "# 지도를 HTML 파일로 저장하기\n",
    "g_map.save('output/gyonggi_population_' + year + '_3.html')\n"
   ]
  },
  {
   "cell_type": "code",
   "execution_count": null,
   "metadata": {},
   "outputs": [],
   "source": [
    "folium.Choropleth?"
   ]
  },
  {
   "cell_type": "code",
   "execution_count": null,
   "metadata": {},
   "outputs": [],
   "source": [
    "import pandas as pd\n",
    "import folium\n",
    "seoul_map = folium.Map(location=[37.55,126.98], tiles='Stamen Terrain', \n",
    "                       zoom_start=12)\n",
    "display(seoul_map)"
   ]
  },
  {
   "cell_type": "code",
   "execution_count": null,
   "metadata": {},
   "outputs": [],
   "source": [
    "import pandas as pd\n",
    "import folium\n",
    "seoul_map = folium.Map(location=[37.55,126.98], tiles='Stamen Terrain', \n",
    "                       zoom_start=12)\n",
    "tooltip = '클릭하셔용!'\n",
    "\n",
    "folium.Marker([37.55,126.98], popup='<div style=\"width:100px;color:green;text-align:center\">남산</div>', tooltip=tooltip).add_to(seoul_map)\n",
    "folium.Marker([37.58,126.975], popup='<div style=\"width:100px;text-align:center\"><b>경복궁</b></div>', tooltip=tooltip).add_to(seoul_map)\n",
    "display(seoul_map)"
   ]
  },
  {
   "cell_type": "code",
   "execution_count": 11,
   "metadata": {},
   "outputs": [
    {
     "data": {
      "text/html": [
       "<div style=\"width:100%;\"><div style=\"position:relative;width:100%;height:0;padding-bottom:60%;\"><span style=\"color:#565656\">Make this Notebook Trusted to load map: File -> Trust Notebook</span><iframe src=\"about:blank\" style=\"position:absolute;width:100%;height:100%;left:0;top:0;border:none !important;\" data-html=%3C%21DOCTYPE%20html%3E%0A%3Chead%3E%20%20%20%20%0A%20%20%20%20%3Cmeta%20http-equiv%3D%22content-type%22%20content%3D%22text/html%3B%20charset%3DUTF-8%22%20/%3E%0A%20%20%20%20%0A%20%20%20%20%20%20%20%20%3Cscript%3E%0A%20%20%20%20%20%20%20%20%20%20%20%20L_NO_TOUCH%20%3D%20false%3B%0A%20%20%20%20%20%20%20%20%20%20%20%20L_DISABLE_3D%20%3D%20false%3B%0A%20%20%20%20%20%20%20%20%3C/script%3E%0A%20%20%20%20%0A%20%20%20%20%3Cstyle%3Ehtml%2C%20body%20%7Bwidth%3A%20100%25%3Bheight%3A%20100%25%3Bmargin%3A%200%3Bpadding%3A%200%3B%7D%3C/style%3E%0A%20%20%20%20%3Cstyle%3E%23map%20%7Bposition%3Aabsolute%3Btop%3A0%3Bbottom%3A0%3Bright%3A0%3Bleft%3A0%3B%7D%3C/style%3E%0A%20%20%20%20%3Cscript%20src%3D%22https%3A//cdn.jsdelivr.net/npm/leaflet%401.6.0/dist/leaflet.js%22%3E%3C/script%3E%0A%20%20%20%20%3Cscript%20src%3D%22https%3A//code.jquery.com/jquery-1.12.4.min.js%22%3E%3C/script%3E%0A%20%20%20%20%3Cscript%20src%3D%22https%3A//maxcdn.bootstrapcdn.com/bootstrap/3.2.0/js/bootstrap.min.js%22%3E%3C/script%3E%0A%20%20%20%20%3Cscript%20src%3D%22https%3A//cdnjs.cloudflare.com/ajax/libs/Leaflet.awesome-markers/2.0.2/leaflet.awesome-markers.js%22%3E%3C/script%3E%0A%20%20%20%20%3Clink%20rel%3D%22stylesheet%22%20href%3D%22https%3A//cdn.jsdelivr.net/npm/leaflet%401.6.0/dist/leaflet.css%22/%3E%0A%20%20%20%20%3Clink%20rel%3D%22stylesheet%22%20href%3D%22https%3A//maxcdn.bootstrapcdn.com/bootstrap/3.2.0/css/bootstrap.min.css%22/%3E%0A%20%20%20%20%3Clink%20rel%3D%22stylesheet%22%20href%3D%22https%3A//maxcdn.bootstrapcdn.com/bootstrap/3.2.0/css/bootstrap-theme.min.css%22/%3E%0A%20%20%20%20%3Clink%20rel%3D%22stylesheet%22%20href%3D%22https%3A//maxcdn.bootstrapcdn.com/font-awesome/4.6.3/css/font-awesome.min.css%22/%3E%0A%20%20%20%20%3Clink%20rel%3D%22stylesheet%22%20href%3D%22https%3A//cdnjs.cloudflare.com/ajax/libs/Leaflet.awesome-markers/2.0.2/leaflet.awesome-markers.css%22/%3E%0A%20%20%20%20%3Clink%20rel%3D%22stylesheet%22%20href%3D%22https%3A//cdn.jsdelivr.net/gh/python-visualization/folium/folium/templates/leaflet.awesome.rotate.min.css%22/%3E%0A%20%20%20%20%0A%20%20%20%20%20%20%20%20%20%20%20%20%3Cmeta%20name%3D%22viewport%22%20content%3D%22width%3Ddevice-width%2C%0A%20%20%20%20%20%20%20%20%20%20%20%20%20%20%20%20initial-scale%3D1.0%2C%20maximum-scale%3D1.0%2C%20user-scalable%3Dno%22%20/%3E%0A%20%20%20%20%20%20%20%20%20%20%20%20%3Cstyle%3E%0A%20%20%20%20%20%20%20%20%20%20%20%20%20%20%20%20%23map_5b7feb133306488799039df6c1df5697%20%7B%0A%20%20%20%20%20%20%20%20%20%20%20%20%20%20%20%20%20%20%20%20position%3A%20relative%3B%0A%20%20%20%20%20%20%20%20%20%20%20%20%20%20%20%20%20%20%20%20width%3A%20100.0%25%3B%0A%20%20%20%20%20%20%20%20%20%20%20%20%20%20%20%20%20%20%20%20height%3A%20100.0%25%3B%0A%20%20%20%20%20%20%20%20%20%20%20%20%20%20%20%20%20%20%20%20left%3A%200.0%25%3B%0A%20%20%20%20%20%20%20%20%20%20%20%20%20%20%20%20%20%20%20%20top%3A%200.0%25%3B%0A%20%20%20%20%20%20%20%20%20%20%20%20%20%20%20%20%7D%0A%20%20%20%20%20%20%20%20%20%20%20%20%3C/style%3E%0A%20%20%20%20%20%20%20%20%0A%3C/head%3E%0A%3Cbody%3E%20%20%20%20%0A%20%20%20%20%0A%20%20%20%20%20%20%20%20%20%20%20%20%3Cdiv%20class%3D%22folium-map%22%20id%3D%22map_5b7feb133306488799039df6c1df5697%22%20%3E%3C/div%3E%0A%20%20%20%20%20%20%20%20%0A%3C/body%3E%0A%3Cscript%3E%20%20%20%20%0A%20%20%20%20%0A%20%20%20%20%20%20%20%20%20%20%20%20var%20map_5b7feb133306488799039df6c1df5697%20%3D%20L.map%28%0A%20%20%20%20%20%20%20%20%20%20%20%20%20%20%20%20%22map_5b7feb133306488799039df6c1df5697%22%2C%0A%20%20%20%20%20%20%20%20%20%20%20%20%20%20%20%20%7B%0A%20%20%20%20%20%20%20%20%20%20%20%20%20%20%20%20%20%20%20%20center%3A%20%5B37.55%2C%20126.98%5D%2C%0A%20%20%20%20%20%20%20%20%20%20%20%20%20%20%20%20%20%20%20%20crs%3A%20L.CRS.EPSG3857%2C%0A%20%20%20%20%20%20%20%20%20%20%20%20%20%20%20%20%20%20%20%20zoom%3A%2012%2C%0A%20%20%20%20%20%20%20%20%20%20%20%20%20%20%20%20%20%20%20%20zoomControl%3A%20true%2C%0A%20%20%20%20%20%20%20%20%20%20%20%20%20%20%20%20%20%20%20%20preferCanvas%3A%20false%2C%0A%20%20%20%20%20%20%20%20%20%20%20%20%20%20%20%20%7D%0A%20%20%20%20%20%20%20%20%20%20%20%20%29%3B%0A%0A%20%20%20%20%20%20%20%20%20%20%20%20%0A%0A%20%20%20%20%20%20%20%20%0A%20%20%20%20%0A%20%20%20%20%20%20%20%20%20%20%20%20var%20tile_layer_1ff622aa82bb4c8291f9cfc061b97803%20%3D%20L.tileLayer%28%0A%20%20%20%20%20%20%20%20%20%20%20%20%20%20%20%20%22https%3A//stamen-tiles-%7Bs%7D.a.ssl.fastly.net/terrain/%7Bz%7D/%7Bx%7D/%7By%7D.jpg%22%2C%0A%20%20%20%20%20%20%20%20%20%20%20%20%20%20%20%20%7B%22attribution%22%3A%20%22Map%20tiles%20by%20%5Cu003ca%20href%3D%5C%22http%3A//stamen.com%5C%22%5Cu003eStamen%20Design%5Cu003c/a%5Cu003e%2C%20under%20%5Cu003ca%20href%3D%5C%22http%3A//creativecommons.org/licenses/by/3.0%5C%22%5Cu003eCC%20BY%203.0%5Cu003c/a%5Cu003e.%20Data%20by%20%5Cu0026copy%3B%20%5Cu003ca%20href%3D%5C%22http%3A//openstreetmap.org%5C%22%5Cu003eOpenStreetMap%5Cu003c/a%5Cu003e%2C%20under%20%5Cu003ca%20href%3D%5C%22http%3A//creativecommons.org/licenses/by-sa/3.0%5C%22%5Cu003eCC%20BY%20SA%5Cu003c/a%5Cu003e.%22%2C%20%22detectRetina%22%3A%20false%2C%20%22maxNativeZoom%22%3A%2018%2C%20%22maxZoom%22%3A%2018%2C%20%22minZoom%22%3A%200%2C%20%22noWrap%22%3A%20false%2C%20%22opacity%22%3A%201%2C%20%22subdomains%22%3A%20%22abc%22%2C%20%22tms%22%3A%20false%7D%0A%20%20%20%20%20%20%20%20%20%20%20%20%29.addTo%28map_5b7feb133306488799039df6c1df5697%29%3B%0A%20%20%20%20%20%20%20%20%0A%20%20%20%20%0A%20%20%20%20%20%20%20%20%20%20%20%20var%20marker_8af6a98d2daf44ca909c0675ef64ab0a%20%3D%20L.marker%28%0A%20%20%20%20%20%20%20%20%20%20%20%20%20%20%20%20%5B37.55%2C%20126.98%5D%2C%0A%20%20%20%20%20%20%20%20%20%20%20%20%20%20%20%20%7B%7D%0A%20%20%20%20%20%20%20%20%20%20%20%20%29.addTo%28map_5b7feb133306488799039df6c1df5697%29%3B%0A%20%20%20%20%20%20%20%20%0A%20%20%20%20%0A%20%20%20%20%20%20%20%20%20%20%20%20var%20icon_80bd19141d154b89b395c615cdf8163b%20%3D%20L.AwesomeMarkers.icon%28%0A%20%20%20%20%20%20%20%20%20%20%20%20%20%20%20%20%7B%22extraClasses%22%3A%20%22fa-rotate-0%22%2C%20%22icon%22%3A%20%22info-sign%22%2C%20%22iconColor%22%3A%20%22white%22%2C%20%22markerColor%22%3A%20%22red%22%2C%20%22prefix%22%3A%20%22glyphicon%22%7D%0A%20%20%20%20%20%20%20%20%20%20%20%20%29%3B%0A%20%20%20%20%20%20%20%20%20%20%20%20marker_8af6a98d2daf44ca909c0675ef64ab0a.setIcon%28icon_80bd19141d154b89b395c615cdf8163b%29%3B%0A%20%20%20%20%20%20%20%20%0A%20%20%20%20%0A%20%20%20%20%20%20%20%20var%20popup_bc4af2318e6d45e49da706267ed71ab0%20%3D%20L.popup%28%7B%22maxWidth%22%3A%20300%2C%20%22minWidth%22%3A%20300%7D%29%3B%0A%0A%20%20%20%20%20%20%20%20%0A%20%20%20%20%20%20%20%20%20%20%20%20var%20html_2c9045ca84e74befaa230471b9a44c5b%20%3D%20%24%28%60%3Cdiv%20id%3D%22html_2c9045ca84e74befaa230471b9a44c5b%22%20style%3D%22width%3A%20100.0%25%3B%20height%3A%20100.0%25%3B%22%3E%3Ch3%3E%ED%85%8C%EC%8A%A4%ED%8A%B8%EA%B0%80%20%EC%9E%98%20%EB%90%98%EB%A9%B4%20%EC%A2%8B%EA%B2%A0%EB%8B%A4~~%3C/h3%3E%3C/div%3E%60%29%5B0%5D%3B%0A%20%20%20%20%20%20%20%20%20%20%20%20popup_bc4af2318e6d45e49da706267ed71ab0.setContent%28html_2c9045ca84e74befaa230471b9a44c5b%29%3B%0A%20%20%20%20%20%20%20%20%0A%0A%20%20%20%20%20%20%20%20marker_8af6a98d2daf44ca909c0675ef64ab0a.bindPopup%28popup_bc4af2318e6d45e49da706267ed71ab0%29%0A%20%20%20%20%20%20%20%20%3B%0A%0A%20%20%20%20%20%20%20%20%0A%20%20%20%20%0A%20%20%20%20%0A%20%20%20%20%20%20%20%20%20%20%20%20marker_8af6a98d2daf44ca909c0675ef64ab0a.bindTooltip%28%0A%20%20%20%20%20%20%20%20%20%20%20%20%20%20%20%20%60%3Cdiv%3E%0A%20%20%20%20%20%20%20%20%20%20%20%20%20%20%20%20%20%20%20%20%20%ED%81%B4%EB%A6%AD%ED%95%98%EC%85%94%EC%9A%A9%21%0A%20%20%20%20%20%20%20%20%20%20%20%20%20%20%20%20%20%3C/div%3E%60%2C%0A%20%20%20%20%20%20%20%20%20%20%20%20%20%20%20%20%7B%22sticky%22%3A%20true%7D%0A%20%20%20%20%20%20%20%20%20%20%20%20%29%3B%0A%20%20%20%20%20%20%20%20%0A%3C/script%3E onload=\"this.contentDocument.open();this.contentDocument.write(    decodeURIComponent(this.getAttribute('data-html')));this.contentDocument.close();\" allowfullscreen webkitallowfullscreen mozallowfullscreen></iframe></div></div>"
      ],
      "text/plain": [
       "<folium.folium.Map at 0x20298243370>"
      ]
     },
     "metadata": {},
     "output_type": "display_data"
    }
   ],
   "source": [
    "import pandas as pd\n",
    "import folium\n",
    "seoul_map = folium.Map(location=[37.55,126.98], tiles='Stamen Terrain', \n",
    "                       zoom_start=12)\n",
    "tooltip = '클릭하셔용!'\n",
    "\n",
    "test = folium.Html('<h3>테스트가 잘 되면 좋겠다~~</h3>', script=True)\n",
    "popup = folium.Popup(test, max_width=300,min_width=300)\n",
    "icon = folium.map.Icon(color='red', icon='info-sign')\n",
    "\n",
    "folium.Marker([37.55,126.98], popup = popup, icon=icon, tooltip=tooltip).add_to(seoul_map)\n",
    "\n",
    "\n",
    "display(seoul_map)"
   ]
  },
  {
   "cell_type": "code",
   "execution_count": null,
   "metadata": {},
   "outputs": [],
   "source": [
    "import pandas as pd\n",
    "import folium\n",
    "seoul_map = folium.Map(location=[37.55,126.98], tiles='Stamen Terrain', \n",
    "                       zoom_start=12)\n",
    "seoul_map.add_child(folium.LatLngPopup())\n",
    "\n",
    "display(seoul_map)"
   ]
  },
  {
   "cell_type": "code",
   "execution_count": null,
   "metadata": {},
   "outputs": [],
   "source": [
    "import pandas as pd\n",
    "import folium\n",
    "seoul_map = folium.Map(location=[37.55,126.98], tiles='Stamen Terrain', \n",
    "                       zoom_start=12)\n",
    "folium.Marker(\n",
    "    [37.55,126.98],\n",
    "    popup='남산'\n",
    ").add_to(seoul_map)\n",
    "\n",
    "seoul_map.add_child(folium.ClickForMarker(popup='내가 찍음!!'))\n",
    "\n",
    "display(seoul_map)"
   ]
  },
  {
   "cell_type": "code",
   "execution_count": null,
   "metadata": {},
   "outputs": [],
   "source": [
    "pop = pd.read_csv(\"./data/cctv_seoul.csv\")\n",
    "pop.head()"
   ]
  },
  {
   "cell_type": "code",
   "execution_count": null,
   "metadata": {},
   "outputs": [],
   "source": [
    "pop.sort_values(by=\"외국인\", ascending=False)"
   ]
  },
  {
   "cell_type": "code",
   "execution_count": null,
   "metadata": {},
   "outputs": [],
   "source": [
    "import json\n",
    "#geo_path = 'data/seoul_geo.json'\n",
    "geo_path = 'data/seoul.geojson'\n",
    "geo_str = json.load(open(geo_path, encoding='utf-8'))\n",
    "#print(geo_str)"
   ]
  },
  {
   "cell_type": "code",
   "execution_count": null,
   "metadata": {},
   "outputs": [],
   "source": [
    "map = folium.Map(location=[37.5502, 126.982], zoom_start=11,\n",
    "                 )\n",
    "fmap=folium.Choropleth(geo_data = geo_str,\n",
    "               data = pop,\n",
    "               columns = ['구별', '인구수'],\n",
    "               fill_color = 'YlGnBu',\n",
    "               key_on='feature.properties.name').add_to(map)\n",
    "fmap.geojson.zoom_on_click = False\n",
    "fmap.geojson.add_child(\n",
    "    folium.features.GeoJsonTooltip(['name'],labels=False)\n",
    ")\n",
    "display(map)"
   ]
  },
  {
   "cell_type": "code",
   "execution_count": null,
   "metadata": {},
   "outputs": [],
   "source": [
    "map = folium.Map(location=[37.5502, 126.982], zoom_start=11,\n",
    "                 )\n",
    "fmap=folium.Choropleth(geo_data = geo_str,\n",
    "               data = pop,\n",
    "               columns = ['구별', '고령자'],\n",
    "               fill_color = 'PuOr',\n",
    "               key_on='feature.properties.name').add_to(map)\n",
    "fmap.geojson.zoom_on_click = False\n",
    "fmap.geojson.add_child(\n",
    "    folium.features.GeoJsonTooltip(['name'],labels=False)\n",
    ")\n",
    "display(map)"
   ]
  },
  {
   "cell_type": "code",
   "execution_count": null,
   "metadata": {},
   "outputs": [],
   "source": [
    "map = folium.Map(location=[37.5502, 126.982], zoom_start=11,\n",
    "                 )\n",
    "fmap=folium.Choropleth(geo_data = geo_str,\n",
    "               data = pop,\n",
    "               columns = ['구별', '외국인'],\n",
    "               fill_color = 'Reds',\n",
    "               key_on='feature.properties.name').add_to(map)\n",
    "fmap.geojson.zoom_on_click = False\n",
    "fmap.geojson.add_child(\n",
    "    folium.features.GeoJsonTooltip(['name'],labels=False)\n",
    ")\n",
    "display(map)"
   ]
  },
  {
   "cell_type": "code",
   "execution_count": null,
   "metadata": {},
   "outputs": [],
   "source": [
    "map = folium.Map(location=[37.5502, 126.982], zoom_start=11,\n",
    "                 )\n",
    "fmap=folium.Choropleth(geo_data = geo_str,\n",
    "               data = pop,\n",
    "               columns = ['구별', 'CCTV수'],\n",
    "               fill_color = 'Blues',\n",
    "               key_on='feature.properties.name').add_to(map)\n",
    "fmap.geojson.zoom_on_click = False\n",
    "fmap.geojson.add_child(\n",
    "    folium.features.GeoJsonTooltip(['name'],labels=False)\n",
    ")\n",
    "display(map)"
   ]
  },
  {
   "cell_type": "code",
   "execution_count": null,
   "metadata": {},
   "outputs": [],
   "source": [
    "import json\n",
    "#geo_path = 'data/seoul_geo.json'\n",
    "geo_path = 'data/hankuk1_geo.json'\n",
    "geo_str = json.load(open(geo_path, encoding='utf-8'))\n",
    "print(geo_str)"
   ]
  },
  {
   "cell_type": "code",
   "execution_count": null,
   "metadata": {},
   "outputs": [],
   "source": [
    "map = folium.Map(location=[37.5502, 126.982], zoom_start=11,\n",
    "                 )\n",
    "fmap=folium.Choropleth(geo_data = geo_str,\n",
    "               data = pop,\n",
    "               columns = ['구별', '인구수'],\n",
    "               fill_color = 'YlGnBu',\n",
    "               key_on='feature.properties.sggnm').add_to(map)\n",
    "fmap.geojson.zoom_on_click = False\n",
    "fmap.geojson.add_child(\n",
    "    folium.features.GeoJsonTooltip(['sggnm'],labels=False)\n",
    ")\n",
    "display(map)"
   ]
  },
  {
   "cell_type": "code",
   "execution_count": null,
   "metadata": {},
   "outputs": [],
   "source": [
    "import folium\n",
    "\n",
    "m = folium.Map(\n",
    "    location=[37.55,126.99],\n",
    "    zoom_start=15\n",
    ")\n",
    "\n",
    "folium.CircleMarker(\n",
    "  [37.55,126.99],\n",
    "  radius=100,\n",
    "  color='#00ff00',\n",
    "  fill_color='#ff000099',\n",
    "  popup='여기가 남산이에요'\n",
    ").add_to(m)\n",
    "\n",
    "display(m)\n",
    "\n",
    "#m.save('map.html')"
   ]
  },
  {
   "cell_type": "code",
   "execution_count": null,
   "metadata": {},
   "outputs": [],
   "source": [
    "import folium\n",
    "\n",
    "m = folium.Map(\n",
    "    location=[37.55,126.99],\n",
    "    zoom_start=15\n",
    ")\n",
    "test = folium.Html('<h3>여기가 남산이에요~~</h3>', script=True)\n",
    "popup = folium.Popup(test, max_width=300,min_width=300)\n",
    "\n",
    "folium.CircleMarker(\n",
    "  [37.55,126.99],\n",
    "  radius=100,\n",
    "  color='#00ff00',\n",
    "  fill_color='#ff000099',\n",
    "  popup=popup\n",
    ").add_to(m)\n",
    "\n",
    "display(m)"
   ]
  },
  {
   "cell_type": "code",
   "execution_count": null,
   "metadata": {},
   "outputs": [],
   "source": [
    "m.save('output/map.html')"
   ]
  },
  {
   "cell_type": "code",
   "execution_count": null,
   "metadata": {},
   "outputs": [],
   "source": []
  },
  {
   "cell_type": "code",
   "execution_count": null,
   "metadata": {},
   "outputs": [],
   "source": []
  }
 ],
 "metadata": {
  "kernelspec": {
   "display_name": "pydatavenv",
   "language": "python",
   "name": "pydatavenv"
  },
  "language_info": {
   "codemirror_mode": {
    "name": "ipython",
    "version": 3
   },
   "file_extension": ".py",
   "mimetype": "text/x-python",
   "name": "python",
   "nbconvert_exporter": "python",
   "pygments_lexer": "ipython3",
   "version": "3.8.8"
  }
 },
 "nbformat": 4,
 "nbformat_minor": 4
}
