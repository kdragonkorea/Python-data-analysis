{
 "cells": [
  {
   "cell_type": "code",
   "execution_count": 5,
   "metadata": {},
   "outputs": [
    {
     "name": "stdout",
     "output_type": "stream",
     "text": [
      "  name  kor  eng  mat class\n",
      "0   둘리   90   99   90    1반\n",
      "1   또치   80   98   70    2반\n",
      "2  도우너   70   97   70    1반\n",
      "3  희동이   70   46   60    2반\n"
     ]
    }
   ],
   "source": [
    "# 문제1\n",
    "import pandas as pd\n",
    "\n",
    "data = {\n",
    "    'name':['둘리', '또치', '도우너', '희동이'],\n",
    "    'kor':[90, 80, 70, 70],\n",
    "    'eng':[99, 98, 97, 46],\n",
    "    'mat':[90, 70, 70, 60],\n",
    "}\n",
    "df = pd.DataFrame(data)\n",
    "df['class'] = ['1반', '2반', '1반', '2반']\n",
    "print(df)"
   ]
  },
  {
   "cell_type": "code",
   "execution_count": 9,
   "metadata": {},
   "outputs": [
    {
     "name": "stdout",
     "output_type": "stream",
     "text": [
      "  name  kor  eng  mat class\n",
      "0   둘리   90   99   90    1반\n",
      "1   또치   80   98   70    2반\n",
      "2  도우너   70   97   70    1반\n",
      "3  희동이   70   46   60    2반\n",
      "4  마이콜   80   80   80    1반\n"
     ]
    }
   ],
   "source": [
    "# 문제2\n",
    "df.loc[4] = ['마이콜', 80, 80, 80, '1반']\n",
    "print(df)"
   ]
  },
  {
   "cell_type": "code",
   "execution_count": 15,
   "metadata": {},
   "outputs": [
    {
     "name": "stdout",
     "output_type": "stream",
     "text": [
      "      국어  영어  수학 반번호\n",
      "name                \n",
      "둘리    90  99  90  1반\n",
      "또치    80  98  70  2반\n",
      "도우너   70  97  70  1반\n",
      "희동이   70  46  60  2반\n",
      "마이콜   80  80  80  1반\n"
     ]
    }
   ],
   "source": [
    "# 문제3\n",
    "\n",
    "df2 = df.set_index('name')\n",
    "# print(df2)\n",
    "df3 = df2.rename(columns = {'kor' : '국어',\n",
    "                            'eng' : '영어',\n",
    "                            'mat' : '수학',\n",
    "                            'class' : '반번호',})\n",
    "print(df3)"
   ]
  },
  {
   "cell_type": "code",
   "execution_count": 62,
   "metadata": {},
   "outputs": [
    {
     "data": {
      "text/html": [
       "<div>\n",
       "<style scoped>\n",
       "    .dataframe tbody tr th:only-of-type {\n",
       "        vertical-align: middle;\n",
       "    }\n",
       "\n",
       "    .dataframe tbody tr th {\n",
       "        vertical-align: top;\n",
       "    }\n",
       "\n",
       "    .dataframe thead th {\n",
       "        text-align: right;\n",
       "    }\n",
       "</style>\n",
       "<table border=\"1\" class=\"dataframe\">\n",
       "  <thead>\n",
       "    <tr style=\"text-align: right;\">\n",
       "      <th></th>\n",
       "      <th>국어</th>\n",
       "      <th>영어</th>\n",
       "      <th>수학</th>\n",
       "      <th>반번호</th>\n",
       "    </tr>\n",
       "    <tr>\n",
       "      <th>name</th>\n",
       "      <th></th>\n",
       "      <th></th>\n",
       "      <th></th>\n",
       "      <th></th>\n",
       "    </tr>\n",
       "  </thead>\n",
       "  <tbody>\n",
       "    <tr>\n",
       "      <th>둘리</th>\n",
       "      <td>90</td>\n",
       "      <td>99</td>\n",
       "      <td>90</td>\n",
       "      <td>1반</td>\n",
       "    </tr>\n",
       "    <tr>\n",
       "      <th>또치</th>\n",
       "      <td>80</td>\n",
       "      <td>98</td>\n",
       "      <td>70</td>\n",
       "      <td>2반</td>\n",
       "    </tr>\n",
       "    <tr>\n",
       "      <th>도우너</th>\n",
       "      <td>70</td>\n",
       "      <td>97</td>\n",
       "      <td>70</td>\n",
       "      <td>1반</td>\n",
       "    </tr>\n",
       "    <tr>\n",
       "      <th>희동이</th>\n",
       "      <td>70</td>\n",
       "      <td>90</td>\n",
       "      <td>60</td>\n",
       "      <td>2반</td>\n",
       "    </tr>\n",
       "    <tr>\n",
       "      <th>마이콜</th>\n",
       "      <td>100</td>\n",
       "      <td>100</td>\n",
       "      <td>100</td>\n",
       "      <td>1반</td>\n",
       "    </tr>\n",
       "  </tbody>\n",
       "</table>\n",
       "</div>"
      ],
      "text/plain": [
       "       국어   영어   수학 반번호\n",
       "name                   \n",
       "둘리     90   99   90  1반\n",
       "또치     80   98   70  2반\n",
       "도우너    70   97   70  1반\n",
       "희동이    70   90   60  2반\n",
       "마이콜   100  100  100  1반"
      ]
     },
     "execution_count": 62,
     "metadata": {},
     "output_type": "execute_result"
    }
   ],
   "source": [
    "# 문제4\n",
    "df3.loc['마이콜', ['국어', '영어', '수학']] = 100\n",
    "df3.loc['희동이', ['영어']] = 90\n",
    "df3"
   ]
  },
  {
   "cell_type": "code",
   "execution_count": 64,
   "metadata": {},
   "outputs": [
    {
     "data": {
      "text/html": [
       "<div>\n",
       "<style scoped>\n",
       "    .dataframe tbody tr th:only-of-type {\n",
       "        vertical-align: middle;\n",
       "    }\n",
       "\n",
       "    .dataframe tbody tr th {\n",
       "        vertical-align: top;\n",
       "    }\n",
       "\n",
       "    .dataframe thead th {\n",
       "        text-align: right;\n",
       "    }\n",
       "</style>\n",
       "<table border=\"1\" class=\"dataframe\">\n",
       "  <thead>\n",
       "    <tr style=\"text-align: right;\">\n",
       "      <th></th>\n",
       "      <th>성명</th>\n",
       "      <th>국어</th>\n",
       "      <th>영어</th>\n",
       "      <th>수학</th>\n",
       "      <th>반번호</th>\n",
       "    </tr>\n",
       "  </thead>\n",
       "  <tbody>\n",
       "    <tr>\n",
       "      <th>0</th>\n",
       "      <td>둘리</td>\n",
       "      <td>90</td>\n",
       "      <td>99</td>\n",
       "      <td>90</td>\n",
       "      <td>1반</td>\n",
       "    </tr>\n",
       "    <tr>\n",
       "      <th>1</th>\n",
       "      <td>또치</td>\n",
       "      <td>80</td>\n",
       "      <td>98</td>\n",
       "      <td>70</td>\n",
       "      <td>2반</td>\n",
       "    </tr>\n",
       "    <tr>\n",
       "      <th>2</th>\n",
       "      <td>도우너</td>\n",
       "      <td>70</td>\n",
       "      <td>97</td>\n",
       "      <td>70</td>\n",
       "      <td>1반</td>\n",
       "    </tr>\n",
       "    <tr>\n",
       "      <th>3</th>\n",
       "      <td>희동이</td>\n",
       "      <td>70</td>\n",
       "      <td>90</td>\n",
       "      <td>60</td>\n",
       "      <td>2반</td>\n",
       "    </tr>\n",
       "    <tr>\n",
       "      <th>4</th>\n",
       "      <td>마이콜</td>\n",
       "      <td>100</td>\n",
       "      <td>100</td>\n",
       "      <td>100</td>\n",
       "      <td>1반</td>\n",
       "    </tr>\n",
       "  </tbody>\n",
       "</table>\n",
       "</div>"
      ],
      "text/plain": [
       "    성명   국어   영어   수학 반번호\n",
       "0   둘리   90   99   90  1반\n",
       "1   또치   80   98   70  2반\n",
       "2  도우너   70   97   70  1반\n",
       "3  희동이   70   90   60  2반\n",
       "4  마이콜  100  100  100  1반"
      ]
     },
     "execution_count": 64,
     "metadata": {},
     "output_type": "execute_result"
    }
   ],
   "source": [
    "# 문제5\n",
    "df = df3.reset_index()\n",
    "df = df.rename(columns = {'name':'성명'})\n",
    "df"
   ]
  },
  {
   "cell_type": "code",
   "execution_count": 87,
   "metadata": {},
   "outputs": [
    {
     "name": "stdout",
     "output_type": "stream",
     "text": [
      "    성명   국어   영어   수학 반번호\n",
      "4  마이콜  100  100  100  1반\n",
      "0   둘리   90   99   90  1반\n",
      "1   또치   80   98   70  2반\n",
      "2  도우너   70   97   70  1반\n",
      "3  희동이   70   90   60  2반 \n",
      " \n",
      "     성명   국어   영어   수학 반번호\n",
      "3  희동이   70   90   60  2반\n",
      "2  도우너   70   97   70  1반\n",
      "1   또치   80   98   70  2반\n",
      "0   둘리   90   99   90  1반\n",
      "4  마이콜  100  100  100  1반\n"
     ]
    }
   ],
   "source": [
    "# 문제6\n",
    "df1 = df.sort_values(by = '국어', ascending=False)\n",
    "df2 = df.sort_values(by = '영어', ascending=True)\n",
    "print(df1,'\\n','\\n', df2)"
   ]
  },
  {
   "cell_type": "code",
   "execution_count": 97,
   "metadata": {},
   "outputs": [
    {
     "name": "stdout",
     "output_type": "stream",
     "text": [
      "    성명   국어   영어   수학 반번호   총점\n",
      "4  마이콜  100  100  100  1반  300\n",
      "0   둘리   90   99   90  1반  279\n",
      "1   또치   80   98   70  2반  248\n",
      "2  도우너   70   97   70  1반  237\n",
      "3  희동이   70   90   60  2반  220\n"
     ]
    }
   ],
   "source": [
    "# 문제7\n",
    "\n",
    "df['총점'] = df['국어'] + df['영어'] + df['수학']\n",
    "df = df.sort_values(by='총점', ascending=False)\n",
    "print(df)"
   ]
  },
  {
   "cell_type": "code",
   "execution_count": 100,
   "metadata": {},
   "outputs": [
    {
     "name": "stdout",
     "output_type": "stream",
     "text": [
      "    성명   국어   영어   수학   총점\n",
      "4  마이콜  100  100  100  300\n",
      "0   둘리   90   99   90  279\n",
      "1   또치   80   98   70  248\n",
      "2  도우너   70   97   70  237\n",
      "3  희동이   70   90   60  220\n",
      "    성명   국어   영어   수학 반번호   총점\n",
      "4  마이콜  100  100  100  1반  300\n",
      "0   둘리   90   99   90  1반  279\n",
      "1   또치   80   98   70  2반  248\n",
      "2  도우너   70   97   70  1반  237\n",
      "3  희동이   70   90   60  2반  220\n"
     ]
    }
   ],
   "source": [
    "# 문제8\n",
    "\n",
    "df3 = df.drop('반번호', axis=1)\n",
    "print(df3)\n",
    "print(df)"
   ]
  },
  {
   "cell_type": "code",
   "execution_count": 103,
   "metadata": {},
   "outputs": [
    {
     "name": "stdout",
     "output_type": "stream",
     "text": [
      "    성명  국어  영어  수학 반번호   총점\n",
      "0   둘리  90  99  90  1반  279\n",
      "1   또치  80  98  70  2반  248\n",
      "2  도우너  70  97  70  1반  237\n",
      "3  희동이  70  90  60  2반  220\n",
      "    성명   국어   영어   수학 반번호   총점\n",
      "4  마이콜  100  100  100  1반  300\n",
      "0   둘리   90   99   90  1반  279\n",
      "1   또치   80   98   70  2반  248\n",
      "2  도우너   70   97   70  1반  237\n",
      "3  희동이   70   90   60  2반  220\n"
     ]
    }
   ],
   "source": [
    "# 문제9\n",
    "\n",
    "df4 = df.drop(4, axis=0)\n",
    "print(df4)\n",
    "print(df)"
   ]
  },
  {
   "cell_type": "code",
   "execution_count": 130,
   "metadata": {},
   "outputs": [
    {
     "name": "stdout",
     "output_type": "stream",
     "text": [
      "eng    140\n",
      "kor    270\n",
      "mat    160\n",
      "dtype: int64\n",
      "eng    140\n",
      "kor    270\n",
      "mat    160\n",
      "dtype: int64\n"
     ]
    }
   ],
   "source": [
    "# 문제10\n",
    "\n",
    "data1 = {'kor':90, 'mat':80}\n",
    "data2 = {'kor':90, 'eng':70}\n",
    "data3 = {'kor':90, 'eng':70, 'mat':80}\n",
    "series1 = pd.Series( data1 )\n",
    "series2 = pd.Series( data2 )\n",
    "series3 = pd.Series( data3 )\n",
    "result = series1 + series2 + series3\n",
    "# print(result)\n",
    "\n",
    "series1['eng'] = 0\n",
    "series2['mat'] = 0\n",
    "result = series1 + series2 + series3\n",
    "print(result)\n",
    "\n",
    "# 다른방법\n",
    "result = series1.add(series2, fill_value = 0)\n",
    "result = result.add(series3, fill_value = 0)\n",
    "print(result)"
   ]
  },
  {
   "cell_type": "code",
   "execution_count": 134,
   "metadata": {},
   "outputs": [
    {
     "name": "stdout",
     "output_type": "stream",
     "text": [
      "         Y1    Y2    Y3    Y4    Y5     Y6\n",
      "X1     12.9  12.4  12.0  12.3  13.2   20.0\n",
      "X2     19.2  18.7  17.2  18.5  19.6   30.0\n",
      "X3     23.2  21.5  20.8  22.3  22.6   40.0\n",
      "X4     12.0  13.0  14.0  13.0  12.0   50.0\n",
      "total  67.3  65.6  64.0  66.1  67.4  140.0\n"
     ]
    }
   ],
   "source": [
    "# 문제11\n",
    "\n",
    "data = {\n",
    "    'X1':[2.9, 2.4, 2, 2.3, 3.2],\n",
    "    'X2':[9.2, 8.7, 7.2, 8.5, 9.6],\n",
    "    'X3':[13.2, 11.5, 10.8, 12.3, 12.6],\n",
    "    'X4':[2, 3, 4, 3, 2]\n",
    "} \n",
    "df = pd.DataFrame(data, index=['Y1','Y2','Y3', 'Y4', 'Y5'])\n",
    "# print(df)\n",
    "\n",
    "# 1\n",
    "df.loc['Y6'] = [10, 20, 30, 40]\n",
    "# print(df)\n",
    "\n",
    "# 2\n",
    "df2 = df + 10\n",
    "# print(df2)\n",
    "\n",
    "# 3\n",
    "df2['total'] = df2['X1'] + df2['X2'] + df2['X3'] + df2['X4']\n",
    "# print(df2)\n",
    "\n",
    "# 4\n",
    "df3 = df2.transpose() # df3 = dt2.T\n",
    "print(df3)"
   ]
  },
  {
   "cell_type": "code",
   "execution_count": null,
   "metadata": {},
   "outputs": [],
   "source": []
  }
 ],
 "metadata": {
  "kernelspec": {
   "display_name": "pydatavenv",
   "language": "python",
   "name": "pydatavenv"
  },
  "language_info": {
   "codemirror_mode": {
    "name": "ipython",
    "version": 3
   },
   "file_extension": ".py",
   "mimetype": "text/x-python",
   "name": "python",
   "nbconvert_exporter": "python",
   "pygments_lexer": "ipython3",
   "version": "3.8.8"
  }
 },
 "nbformat": 4,
 "nbformat_minor": 4
}
