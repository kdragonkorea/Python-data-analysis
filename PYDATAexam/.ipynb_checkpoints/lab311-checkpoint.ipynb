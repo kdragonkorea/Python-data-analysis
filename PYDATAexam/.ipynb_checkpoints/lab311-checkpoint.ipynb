{
 "cells": [
  {
   "cell_type": "code",
   "execution_count": 72,
   "metadata": {},
   "outputs": [],
   "source": [
    "from bs4 import BeautifulSoup\n",
    "import requests\n",
    "import re\n",
    "\n",
    "newstitle_list = []\n",
    "newscomname_list  = []\n",
    "\n",
    "url = 'http://media.daum.net/ranking/popular/'\n",
    "r = requests.get(url)\n",
    "#r.encoding = \"utf-8\"\n",
    "bs = BeautifulSoup(r.text, 'html.parser')\n",
    "newstitle = bs.select('ul.list_news2 > li > div.cont_thumb > strong > a')\n",
    "newscomname = bs.select('li > div.cont_thumb > strong > span')\n",
    "\n",
    "# for i in range(0,50):\n",
    "#     print(newstitle[i].text,':',newscomname[i].text)\n",
    "\n",
    "for i in newstitle:\n",
    "    newstitle_list.append(i.text)\n",
    "#print(newstitle_list)\n",
    "for i in newscomname:\n",
    "    newscomname_list.append(i.text)\n",
    "#print(newscomname_list)\n",
    "\n",
    "#print(len(newstitle))\n",
    "#mArticle > div.rank_news > ul.list_news2 > li:nth-child(9) > div.cont_thumb > strong > a\n",
    "\n",
    "\n",
    "with open('output/news.csv', \"wt\", encoding=\"utf-8\") as f:\n",
    "    f.write('newstitle,newscomname\\n')  \n",
    "    for i in range(len(newstitle_list)):\n",
    "        f.write(newstitle_list[i]+\",\"+newscomname_list[i]+'\\n')  "
   ]
  }
 ],
 "metadata": {
  "kernelspec": {
   "display_name": "pydatavenv",
   "language": "python",
   "name": "pydatavenv"
  },
  "language_info": {
   "codemirror_mode": {
    "name": "ipython",
    "version": 3
   },
   "file_extension": ".py",
   "mimetype": "text/x-python",
   "name": "python",
   "nbconvert_exporter": "python",
   "pygments_lexer": "ipython3",
   "version": "3.8.8"
  }
 },
 "nbformat": 4,
 "nbformat_minor": 4
}
