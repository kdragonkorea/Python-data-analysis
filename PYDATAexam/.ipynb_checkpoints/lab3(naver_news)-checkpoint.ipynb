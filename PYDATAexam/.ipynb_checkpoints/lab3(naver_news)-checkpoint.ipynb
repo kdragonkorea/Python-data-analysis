{
 "cells": [
  {
   "cell_type": "code",
   "execution_count": 48,
   "metadata": {},
   "outputs": [],
   "source": [
    "from bs4 import BeautifulSoup\n",
    "import requests\n",
    "import re\n",
    "\n",
    "newstitle_list = []\n",
    "newscomname_list  = []\n",
    "\n",
    "r = requests.get('http://media.daum.net/ranking/popular/')\n",
    "#r.encoding = \"utf-8\"\n",
    "bs = BeautifulSoup(r.text, 'html.parser')\n",
    "\n",
    "newstitle = bs.select('ul.list_news2 > li > div.cont_thumb > strong > a')\n",
    "newscomname = bs.select('li > div.cont_thumb > strong > span')\n",
    "\n",
    "for i in newstitle:\n",
    "    newstitle_list.append(i.text)\n",
    "for i in newscomname:\n",
    "    newscomname_list.append(i.text)\n",
    "\n",
    "# print(newstitle_list[0:2])\n",
    "# print(newscomname_list[0:2])\n",
    "\n",
    "with open('output/news.csv', \"wt\", encoding=\"utf-8\") as f:\n",
    "    f.write('newstitle,newscomname\\n')  \n",
    "    for i in range(len(newstitle_list)):\n",
    "        f.write(newstitle_list[i]+\",\"+newscomname_list[i]+'\\n')  "
   ]
  }
 ],
 "metadata": {
  "kernelspec": {
   "display_name": "pydatavenv",
   "language": "python",
   "name": "pydatavenv"
  },
  "language_info": {
   "codemirror_mode": {
    "name": "ipython",
    "version": 3
   },
   "file_extension": ".py",
   "mimetype": "text/x-python",
   "name": "python",
   "nbconvert_exporter": "python",
   "pygments_lexer": "ipython3",
   "version": "3.8.8"
  }
 },
 "nbformat": 4,
 "nbformat_minor": 4
}
