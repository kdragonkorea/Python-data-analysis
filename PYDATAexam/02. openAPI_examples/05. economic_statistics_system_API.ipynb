{
 "cells": [
  {
   "cell_type": "code",
   "execution_count": null,
   "metadata": {},
   "outputs": [],
   "source": [
    "from bs4 import BeautifulSoup\n",
    "import urllib.request as req\n",
    "import io\n",
    "\n",
    "key = '4WQ7X833TXC370SUTDX4'\n",
    "contentType = 'xml'\n",
    "startIndex = '1'\n",
    "endIndex = '100'\n",
    "\n",
    "url = 'http://ecos.bok.or.kr/api/KeyStatisticList/'+key+'/'+contentType+'/kr/'+startIndex+'/'+endIndex+'/'\n",
    "res = req.urlopen(url)\n",
    "\n",
    "ecoList = []\n",
    "for itemList in soup.find_all('row') :\n",
    "    class_name = itemList.find('CLASS_NAME').string\n",
    "    class_name = '없음' if class_name is None else class_name\n",
    "    keystat_name = itemList.find('KEYSTAT_NAME').string\n",
    "    keystat_name = '없음' if keystat_name is None else keystat_name\n",
    "    data_value = itemList.find('DATA_VALUE').string\n",
    "    data_value = '없음' if data_value is None else data_value\n",
    "    cycle = itemList.find('CYCLE').string\n",
    "    cycle = '없음' if cycle is None else cycle\n",
    "    unit_name = itemList.find('UNIT_NAME').string\n",
    "    unit_name = '없음' if unit_name is None else unit_name\n",
    "    ecoList.append((class_name, keystat_name, data_value, cycle, unit_name))\n",
    "\n",
    "print('[ 100대 통계 지표 ]')\n",
    "for class_name, keystat_name, data_value, cycle, unit_name in ecoList :\n",
    "    print(class_name+','+keystat_name+','+data_value+','+cycle+','+unit_name)\n"
   ]
  }
 ],
 "metadata": {
  "kernelspec": {
   "display_name": "pydatavenv",
   "language": "python",
   "name": "pydatavenv"
  },
  "language_info": {
   "codemirror_mode": {
    "name": "ipython",
    "version": 3
   },
   "file_extension": ".py",
   "mimetype": "text/x-python",
   "name": "python",
   "nbconvert_exporter": "python",
   "pygments_lexer": "ipython3",
   "version": "3.8.8"
  }
 },
 "nbformat": 4,
 "nbformat_minor": 4
}
