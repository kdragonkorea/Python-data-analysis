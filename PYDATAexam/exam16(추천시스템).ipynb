{
 "cells": [
  {
   "cell_type": "markdown",
   "metadata": {},
   "source": [
    "## 사용자 기반 협업 필터링 샘플"
   ]
  },
  {
   "cell_type": "code",
   "execution_count": 5,
   "metadata": {},
   "outputs": [
    {
     "data": {
      "text/html": [
       "<div>\n",
       "<style scoped>\n",
       "    .dataframe tbody tr th:only-of-type {\n",
       "        vertical-align: middle;\n",
       "    }\n",
       "\n",
       "    .dataframe tbody tr th {\n",
       "        vertical-align: top;\n",
       "    }\n",
       "\n",
       "    .dataframe thead th {\n",
       "        text-align: right;\n",
       "    }\n",
       "</style>\n",
       "<table border=\"1\" class=\"dataframe\">\n",
       "  <thead>\n",
       "    <tr style=\"text-align: right;\">\n",
       "      <th></th>\n",
       "      <th>택시운전사</th>\n",
       "      <th>남한산성</th>\n",
       "      <th>킹스맨:골든서클</th>\n",
       "      <th>범죄도시</th>\n",
       "      <th>아이 캔 스피크</th>\n",
       "      <th>기생충</th>\n",
       "    </tr>\n",
       "  </thead>\n",
       "  <tbody>\n",
       "    <tr>\n",
       "      <th>고길동</th>\n",
       "      <td>3.5</td>\n",
       "      <td>1.5</td>\n",
       "      <td>3.0</td>\n",
       "      <td>3.5</td>\n",
       "      <td>2.5</td>\n",
       "      <td>3.0</td>\n",
       "    </tr>\n",
       "    <tr>\n",
       "      <th>도우너</th>\n",
       "      <td>5.0</td>\n",
       "      <td>4.5</td>\n",
       "      <td>0.5</td>\n",
       "      <td>1.5</td>\n",
       "      <td>4.5</td>\n",
       "      <td>5.0</td>\n",
       "    </tr>\n",
       "    <tr>\n",
       "      <th>또치</th>\n",
       "      <td>3.0</td>\n",
       "      <td>2.5</td>\n",
       "      <td>1.5</td>\n",
       "      <td>3.0</td>\n",
       "      <td>3.5</td>\n",
       "      <td>3.0</td>\n",
       "    </tr>\n",
       "    <tr>\n",
       "      <th>마이콜</th>\n",
       "      <td>2.5</td>\n",
       "      <td>3.0</td>\n",
       "      <td>NaN</td>\n",
       "      <td>4.5</td>\n",
       "      <td>NaN</td>\n",
       "      <td>4.0</td>\n",
       "    </tr>\n",
       "    <tr>\n",
       "      <th>듀크</th>\n",
       "      <td>NaN</td>\n",
       "      <td>4.5</td>\n",
       "      <td>3.0</td>\n",
       "      <td>3.0</td>\n",
       "      <td>2.5</td>\n",
       "      <td>4.5</td>\n",
       "    </tr>\n",
       "    <tr>\n",
       "      <th>희동이</th>\n",
       "      <td>3.0</td>\n",
       "      <td>4.0</td>\n",
       "      <td>1.0</td>\n",
       "      <td>3.0</td>\n",
       "      <td>2.0</td>\n",
       "      <td>3.5</td>\n",
       "    </tr>\n",
       "    <tr>\n",
       "      <th>올라프</th>\n",
       "      <td>3.0</td>\n",
       "      <td>4.0</td>\n",
       "      <td>NaN</td>\n",
       "      <td>5.0</td>\n",
       "      <td>3.5</td>\n",
       "      <td>3.0</td>\n",
       "    </tr>\n",
       "    <tr>\n",
       "      <th>둘리</th>\n",
       "      <td>NaN</td>\n",
       "      <td>4.5</td>\n",
       "      <td>NaN</td>\n",
       "      <td>4.0</td>\n",
       "      <td>1.0</td>\n",
       "      <td>NaN</td>\n",
       "    </tr>\n",
       "  </tbody>\n",
       "</table>\n",
       "</div>"
      ],
      "text/plain": [
       "     택시운전사  남한산성  킹스맨:골든서클  범죄도시  아이 캔 스피크  기생충\n",
       "고길동    3.5   1.5       3.0   3.5       2.5  3.0\n",
       "도우너    5.0   4.5       0.5   1.5       4.5  5.0\n",
       "또치     3.0   2.5       1.5   3.0       3.5  3.0\n",
       "마이콜    2.5   3.0       NaN   4.5       NaN  4.0\n",
       "듀크     NaN   4.5       3.0   3.0       2.5  4.5\n",
       "희동이    3.0   4.0       1.0   3.0       2.0  3.5\n",
       "올라프    3.0   4.0       NaN   5.0       3.5  3.0\n",
       "둘리     NaN   4.5       NaN   4.0       1.0  NaN"
      ]
     },
     "metadata": {},
     "output_type": "display_data"
    }
   ],
   "source": [
    "import pandas as pd\n",
    "\n",
    "#rating; 평가\n",
    "ratings_expand={\n",
    "    '고길동': {\n",
    "        '택시운전사': 3.5,\n",
    "        '남한산성': 1.5,\n",
    "        '킹스맨:골든서클': 3.0,\n",
    "        '범죄도시': 3.5,\n",
    "        '아이 캔 스피크': 2.5,\n",
    "        '기생충': 3.0,\n",
    "    },\n",
    "    '도우너': {\n",
    "        '택시운전사': 5.0,\n",
    "        '남한산성': 4.5,\n",
    "        '킹스맨:골든서클': 0.5,\n",
    "        '범죄도시': 1.5,\n",
    "        '아이 캔 스피크': 4.5,\n",
    "        '기생충': 5.0,\n",
    "    },\n",
    "    '또치': {\n",
    "        '택시운전사': 3.0,\n",
    "        '남한산성': 2.5,\n",
    "        '킹스맨:골든서클': 1.5,\n",
    "        '범죄도시': 3.0,\n",
    "        '기생충': 3.0,\n",
    "        '아이 캔 스피크': 3.5,\n",
    "    },\n",
    "    '마이콜': {\n",
    "        '택시운전사': 2.5,\n",
    "        '남한산성': 3.0,\n",
    "        '범죄도시': 4.5,\n",
    "        '기생충': 4.0,\n",
    "    },\n",
    "    '듀크': {\n",
    "        '남한산성': 4.5,\n",
    "        '킹스맨:골든서클': 3.0,\n",
    "        '기생충': 4.5,\n",
    "        '범죄도시': 3.0,\n",
    "        '아이 캔 스피크': 2.5,\n",
    "    },\n",
    "    '희동이': {\n",
    "        '택시운전사': 3.0,\n",
    "        '남한산성': 4.0,\n",
    "        '킹스맨:골든서클': 1.0,\n",
    "        '범죄도시': 3.0,\n",
    "        '기생충': 3.5,\n",
    "        '아이 캔 스피크': 2.0,\n",
    "    },\n",
    "    '올라프': {\n",
    "        '택시운전사': 3.0,\n",
    "        '남한산성': 4.0,\n",
    "        '기생충': 3.0,\n",
    "        '범죄도시': 5.0,\n",
    "        '아이 캔 스피크': 3.5,\n",
    "    },\n",
    "    '둘리': {\n",
    "        '남한산성': 4.5, \n",
    "        '아이 캔 스피크': 1.0,\n",
    "        '범죄도시': 4.0\n",
    "    }\n",
    "}\n",
    "\n",
    "ratings = pd.DataFrame(ratings_expand).T\n",
    "display(ratings)"
   ]
  },
  {
   "cell_type": "code",
   "execution_count": 6,
   "metadata": {},
   "outputs": [
    {
     "data": {
      "text/html": [
       "<div>\n",
       "<style scoped>\n",
       "    .dataframe tbody tr th:only-of-type {\n",
       "        vertical-align: middle;\n",
       "    }\n",
       "\n",
       "    .dataframe tbody tr th {\n",
       "        vertical-align: top;\n",
       "    }\n",
       "\n",
       "    .dataframe thead th {\n",
       "        text-align: right;\n",
       "    }\n",
       "</style>\n",
       "<table border=\"1\" class=\"dataframe\">\n",
       "  <thead>\n",
       "    <tr style=\"text-align: right;\">\n",
       "      <th></th>\n",
       "      <th>남한산성</th>\n",
       "      <th>범죄도시</th>\n",
       "      <th>아이 캔 스피크</th>\n",
       "    </tr>\n",
       "  </thead>\n",
       "  <tbody>\n",
       "    <tr>\n",
       "      <th>둘리</th>\n",
       "      <td>4.5</td>\n",
       "      <td>4.0</td>\n",
       "      <td>1.0</td>\n",
       "    </tr>\n",
       "  </tbody>\n",
       "</table>\n",
       "</div>"
      ],
      "text/plain": [
       "    남한산성  범죄도시  아이 캔 스피크\n",
       "둘리   4.5   4.0       1.0"
      ]
     },
     "metadata": {},
     "output_type": "display_data"
    },
    {
     "data": {
      "text/plain": [
       "{'고길동': 0.8362781852960594,\n",
       " '도우너': 0.7705732382498681,\n",
       " '또치': 0.8357844772998744,\n",
       " '마이콜': 0.9673722233802452,\n",
       " '듀크': 0.9556029765914315,\n",
       " '희동이': 0.973616310567801,\n",
       " '올라프': 0.931805248032154}"
      ]
     },
     "execution_count": 6,
     "metadata": {},
     "output_type": "execute_result"
    }
   ],
   "source": [
    "import math\n",
    "import numpy as np\n",
    "\n",
    "def similar_user(name, dataframe):\n",
    "    # movies 안에는 name 사용자가 평가한 영화 이름만을 담는다.\n",
    "    movies = []\n",
    "    for i in dataframe.loc[name,:].index:\n",
    "        if math.isnan(dataframe.loc[name,i]) == False:\n",
    "            movies.append(i)\n",
    "    \n",
    "    # U_df는 name 사용자가 평가한 것만 추출합니다.\n",
    "    U_df = pd.DataFrame(dataframe.loc[name,movies] ).T\n",
    "    display(U_df)\n",
    "    # other_df는 name 사용자를 제외한 데이터프레임입니다.\n",
    "    other_df = dataframe.loc[:,movies].drop(name, axis=0)\n",
    "    \n",
    "  \n",
    "    #sim_dict에 name과 다른 사용자 간의 유사도를 평가한 결과를 담는다.\n",
    "    sim_dict = {}    \n",
    "    \n",
    "    # user와 name 사용자 둘 다 평점을 매긴 영화에 대한 벡터로 코사인 유사도를 구한다.\n",
    "    for user in other_df.index:\n",
    "        sm = [m for m in U_df.columns if math.isnan(other_df.loc[user,m])==False]        \n",
    "        main_n = np.linalg.norm(U_df.loc[name,sm])\n",
    "        user_n = np.linalg.norm(other_df.loc[user,sm])\n",
    "        prod = np.dot(U_df.loc[name,sm], other_df.loc[user,sm])\n",
    "        sim_dict[user] = prod/(main_n*user_n)      \n",
    "    \n",
    "    return sim_dict\n",
    "\n",
    "\n",
    "similar_user('둘리', ratings)\n"
   ]
  },
  {
   "cell_type": "code",
   "execution_count": 7,
   "metadata": {},
   "outputs": [
    {
     "data": {
      "text/html": [
       "<div>\n",
       "<style scoped>\n",
       "    .dataframe tbody tr th:only-of-type {\n",
       "        vertical-align: middle;\n",
       "    }\n",
       "\n",
       "    .dataframe tbody tr th {\n",
       "        vertical-align: top;\n",
       "    }\n",
       "\n",
       "    .dataframe thead th {\n",
       "        text-align: right;\n",
       "    }\n",
       "</style>\n",
       "<table border=\"1\" class=\"dataframe\">\n",
       "  <thead>\n",
       "    <tr style=\"text-align: right;\">\n",
       "      <th></th>\n",
       "      <th>남한산성</th>\n",
       "      <th>범죄도시</th>\n",
       "      <th>아이 캔 스피크</th>\n",
       "    </tr>\n",
       "  </thead>\n",
       "  <tbody>\n",
       "    <tr>\n",
       "      <th>둘리</th>\n",
       "      <td>4.5</td>\n",
       "      <td>4.0</td>\n",
       "      <td>1.0</td>\n",
       "    </tr>\n",
       "  </tbody>\n",
       "</table>\n",
       "</div>"
      ],
      "text/plain": [
       "    남한산성  범죄도시  아이 캔 스피크\n",
       "둘리   4.5   4.0       1.0"
      ]
     },
     "metadata": {},
     "output_type": "display_data"
    },
    {
     "data": {
      "text/plain": [
       "[('희동이', 0.973616310567801), ('마이콜', 0.9673722233802452)]"
      ]
     },
     "execution_count": 7,
     "metadata": {},
     "output_type": "execute_result"
    }
   ],
   "source": [
    "userlist=similar_user('둘리',ratings)\n",
    "\n",
    "import operator\n",
    "sorted(userlist.items() ,key=operator.itemgetter(1), reverse=True)[:2]"
   ]
  },
  {
   "cell_type": "code",
   "execution_count": 8,
   "metadata": {},
   "outputs": [],
   "source": [
    "import math\n",
    "import numpy as np\n",
    "\n",
    "def recommand(name, dataframe):\n",
    "    # movies 안에는 name 사용자가 평가한 영화 이름만을 담는다.\n",
    "    movies = []\n",
    "    for i in dataframe.loc[name,:].index:\n",
    "        if math.isnan(dataframe.loc[name,i]) == False:\n",
    "            movies.append(i)\n",
    "    \n",
    "    # U_df는 name 사용자가 평가한 것만 추출한다.\n",
    "    U_df = pd.DataFrame(dataframe.loc[name,movies] ).T\n",
    "    \n",
    "    # other_df는 name 사용자를 제외한 데이터프레임이다.\n",
    "    other_df = dataframe.loc[:,movies].drop(name, axis=0)   \n",
    "    \n",
    "    #sim_dict에 name과 다른 사용자 간의 유사도를 평가한 결과를 담는다.\n",
    "    sim_dict = {}\n",
    "    \n",
    "    \n",
    "    # user와 name 사용자 둘 다 평점을 매긴 영화에 대한 벡터로 코사인 유사도를 구한다.\n",
    "    for user in other_df.index:\n",
    "        sm = [m for m in U_df.columns if math.isnan(other_df.loc[user,m])==False]\n",
    "        \n",
    "        main_n = np.linalg.norm(U_df.loc[name,sm])\n",
    "        user_n = np.linalg.norm(other_df.loc[user,sm])\n",
    "        prod = np.dot(U_df.loc[name,sm], other_df.loc[user,sm])\n",
    "        sim_dict[user] = prod/(main_n*user_n)\n",
    "        \n",
    "    ###########################################################################\n",
    "    # 추천 영화 출력 #\n",
    "    \n",
    "    import operator\n",
    "    sim_mat = sorted(sim_dict.items() ,key=operator.itemgetter(1), reverse=True)  \n",
    "    \n",
    "    # name 사용자가 평가하지 않은 영화를 추출합니다.\n",
    "    recommend_list = list(set(dataframe.columns) - set(U_df.columns))\n",
    "    others_k = [i[0] for i in sim_mat]\n",
    "    recommender = dict()\n",
    "    for movie in recommend_list:\n",
    "        rating = []\n",
    "        sim = []\n",
    "        for person in others_k:\n",
    "            if math.isnan(dataframe.loc[person,movie])==False:\n",
    "                rating.append(dataframe.loc[person,movie])\n",
    "                sim.append(sim_dict[person])\n",
    "        pred = ((sim[0]*rating[0])+(sim[1]*rating[1]))/(sum(sim[:2]))\n",
    "        recommender[movie]= pred\n",
    "        \n",
    "    return sorted(recommender.items(), key=operator.itemgetter(1), reverse=True)"
   ]
  },
  {
   "cell_type": "code",
   "execution_count": 9,
   "metadata": {},
   "outputs": [
    {
     "data": {
      "text/plain": [
       "[('기생충', 3.749195759392914),\n",
       " ('택시운전사', 2.750804240607086),\n",
       " ('킹스맨:골든서클', 1.990662889337534)]"
      ]
     },
     "execution_count": 9,
     "metadata": {},
     "output_type": "execute_result"
    }
   ],
   "source": [
    "recommand('둘리', ratings)"
   ]
  },
  {
   "cell_type": "code",
   "execution_count": 10,
   "metadata": {},
   "outputs": [
    {
     "data": {
      "text/plain": [
       "[('마이콜', 4.265722708205136),\n",
       " ('올라프', 4.062890832820543),\n",
       " ('둘리', 2.6551626147608633)]"
      ]
     },
     "execution_count": 10,
     "metadata": {},
     "output_type": "execute_result"
    }
   ],
   "source": [
    "recommand('킹스맨:골든서클', ratings.T)"
   ]
  },
  {
   "cell_type": "markdown",
   "metadata": {},
   "source": [
    "### (참고) surprise 라는 추천 시스템 라이브러리도 있음"
   ]
  },
  {
   "cell_type": "code",
   "execution_count": null,
   "metadata": {},
   "outputs": [],
   "source": []
  }
 ],
 "metadata": {
  "kernelspec": {
   "display_name": "pydatavenv",
   "language": "python",
   "name": "pydatavenv"
  },
  "language_info": {
   "codemirror_mode": {
    "name": "ipython",
    "version": 3
   },
   "file_extension": ".py",
   "mimetype": "text/x-python",
   "name": "python",
   "nbconvert_exporter": "python",
   "pygments_lexer": "ipython3",
   "version": "3.8.8"
  }
 },
 "nbformat": 4,
 "nbformat_minor": 4
}
