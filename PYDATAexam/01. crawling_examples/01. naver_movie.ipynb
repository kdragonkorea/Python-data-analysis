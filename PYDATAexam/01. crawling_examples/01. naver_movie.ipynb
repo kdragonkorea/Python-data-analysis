{
 "cells": [
  {
   "cell_type": "code",
   "execution_count": 2,
   "metadata": {},
   "outputs": [
    {
     "data": {
      "text/plain": [
       "[<a class=\"movie color_b\" href=\"?st=mcode&amp;sword=189050&amp;target=after\">낙원의 밤</a>,\n",
       " <a class=\"movie color_b\" href=\"?st=mcode&amp;sword=196051&amp;target=after\">극장판 귀멸의 칼날: 무한열차편</a>,\n",
       " <a class=\"movie color_b\" href=\"?st=mcode&amp;sword=189050&amp;target=after\">낙원의 밤</a>,\n",
       " <a class=\"movie color_b\" href=\"?st=mcode&amp;sword=18592&amp;target=after\">모텔 선인장</a>,\n",
       " <a class=\"movie color_b\" href=\"?st=mcode&amp;sword=189050&amp;target=after\">낙원의 밤</a>,\n",
       " <a class=\"movie color_b\" href=\"?st=mcode&amp;sword=189050&amp;target=after\">낙원의 밤</a>,\n",
       " <a class=\"movie color_b\" href=\"?st=mcode&amp;sword=196979&amp;target=after\">사랑하고 사랑받고, 차고 차이고</a>,\n",
       " <a class=\"movie color_b\" href=\"?st=mcode&amp;sword=189050&amp;target=after\">낙원의 밤</a>,\n",
       " <a class=\"movie color_b\" href=\"?st=mcode&amp;sword=202925&amp;target=after\">모탈 컴뱃</a>,\n",
       " <a class=\"movie color_b\" href=\"?st=mcode&amp;sword=39633&amp;target=after\">황혼의 사무라이</a>]"
      ]
     },
     "execution_count": 2,
     "metadata": {},
     "output_type": "execute_result"
    }
   ],
   "source": [
    "# 네이버 영화 크롤링 - 제목, 평점, 리뷰(페이지 1개)\n",
    "\n",
    "import requests\n",
    "from bs4 import BeautifulSoup\n",
    "import re\n",
    "\n",
    "req = requests.get('http://movie.naver.com/movie/point/af/list.nhn?page=1')\n",
    "html = req.text # 인코딩이 필요없음: charset=euc-kr 이기 때문\n",
    "soup = BeautifulSoup(html, 'html.parser')\n",
    "titles = soup.select('.movie')\n",
    "points = soup.select('td.title > div > em')\n",
    "reviews = soup.select('td.title')\n",
    "movie_title = []\n",
    "movie_point = []\n",
    "movie_review = [] \n",
    "\n",
    "for dom in titles:\n",
    "    movie_title.append(dom.text)\n",
    "for dom in points:\n",
    "    movie_point.append(dom.text)\n",
    "for dom in reviews:\n",
    "    content = dom.contents[6] \n",
    "    #content=re.sub(\"신고\", '', content)\n",
    "    content=re.sub(\"[\\n\\t]\", '', content)     # \\n, \\t 제거\n",
    "    movie_review.append(content)\n",
    "commentLength = len(movie_title)   \n",
    "for i in range(commentLength):\n",
    "    print(\"영화 제목 : \" + movie_title[i])\n",
    "    print(\"평점 : \" + movie_point[i])\n",
    "    print(\"리뷰글 : \" + movie_review[i])\n",
    "    print(\"-----------------------------------------\")   \n"
   ]
  },
  {
   "cell_type": "code",
   "execution_count": null,
   "metadata": {},
   "outputs": [],
   "source": [
    "# 네이버 영화 크롤링 - 평점, 제목, 리뷰 (30개 페이지)\n",
    "\n",
    "import requests\n",
    "from bs4 import BeautifulSoup\n",
    "import re\n",
    "\n",
    "for n in range(1,31):\n",
    "    req = requests.get('http://movie.naver.com/movie/point/af/list.nhn?page='+str(n))\n",
    "    html = req.text\n",
    "    soup = BeautifulSoup(html, 'html.parser')\n",
    "    titles = soup.select('.movie' )\n",
    "    points = soup.select('td.title > div > em')\n",
    "    reviews = soup.select('td.title')\n",
    "    movie_title = []\n",
    "    movie_point = []\n",
    "    movie_review = []\n",
    "    for dom in titles:\n",
    "        movie_title.append(dom.text)\n",
    "    for dom in points:\n",
    "        movie_point.append(dom.text)\n",
    "    for dom in reviews:\n",
    "        content = dom.contents[6]\n",
    "        #content=re.sub(\"신고\", '', content)\n",
    "        content=re.sub(\"[\\n\\t]\", '', content)\n",
    "        movie_review.append(content)\n",
    "\n",
    "    commentLength = len(movie_title)   \n",
    "    for i in range(commentLength):\n",
    "        print(movie_point[i] + \",\"+movie_title[i]+\",\"+movie_review[i])\n",
    "    print(\"-----------------------------------------------------\")\n"
   ]
  },
  {
   "cell_type": "code",
   "execution_count": null,
   "metadata": {},
   "outputs": [],
   "source": []
  }
 ],
 "metadata": {
  "kernelspec": {
   "display_name": "pydatavenv",
   "language": "python",
   "name": "pydatavenv"
  },
  "language_info": {
   "codemirror_mode": {
    "name": "ipython",
    "version": 3
   },
   "file_extension": ".py",
   "mimetype": "text/x-python",
   "name": "python",
   "nbconvert_exporter": "python",
   "pygments_lexer": "ipython3",
   "version": "3.8.8"
  }
 },
 "nbformat": 4,
 "nbformat_minor": 4
}
