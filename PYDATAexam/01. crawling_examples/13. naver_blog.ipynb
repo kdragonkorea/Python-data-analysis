{
 "cells": [
  {
   "cell_type": "markdown",
   "metadata": {},
   "source": [
    "## 네이버 블로그 크롤링\n",
    "- page: 50개 추출\n",
    "- 방법1 : ['타랑께', '누비자', '반디클', '공유자전거', '공공자전거']\n",
    "- 방법2 : ['타랑께', '누비자', '반디클', '공유자전거', '공공자전거', '따릉이']\n",
    "- 방법3 : ['공공자전거', '공유자전거', '따릉이']\n",
    "> 전국 공공자전거 이름: https://twitter.com/891205V/status/1138031934712537088"
   ]
  },
  {
   "cell_type": "code",
   "execution_count": 14,
   "metadata": {},
   "outputs": [],
   "source": [
    "from selenium import webdriver\n",
    "from selenium.webdriver.common.keys import Keys\n",
    "import time\n",
    "import pandas as pd\n",
    "import re\n",
    "from tqdm import tqdm\n",
    "\n",
    "driver = webdriver.Chrome('C:/Temp/chromedriver')\n",
    "driver.implicitly_wait(3)"
   ]
  },
  {
   "cell_type": "code",
   "execution_count": 19,
   "metadata": {},
   "outputs": [
    {
     "name": "stderr",
     "output_type": "stream",
     "text": [
      "100%|██████████████████████████████████████████████████████████████████████████████████| 50/50 [01:11<00:00,  1.44s/it]\n"
     ]
    },
    {
     "name": "stdout",
     "output_type": "stream",
     "text": [
      "타랑께 : 수집완료\n"
     ]
    },
    {
     "name": "stderr",
     "output_type": "stream",
     "text": [
      "100%|██████████████████████████████████████████████████████████████████████████████████| 50/50 [01:12<00:00,  1.44s/it]\n"
     ]
    },
    {
     "name": "stdout",
     "output_type": "stream",
     "text": [
      "누비자 : 수집완료\n"
     ]
    },
    {
     "name": "stderr",
     "output_type": "stream",
     "text": [
      "100%|██████████████████████████████████████████████████████████████████████████████████| 50/50 [01:11<00:00,  1.43s/it]\n"
     ]
    },
    {
     "name": "stdout",
     "output_type": "stream",
     "text": [
      "반디클 : 수집완료\n"
     ]
    },
    {
     "name": "stderr",
     "output_type": "stream",
     "text": [
      "100%|██████████████████████████████████████████████████████████████████████████████████| 50/50 [01:14<00:00,  1.49s/it]\n"
     ]
    },
    {
     "name": "stdout",
     "output_type": "stream",
     "text": [
      "공유자전거 : 수집완료\n"
     ]
    },
    {
     "name": "stderr",
     "output_type": "stream",
     "text": [
      "100%|██████████████████████████████████████████████████████████████████████████████████| 50/50 [01:13<00:00,  1.47s/it]\n"
     ]
    },
    {
     "name": "stdout",
     "output_type": "stream",
     "text": [
      "공공자전거 : 수집완료\n"
     ]
    },
    {
     "name": "stderr",
     "output_type": "stream",
     "text": [
      "100%|██████████████████████████████████████████████████████████████████████████████████| 50/50 [01:15<00:00,  1.51s/it]"
     ]
    },
    {
     "name": "stdout",
     "output_type": "stream",
     "text": [
      "따릉이 : 수집완료\n"
     ]
    },
    {
     "name": "stderr",
     "output_type": "stream",
     "text": [
      "\n"
     ]
    }
   ],
   "source": [
    "keywords = ['타랑께', '누비자', '반디클', '공유자전거', '공공자전거', '따릉이']\n",
    "title_list = []\n",
    "url_list = []\n",
    "\n",
    "for keyword in keywords:\n",
    "    # 네이버 블로그홈 접속\n",
    "    url = 'https://section.blog.naver.com/BlogHome.nhn?directoryNo=0&currentPage=1&groupId=0'\n",
    "    driver.get(url)\n",
    "    time.sleep(2)\n",
    "\n",
    "    # 검색 키워드 클릭\n",
    "    src = driver.find_element_by_css_selector('div > div.area_search > form > fieldset > div > input')\n",
    "    src.click()\n",
    "\n",
    "    # 검색 키워드 입력\n",
    "    elem = driver.find_element_by_css_selector('div > div.area_search > form > fieldset > div > input')\n",
    "    elem.send_keys(keyword)\n",
    "    elem.send_keys(Keys.ENTER)\n",
    "    \n",
    "    # title, url, content 수집\n",
    "    for page in tqdm(range(1,51)):\n",
    "        url = 'https://section.blog.naver.com/Search/Post.nhn?pageNo='+str(page)+'&rangeType=ALL&orderBy=sim&keyword='+str(keyword)\n",
    "        driver.get(url)\n",
    "        css_selectors = driver.find_elements_by_css_selector('div > div > div.info_post > div.desc > a.desc_inner')\n",
    "\n",
    "        # title\n",
    "        for i in css_selectors:\n",
    "            title_list.append(i.text)\n",
    "        # url\n",
    "        for i in css_selectors:\n",
    "            url_list.append(i.get_attribute('href'))\n",
    "        time.sleep(1)\n",
    "    print(keyword, ': 수집완료')\n",
    "\n",
    "# 저장 (csv)\n",
    "df = pd.DataFrame({'title':title_list,'url':url_list})\n",
    "# df.to_csv(\"data/ky_naverblog2.csv\", index = None)"
   ]
  },
  {
   "cell_type": "code",
   "execution_count": null,
   "metadata": {},
   "outputs": [],
   "source": []
  },
  {
   "cell_type": "code",
   "execution_count": null,
   "metadata": {},
   "outputs": [],
   "source": []
  }
 ],
 "metadata": {
  "kernelspec": {
   "display_name": "pydatavenv",
   "language": "python",
   "name": "pydatavenv"
  },
  "language_info": {
   "codemirror_mode": {
    "name": "ipython",
    "version": 3
   },
   "file_extension": ".py",
   "mimetype": "text/x-python",
   "name": "python",
   "nbconvert_exporter": "python",
   "pygments_lexer": "ipython3",
   "version": "3.8.8"
  }
 },
 "nbformat": 4,
 "nbformat_minor": 4
}
