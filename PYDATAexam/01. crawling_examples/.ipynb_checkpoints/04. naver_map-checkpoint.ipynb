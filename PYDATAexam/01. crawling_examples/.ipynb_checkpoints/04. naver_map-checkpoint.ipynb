{
 "cells": [
  {
   "cell_type": "code",
   "execution_count": 16,
   "metadata": {},
   "outputs": [],
   "source": [
    "# 소스1: 스크롤 없이 스크래핑\n",
    "\n",
    "from selenium import webdriver\n",
    "from selenium.webdriver.common.keys import Keys \n",
    "\n",
    "driver = webdriver.Chrome('C:/Temp/chromedriver')\n",
    "driver.implicitly_wait(3) \n",
    "driver.get('https://map.naver.com/') \n",
    "import time\n",
    "time.sleep(2)"
   ]
  },
  {
   "cell_type": "code",
   "execution_count": 17,
   "metadata": {},
   "outputs": [],
   "source": [
    "target=driver.find_element_by_css_selector(\".input_search\")\n",
    "\n",
    "target.send_keys('서울시어린이도서관')\n",
    "target.send_keys(Keys.ENTER)\n",
    "\n",
    "time.sleep(2)\n",
    "\n",
    "driver.switch_to.frame(\"searchIframe\")  # 메인 x, Iframe으로 이동"
   ]
  },
  {
   "cell_type": "code",
   "execution_count": null,
   "metadata": {},
   "outputs": [],
   "source": [
    "while True :    \n",
    "    names = driver.find_elements_by_css_selector(\"span._16f7Q\")\n",
    "    addrs = driver.find_elements_by_css_selector(\"span._3W_ec\")\n",
    "    if len(names) == 0 :\n",
    "        print(\"추출되는 도서관이 더 이상 없슈\")\n",
    "        break\n",
    "    for i in range(len(names)) :\n",
    "        print(names[i].text,addrs[i].text, sep=\", \", end=\"\\n\")\n",
    "    print(\"------------------------------------------------\")\n",
    "    linkurl = '#app-root > div > div > div._2ky45 > a:nth-child(7)'\n",
    "    try :\n",
    "        linkNum = driver.find_element_by_css_selector(linkurl)\n",
    "    except :\n",
    "        print(\"더 이상 다음 페이지 없음\")\n",
    "        break\n",
    "    linkNum.click()  \n",
    "    time.sleep(5)\n",
    "print(\"스크래핑 종료\")\n",
    "#driver.quit()"
   ]
  },
  {
   "cell_type": "code",
   "execution_count": null,
   "metadata": {},
   "outputs": [],
   "source": [
    "#소스2: 스크롤하면서 스크래핑\n",
    "\n",
    "from selenium import webdriver\n",
    "from selenium.webdriver.common.keys import Keys \n",
    "\n",
    "driver = webdriver.Chrome('C:/Temp/chromedriver')\n",
    "driver.implicitly_wait(3) \n",
    "driver.get('https://map.naver.com/') \n",
    "import time\n",
    "time.sleep(2)\n",
    "\n",
    "target=driver.find_element_by_css_selector(\".input_search\")\n",
    "\n",
    "target.send_keys('서울시어린이도서관')\n",
    "target.send_keys(Keys.ENTER)\n",
    "\n",
    "time.sleep(2)\n",
    "driver.switch_to.frame(\"searchIframe\") # 메인 x, Iframe으로 이동\n",
    "while True :\n",
    "    count = 9\n",
    "    while True :\n",
    "        print(\"스크롤 : \" +str(count))\n",
    "        try :\n",
    "            driver.execute_script(\"var su = arguments[0]; var dom=document.querySelectorAll('#_pcmap_list_scroll_container>ul>li')[su]; dom.scrollIntoView();\", count)\n",
    "            time.sleep(2)\n",
    "        except :        \n",
    "            break\n",
    "        count += 10\n",
    "    names = driver.find_elements_by_css_selector(\"span._16f7Q\")\n",
    "    addrs = driver.find_elements_by_css_selector(\"span._3W_ec\")\n",
    "    if len(names) == 0 :\n",
    "        print(\"추출되는 도서관이 더 이상 없슈\")\n",
    "        break\n",
    "    for i in range(len(names)) :\n",
    "        print(names[i].text,addrs[i].text, sep=\", \", end=\"\\n\")\n",
    "    print(\"------------------------------------------------\")\n",
    "    linkurl = '#app-root > div > div > div._2ky45 > a:nth-child(7)'\n",
    "    try :\n",
    "        linkNum = driver.find_element_by_css_selector(linkurl)\n",
    "    except :\n",
    "        print(\"더 이상 다음 페이지 없음\")\n",
    "        break\n",
    "    linkNum.click()  \n",
    "    time.sleep(5)\n",
    "print(\"스크래핑 종료\")\n",
    "\n",
    "#driver.quit()"
   ]
  }
 ],
 "metadata": {
  "kernelspec": {
   "display_name": "pydatavenv",
   "language": "python",
   "name": "pydatavenv"
  },
  "language_info": {
   "codemirror_mode": {
    "name": "ipython",
    "version": 3
   },
   "file_extension": ".py",
   "mimetype": "text/x-python",
   "name": "python",
   "nbconvert_exporter": "python",
   "pygments_lexer": "ipython3",
   "version": "3.8.8"
  }
 },
 "nbformat": 4,
 "nbformat_minor": 4
}
