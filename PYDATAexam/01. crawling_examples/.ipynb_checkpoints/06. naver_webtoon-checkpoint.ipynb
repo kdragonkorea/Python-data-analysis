{
 "cells": [
  {
   "cell_type": "code",
   "execution_count": null,
   "metadata": {},
   "outputs": [],
   "source": [
    "# 네이버 웹툰 크롤링 - 제목, 요약, 평점 (페이지 10개)\n",
    "\n",
    "import requests\n",
    "from bs4 import BeautifulSoup\n",
    "\n",
    "title = []\n",
    "summary = []\n",
    "rating = []\n",
    "\n",
    "for page in range(1,11):\n",
    "    url = 'https://comic.naver.com/genre/bestChallenge.nhn?&page='+str(page)\n",
    "    r = requests.get(url)\n",
    "    bs = BeautifulSoup(r.text, 'html.parser')\n",
    "\n",
    "    title_list = bs.select('h6.challengeTitle a')\n",
    "    summary_list = bs.select('div.summary')\n",
    "    rating_list = bs.select('div.rating_type strong')\n",
    "    \n",
    "    for i in title_list:\n",
    "        title.append(i.text.strip())\n",
    "    for i in summary_list:\n",
    "        summary.append(i.text)\n",
    "    for i in rating_list:\n",
    "        rating.append(i.text)\n",
    "\n",
    "print(title)\n",
    "print('-------------------------------------------')\n",
    "print(summary)\n",
    "print('-------------------------------------------')\n",
    "print(rating)\n",
    "print('-------------------------------------------')"
   ]
  }
 ],
 "metadata": {
  "kernelspec": {
   "display_name": "pydatavenv",
   "language": "python",
   "name": "pydatavenv"
  },
  "language_info": {
   "codemirror_mode": {
    "name": "ipython",
    "version": 3
   },
   "file_extension": ".py",
   "mimetype": "text/x-python",
   "name": "python",
   "nbconvert_exporter": "python",
   "pygments_lexer": "ipython3",
   "version": "3.8.8"
  }
 },
 "nbformat": 4,
 "nbformat_minor": 4
}
