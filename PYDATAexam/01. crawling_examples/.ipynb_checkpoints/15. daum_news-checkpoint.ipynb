{
 "cells": [
  {
   "cell_type": "markdown",
   "metadata": {},
   "source": [
    "## Daum news web crawling\n",
    "\n",
    "- 데이터수집 기간 : 뉴스 게시일 기준 최근 6개월\n",
    "- 키워드1 : ['독거노인']\n",
    "- 키워드2 : ['애착인형']"
   ]
  },
  {
   "cell_type": "code",
   "execution_count": 277,
   "metadata": {},
   "outputs": [],
   "source": [
    "import pandas as pd\n",
    "from selenium import webdriver\n",
    "from selenium.webdriver.common.keys import Keys\n",
    "import time\n",
    "import re\n",
    "from tqdm import tqdm\n",
    "\n",
    "driver = webdriver.Chrome('C:/Temp/chromedriver')\n",
    "driver.implicitly_wait(3)"
   ]
  },
  {
   "cell_type": "code",
   "execution_count": null,
   "metadata": {},
   "outputs": [],
   "source": [
    "title_list = []\n",
    "date_company_list = []\n",
    "content_list = []\n",
    "\n",
    "keywords = ['독거노인', '애착인형']\n",
    "\n",
    "for keyword in keywords:\n",
    "    # 리스트 초기화\n",
    "    title_list = []\n",
    "    date_company_list = []\n",
    "    content_list = []\n",
    "        \n",
    "    # Daum 접속\n",
    "    url = 'https://news.daum.net/'\n",
    "    driver.get(url)\n",
    "    time.sleep(2)\n",
    "\n",
    "    # 검색 버튼 클릭\n",
    "    search_selector = '#qVal'\n",
    "    src = driver.find_element_by_css_selector(search_selector)\n",
    "    src.click()\n",
    "\n",
    "    # 검색 키워드 입력\n",
    "    elem = driver.find_element_by_css_selector(search_selector)\n",
    "    elem.send_keys(keyword)\n",
    "    elem.send_keys(Keys.ENTER)\n",
    "    time.sleep(2)\n",
    "\n",
    "    # 검색 키워드 삭제\n",
    "    # elem = driver.find_element_by_css_selector(search_selector)\n",
    "    # elem.clear()\n",
    "\n",
    "    # '뉴스 더보기' 클릭\n",
    "    more_view_selector = '#newsExtMore > span'\n",
    "    src = driver.find_element_by_css_selector(more_view_selector)\n",
    "    src.click()\n",
    "    time.sleep(2)\n",
    "\n",
    "    # '기간' 클릭\n",
    "    duration_selector = '#newsColl > div.coll_tabopt > div:nth-child(1) > a > span.txt_data'\n",
    "    src = driver.find_element_by_css_selector(duration_selector)\n",
    "    src.click()\n",
    "    time.sleep(2)\n",
    "\n",
    "    # 기간 6개월 클릭\n",
    "    six_month_selector = '#newsColl > div.coll_tabopt > div.menu_opt.opt_open > div > ul > li:nth-child(5) > a > span'\n",
    "    src = driver.find_element_by_css_selector(six_month_selector)\n",
    "    src.click()\n",
    "    time.sleep(2)\n",
    "\n",
    "    # 데이터 수집 + 페이지 이동\n",
    "    while True:    \n",
    "        # 제목 수집\n",
    "        title_selector = 'li > div.wrap_cont > div > div > a'\n",
    "        titles = driver.find_elements_by_css_selector(title_selector)\n",
    "        for i in titles:\n",
    "            title_list.append(i.text)\n",
    "\n",
    "        # 게시일/언론사 수집\n",
    "        date_company_selector = '#clusterResultUL > li > div.wrap_cont > div > span.f_nb.date'\n",
    "        dates_companies = driver.find_elements_by_css_selector(date_company_selector)\n",
    "        for i in dates_companies:\n",
    "            date_company_list.append(i.text)\n",
    "        \n",
    "        # 내용(요약) 수집\n",
    "        content_selector = '#clusterResultUL > li > div.wrap_cont > div > p'\n",
    "        contents = driver.find_elements_by_css_selector(content_selector)\n",
    "        for i in contents:\n",
    "            content_list.append(i.text)\n",
    "        \n",
    "        # 페이지 다음 버튼\n",
    "        next_page_selector = '#newsColl > div.paging_comm > span > span:nth-child(3) > a'\n",
    "        next_page = driver.find_element_by_css_selector(next_page_selector)\n",
    "        next_page.click()\n",
    "        time.sleep(2)\n",
    "        \n",
    "        # 페이지가 더이상 없을 경우 반복 중단\n",
    "        next_page_selector = '#newsColl > div.paging_comm > span > span:nth-child(3) > a'\n",
    "        next_page = driver.find_elements_by_css_selector(next_page_selector)\n",
    "        if len(next_page) == 0:\n",
    "            break\n",
    "        \n",
    "    print(keyword, ': 수집완료', len(title_list), len(date_company_list), len(content_list))\n",
    "    \n",
    "    # 저장 (csv)\n",
    "    df = pd.DataFrame({'title':title_list,'date_company':date_company_list,'content':content_list})\n",
    "    df.to_csv('daum_news_title_'+keyword+'.csv', index = None)"
   ]
  },
  {
   "cell_type": "markdown",
   "metadata": {},
   "source": [
    "**[결론]**   \n",
    "- 위와 같은 코드로 수행할 경우 80번째 페이지에서 다음 페이지로 넘어가는 버튼이 비활성화 되기 때문에 최대 80페이지 까지만 데이터 수집이 가능하다.\n",
    "- tqdm 라이브러리를 알게된 이후로 사용하고 싶은데, 무한루프에서는 사용이 제한된다는 것이 아쉬웠다. 80페이지 부터 다음 페이지로 넘어가는 버튼이 비활성화 되는 이슈 때문에 내가 알고 있는 로직으로 ('다음' 페이지 버튼의 elements 에 대해서 찾고 1 또는 0 을 반환하여 조건문을 통해 break 하는 방법) 수행할 수 밖에 없었다.\n",
    "- 지금 까지 해본 크롤링 코드중에서 가장 깔끔하게 구현은 한것 같아서 만족은 하지만, 비활성화에 대한 이슈로 더 많은 자료를 수집할 수 없는 부분에 대해서는 아쉬움으로 남는다."
   ]
  },
  {
   "cell_type": "markdown",
   "metadata": {},
   "source": [
    "## Preprocessing1\n",
    "\n",
    "- date와 company 분리   "
   ]
  },
  {
   "cell_type": "code",
   "execution_count": 329,
   "metadata": {},
   "outputs": [],
   "source": [
    "keywords = ['독거노인', '애착인형']\n",
    "date = []\n",
    "company = []\n",
    "\n",
    "for keyword in keywords:\n",
    "    \n",
    "    # 다음 키워드로 이동할 때 리스트 초기화\n",
    "    date = []\n",
    "    company = []\n",
    "    \n",
    "    # 저장된 파일 불러오기\n",
    "    df = pd.read_csv('daum_news_title_'+keyword+'.csv')\n",
    "\n",
    "    # split 함수를 이용하여 date와 company 쪼개고 새로운 컬럼으로 추가\n",
    "    date_company = df.date_company\n",
    "    date_company\n",
    "    for i in date_company:\n",
    "        date_split = i.split(' | ')[0]\n",
    "        date.append(date_split)   \n",
    "    df['date'] = date\n",
    "\n",
    "    for i in date_company:\n",
    "        company_split = i.split(' | ')[1]\n",
    "        company.append(company_split)   \n",
    "    df['company'] = company\n",
    "    df.head()\n",
    "\n",
    "    # 저장 (csv)\n",
    "    df.to_csv('daum_news_title_'+keyword+'_ver1.csv', index = None)"
   ]
  },
  {
   "cell_type": "markdown",
   "metadata": {},
   "source": [
    "## Preprocessing2\n",
    "- title과 content 형태소 분석기 사용하여 단어 빈출도 추출"
   ]
  },
  {
   "cell_type": "code",
   "execution_count": 332,
   "metadata": {},
   "outputs": [],
   "source": [
    "import re\n",
    "from konlpy.tag import Okt\n",
    "from wordcloud import WordCloud"
   ]
  },
  {
   "cell_type": "code",
   "execution_count": null,
   "metadata": {},
   "outputs": [],
   "source": [
    "# 파일 불러오기\n",
    "data = pd.read_csv('daum_news_title_독거노인_ver1.csv')\n",
    "data.drop_duplicates() # 중복행 제거"
   ]
  },
  {
   "cell_type": "code",
   "execution_count": 344,
   "metadata": {},
   "outputs": [],
   "source": [
    "# title data 합치기 (제거: '\\n')\n",
    "message = ''\n",
    "for item in data['title']:\n",
    "    message = message + re.sub('[^\\w]', ' ', item) +''\n",
    "\n",
    "# 정규화 (제거할 단어)\n",
    "message = re.sub('독거', '', message)\n",
    "message = re.sub('노인', '', message)\n",
    "message = re.sub('가구', '', message)\n",
    "\n",
    "# message"
   ]
  },
  {
   "cell_type": "code",
   "execution_count": 345,
   "metadata": {},
   "outputs": [],
   "source": [
    "# 명사 추출\n",
    "nlp = Okt()\n",
    "message_N = nlp.nouns(message)\n",
    "# message_N"
   ]
  },
  {
   "cell_type": "code",
   "execution_count": 349,
   "metadata": {},
   "outputs": [],
   "source": [
    "# 단어 빈도 확인\n",
    "count = Counter(message_N)\n",
    "word_count = dict()\n",
    "\n",
    "for tag, counts in count.most_common(100):\n",
    "    if(len(str(tag))>1):\n",
    "        word_count[tag] = counts\n",
    "#         print(tag,':',counts)"
   ]
  },
  {
   "cell_type": "markdown",
   "metadata": {},
   "source": [
    "## Visualization (히스토그램)"
   ]
  },
  {
   "cell_type": "code",
   "execution_count": 347,
   "metadata": {},
   "outputs": [
    {
     "data": {
      "image/png": "[encoded data removed]",
      "text/plain": [
       "<Figure size 1656x360 with 1 Axes>"
      ]
     },
     "metadata": {
      "needs_background": "light"
     },
     "output_type": "display_data"
    }
   ],
   "source": [
    "from matplotlib import font_manager, rc\n",
    "font_path = \"../data/THEdog.ttf\"   #폰트파일의 위치\n",
    "font_name = font_manager.FontProperties(fname=font_path).get_name()\n",
    "rc('font', family=font_name)\n",
    "\n",
    "plt.figure(figsize=(23,5))\n",
    "plt.xlabel('키워드')\n",
    "plt.ylabel('빈도수')\n",
    "plt.grid(True)\n",
    "\n",
    "sorted_Keys = sorted(word_count, key=word_count.get, reverse=True)\n",
    "sorted_Values = sorted(word_count.values(), reverse=True)\n",
    "\n",
    "plt.bar(range(len(word_count)), sorted_Values, align='center')\n",
    "plt.xticks(range(len(word_count)), list(sorted_Keys), rotation='75')\n",
    "\n",
    "plt.show()"
   ]
  },
  {
   "cell_type": "markdown",
   "metadata": {},
   "source": [
    "## Visualization (워드클라우드)"
   ]
  },
  {
   "cell_type": "code",
   "execution_count": null,
   "metadata": {},
   "outputs": [],
   "source": [
    "from wordcloud import WordCloud\n",
    "\n",
    "wc = WordCloud(font_path, background_color='ivory', width=800, height=600)\n",
    "cloud=wc.generate_from_frequencies(word_count)\n",
    "\n",
    "plt.figure(figsize=(15,8))\n",
    "plt.imshow(cloud)\n",
    "plt.axis('off')\n",
    "plt.show()\n",
    "\n",
    "# 워드클라우드 png저장\n",
    "wc.to_file('data/wordcloud_독거노인.png')"
   ]
  }
 ],
 "metadata": {
  "kernelspec": {
   "display_name": "pydatavenv",
   "language": "python",
   "name": "pydatavenv"
  },
  "language_info": {
   "codemirror_mode": {
    "name": "ipython",
    "version": 3
   },
   "file_extension": ".py",
   "mimetype": "text/x-python",
   "name": "python",
   "nbconvert_exporter": "python",
   "pygments_lexer": "ipython3",
   "version": "3.8.8"
  }
 },
 "nbformat": 4,
 "nbformat_minor": 4
}
