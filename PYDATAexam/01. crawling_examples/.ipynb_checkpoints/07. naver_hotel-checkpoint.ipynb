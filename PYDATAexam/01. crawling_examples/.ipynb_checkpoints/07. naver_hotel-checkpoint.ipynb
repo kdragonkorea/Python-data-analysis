{
 "cells": [
  {
   "cell_type": "code",
   "execution_count": null,
   "metadata": {},
   "outputs": [],
   "source": [
    "# 네이버 호텔 크롤링 - 리뷰 (모든 페이지)\n",
    "\n",
    "from selenium import webdriver\n",
    "import time\n",
    "\n",
    "driver = webdriver.Chrome('C:/Temp/chromedriver')\n",
    "driver.implicitly_wait(3) \n",
    "\n",
    "driver.get('https://hotel.naver.com/hotels/item?hotelId=hotel:Shilla_Stay_Yeoksam&destination_kor=%EC%8B%A0%EB%9D%BC%EC%8A%A4%ED%85%8C%EC%9D%B4%20%EC%97%AD%EC%82%BC&rooms=2')\n",
    "time.sleep(2)\n",
    "\n",
    "trip_advisor = driver.find_element_by_css_selector('div.hotel_used_review.ng-isolate-scope > ul > li.ng-scope.item_ta > a')\n",
    "trip_advisor.click()\n",
    "\n",
    "txt_list = []\n",
    "\n",
    "for btn in range(1,11):\n",
    "    for i in range(1,5):\n",
    "        css = 'div.review_ta.ng-scope > ul > li:nth-child('+str(i)+') > div.review_desc > p'\n",
    "        txt = driver.find_element_by_css_selector(css)\n",
    "        txt_list.append(txt.text)\n",
    "\n",
    "    next_btn = driver.find_element_by_css_selector('div.review_ta.ng-scope > div.paginate > a.direction.next')\n",
    "    next_btn.click()\n",
    "    time.sleep(2)\n",
    "\n",
    "# print(len(txt_list))\n",
    "txt_list\n",
    "\n",
    "# wfile = open(\"output/naverhotel.txt\",\"w\", encoding=\"utf-8\")\n",
    "# wfile.writelines(txt_list)\n",
    "# wfile.close()"
   ]
  }
 ],
 "metadata": {
  "kernelspec": {
   "display_name": "pydatavenv",
   "language": "python",
   "name": "pydatavenv"
  },
  "language_info": {
   "codemirror_mode": {
    "name": "ipython",
    "version": 3
   },
   "file_extension": ".py",
   "mimetype": "text/x-python",
   "name": "python",
   "nbconvert_exporter": "python",
   "pygments_lexer": "ipython3",
   "version": "3.8.8"
  }
 },
 "nbformat": 4,
 "nbformat_minor": 4
}
