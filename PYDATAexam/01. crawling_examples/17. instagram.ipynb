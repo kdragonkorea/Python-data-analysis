{
 "cells": [
  {
   "cell_type": "markdown",
   "metadata": {},
   "source": [
    "## 인스타그램 크롤링\n",
    "- 데이터 수집 방법: 고유계정(키워드or고유계정)\n",
    "- 데이터 수집 범위: 평일기준 당일의 컨텐츠\n",
    "> 링크: https://www.instagram.com/jungsuk_cafeteria/"
   ]
  },
  {
   "cell_type": "code",
   "execution_count": 41,
   "metadata": {},
   "outputs": [],
   "source": [
    "from selenium import webdriver\n",
    "from selenium.webdriver.common.keys import Keys\n",
    "import time\n",
    "import re\n",
    "\n",
    "driver = webdriver.Chrome('C:/Temp/chromedriver')\n",
    "driver.implicitly_wait(3)"
   ]
  },
  {
   "cell_type": "code",
   "execution_count": 42,
   "metadata": {},
   "outputs": [],
   "source": [
    "# 인스타그램 접속\n",
    "id = 'kdragonkorea@gmail.com'\n",
    "pw = 'kdragontest1234'\n",
    "url = 'https://www.instagram.com'\n",
    "driver.get(url)\n",
    "# /jungsuk_cafeteria/\n",
    "\n",
    "# 로그인\n",
    "src = driver.find_element_by_css_selector('#loginForm > div > div:nth-child(1) > div > label > input')\n",
    "src.click()\n",
    "elem = driver.find_element_by_css_selector('#loginForm > div > div:nth-child(1) > div > label > input')\n",
    "elem.send_keys(id)\n",
    "\n",
    "src = driver.find_element_by_css_selector('#loginForm > div > div:nth-child(2) > div > label > input')\n",
    "src.click()\n",
    "elem = driver.find_element_by_css_selector('#loginForm > div > div:nth-child(2) > div > label > input')\n",
    "elem.send_keys(pw)\n",
    "\n",
    "src = driver.find_element_by_css_selector('#loginForm > div > div:nth-child(3)')\n",
    "src.click()\n",
    "time.sleep(1)\n",
    "\n",
    "# 알림설정 해지\n",
    "src = driver.find_element_by_css_selector('body > div.RnEpo.Yx5HN > div > div > div > div.mt3GC > button.aOOlW.HoLwm')\n",
    "src.click()"
   ]
  },
  {
   "cell_type": "code",
   "execution_count": 43,
   "metadata": {},
   "outputs": [],
   "source": [
    "# 키워드 입력\n",
    "keyword = 'jungsuk_cafeteria'\n",
    "src = driver.find_element_by_css_selector('#react-root > section > nav > div._8MQSO.Cx7Bp > div > div > div.LWmhU._0aCwM')\n",
    "src.click()\n",
    "elem = driver.find_element_by_css_selector('#react-root > section > nav > div._8MQSO.Cx7Bp > div > div > div.LWmhU._0aCwM > input')\n",
    "elem.send_keys(keyword)\n",
    "time.sleep(1)\n",
    "src = driver.find_element_by_css_selector('#react-root > section > nav > div._8MQSO.Cx7Bp > div > div > div.LWmhU._0aCwM > div.yPP5B > div > div._01UL2 > div > div > a > div')\n",
    "src.click()"
   ]
  },
  {
   "cell_type": "code",
   "execution_count": 44,
   "metadata": {},
   "outputs": [],
   "source": [
    "# 첫 콘텐츠 클릭\n",
    "selector = '#react-root > section > main > div > div._2z6nI > article > div:nth-child(1) > div > div:nth-child(1) > div:nth-child(1) > a > div.eLAPa > div._9AhH0'\n",
    "src = driver.find_element_by_css_selector(selector)\n",
    "src.click()"
   ]
  },
  {
   "cell_type": "code",
   "execution_count": null,
   "metadata": {},
   "outputs": [],
   "source": []
  }
 ],
 "metadata": {
  "kernelspec": {
   "display_name": "pydatavenv",
   "language": "python",
   "name": "pydatavenv"
  },
  "language_info": {
   "codemirror_mode": {
    "name": "ipython",
    "version": 3
   },
   "file_extension": ".py",
   "mimetype": "text/x-python",
   "name": "python",
   "nbconvert_exporter": "python",
   "pygments_lexer": "ipython3",
   "version": "3.8.10"
  }
 },
 "nbformat": 4,
 "nbformat_minor": 4
}
