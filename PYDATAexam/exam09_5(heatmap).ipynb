{
 "cells": [
  {
   "cell_type": "markdown",
   "metadata": {},
   "source": [
    "# heatmap"
   ]
  },
  {
   "cell_type": "code",
   "execution_count": 3,
   "metadata": {},
   "outputs": [
    {
     "ename": "NameError",
     "evalue": "name 'pdf1' is not defined",
     "output_type": "error",
     "traceback": [
      "\u001b[1;31m---------------------------------------------------------------------------\u001b[0m",
      "\u001b[1;31mNameError\u001b[0m                                 Traceback (most recent call last)",
      "\u001b[1;32m<ipython-input-3-9c000ae6f890>\u001b[0m in \u001b[0;36m<module>\u001b[1;34m\u001b[0m\n\u001b[0;32m      1\u001b[0m \u001b[1;32mimport\u001b[0m \u001b[0mseaborn\u001b[0m \u001b[1;32mas\u001b[0m \u001b[0msns\u001b[0m\u001b[1;33m\u001b[0m\u001b[1;33m\u001b[0m\u001b[0m\n\u001b[1;32m----> 2\u001b[1;33m \u001b[0msns\u001b[0m\u001b[1;33m.\u001b[0m\u001b[0mheatmap\u001b[0m\u001b[1;33m(\u001b[0m\u001b[0mpdf1\u001b[0m\u001b[1;33m,\u001b[0m \u001b[0mannot\u001b[0m\u001b[1;33m=\u001b[0m\u001b[1;32mTrue\u001b[0m\u001b[1;33m)\u001b[0m\u001b[1;33m\u001b[0m\u001b[1;33m\u001b[0m\u001b[0m\n\u001b[0m",
      "\u001b[1;31mNameError\u001b[0m: name 'pdf1' is not defined"
     ]
    }
   ],
   "source": [
    "import seaborn as sns\n",
    "sns.heatmap(pdf1, annot=True)"
   ]
  },
  {
   "cell_type": "code",
   "execution_count": null,
   "metadata": {},
   "outputs": [],
   "source": [
    "# 값에 적용하는 집계 함수를 2개 이상 지정 가능 - 생존율, 생존자 수 집계\n",
    "pdf2 = pd.pivot_table(df,                       # 피벗할 데이터프레임\n",
    "                     index='class',             # 행 위치에 들어갈 열\n",
    "                     columns='sex',             # 열 위치에 들어갈 열\n",
    "                     values='survived',         # 데이터로 사용할 열\n",
    "                     aggfunc=['mean', 'sum'])   # 데이터 집계 함수\n",
    "\n",
    "print(pdf2.head())\n",
    "print('\\n')\n"
   ]
  },
  {
   "cell_type": "code",
   "execution_count": null,
   "metadata": {},
   "outputs": [],
   "source": [
    "sns.heatmap(pdf2, annot=True, cmap=\"PuRd\")"
   ]
  },
  {
   "cell_type": "code",
   "execution_count": null,
   "metadata": {},
   "outputs": [],
   "source": [
    "# 행, 열, 값에 사용할 열을 2개 이상 지정 가능 - 평균 나이, 최대 요금 집계\n",
    "pdf3 = pd.pivot_table(df,                       # 피벗할 데이터프레임\n",
    "                     index=['class', 'sex'],    # 행 위치에 들어갈 열\n",
    "                     columns='survived',        # 열 위치에 들어갈 열\n",
    "                     values=['age', 'fare'],    # 데이터로 사용할 열\n",
    "                     aggfunc=['mean', 'max'])   # 데이터 집계 함수\n",
    "\n",
    "# IPython Console 디스플레이 옵션 설정\n",
    "pd.set_option('display.max_columns', 10)        # 출력할 열의 개수 한도\n",
    "print(pdf3.head())\n",
    "print('\\n')\n",
    "\n",
    "# 행, 열 구조 살펴보기\n",
    "print(pdf3.index)\n",
    "print(pdf3.columns)\n",
    "print('\\n')"
   ]
  },
  {
   "cell_type": "code",
   "execution_count": null,
   "metadata": {},
   "outputs": [],
   "source": [
    "sns.heatmap(pdf3, annot=True, fmt='.1f')"
   ]
  },
  {
   "cell_type": "code",
   "execution_count": null,
   "metadata": {},
   "outputs": [],
   "source": [
    "# xs 인덱서 사용 - 행 선택(default: axis=0)\n",
    "print(pdf3.xs('First'))              # 행 인덱스가 First인 행을 선택 \n",
    "print('\\n')\n",
    "print(pdf3.xs(('First', 'female')))   # 행 인덱스가 ('First', 'female')인 행을 선택\n",
    "print('\\n')\n",
    "print(pdf3.xs('male', level='sex'))  # 행 인덱스의 sex 레벨이 male인 행을 선택\n",
    "print('\\n')\n",
    "print(pdf3.xs(('Second', 'male'), level=[0, 'sex']))  # Second, male인 행을 선택\n",
    "print('\\n')"
   ]
  },
  {
   "cell_type": "code",
   "execution_count": null,
   "metadata": {},
   "outputs": [],
   "source": [
    "# xs 인덱서 사용 - 열 선택(axis=1 설정)\n",
    "print(pdf3.xs('mean', axis=1))        # 열 인덱스가 mean인 데이터를 선택 \n",
    "print('\\n')\n",
    "print(pdf3.xs(('mean', 'age'), axis=1))   # 열 인덱스가 ('mean', 'age')인 데이터 선택\n",
    "print('\\n')\n",
    "print(pdf3.xs(1, level='survived', axis=1))  # survived 레벨이 1인 데이터 선택\n",
    "print('\\n')\n",
    "print(pdf3.xs(('max', 'fare', 0), \n",
    "              level=[0, 1, 2], axis=1))  # max, fare, survived=0인 데이터 선택\n"
   ]
  },
  {
   "cell_type": "code",
   "execution_count": null,
   "metadata": {},
   "outputs": [],
   "source": []
  }
 ],
 "metadata": {
  "kernelspec": {
   "display_name": "pydatavenv",
   "language": "python",
   "name": "pydatavenv"
  },
  "language_info": {
   "codemirror_mode": {
    "name": "ipython",
    "version": 3
   },
   "file_extension": ".py",
   "mimetype": "text/x-python",
   "name": "python",
   "nbconvert_exporter": "python",
   "pygments_lexer": "ipython3",
   "version": "3.8.8"
  }
 },
 "nbformat": 4,
 "nbformat_minor": 4
}
