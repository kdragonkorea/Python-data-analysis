{
 "cells": [
  {
   "cell_type": "markdown",
   "metadata": {},
   "source": [
    "### 분할 : 데이터프레임객체.groupby(기준열 또는 기준이 되는 열리스트)\n",
    "### 적용-결합 \n",
    "#### 그룹별 데이터 집계 : mean(), max(), min(), sum(), count(), size(), var(), std(), describe(), info(), agg(사용자정의함수),  agg(함수들)\n",
    "#### 그룹의 원소별 데이터 집계 : transform(함수)\n",
    "#### 그룹 필터링 : filter(조건식함수)\n",
    "#### 그룹에 함수매핑 : apply(매핑함수)"
   ]
  },
  {
   "cell_type": "markdown",
   "metadata": {},
   "source": [
    "<img src='images/groupby1.jpg' width=500 height=400>"
   ]
  },
  {
   "cell_type": "code",
   "execution_count": 29,
   "metadata": {},
   "outputs": [
    {
     "data": {
      "text/html": [
       "<div>\n",
       "<style scoped>\n",
       "    .dataframe tbody tr th:only-of-type {\n",
       "        vertical-align: middle;\n",
       "    }\n",
       "\n",
       "    .dataframe tbody tr th {\n",
       "        vertical-align: top;\n",
       "    }\n",
       "\n",
       "    .dataframe thead th {\n",
       "        text-align: right;\n",
       "    }\n",
       "</style>\n",
       "<table border=\"1\" class=\"dataframe\">\n",
       "  <thead>\n",
       "    <tr style=\"text-align: right;\">\n",
       "      <th></th>\n",
       "      <th>city</th>\n",
       "      <th>fruits</th>\n",
       "      <th>price</th>\n",
       "      <th>quantity</th>\n",
       "    </tr>\n",
       "  </thead>\n",
       "  <tbody>\n",
       "    <tr>\n",
       "      <th>0</th>\n",
       "      <td>부산</td>\n",
       "      <td>apple</td>\n",
       "      <td>100</td>\n",
       "      <td>1</td>\n",
       "    </tr>\n",
       "    <tr>\n",
       "      <th>1</th>\n",
       "      <td>부산</td>\n",
       "      <td>orange</td>\n",
       "      <td>200</td>\n",
       "      <td>2</td>\n",
       "    </tr>\n",
       "    <tr>\n",
       "      <th>2</th>\n",
       "      <td>부산</td>\n",
       "      <td>banana</td>\n",
       "      <td>250</td>\n",
       "      <td>3</td>\n",
       "    </tr>\n",
       "    <tr>\n",
       "      <th>3</th>\n",
       "      <td>부산</td>\n",
       "      <td>banana</td>\n",
       "      <td>300</td>\n",
       "      <td>4</td>\n",
       "    </tr>\n",
       "    <tr>\n",
       "      <th>4</th>\n",
       "      <td>서울</td>\n",
       "      <td>apple</td>\n",
       "      <td>150</td>\n",
       "      <td>5</td>\n",
       "    </tr>\n",
       "    <tr>\n",
       "      <th>5</th>\n",
       "      <td>서울</td>\n",
       "      <td>apple</td>\n",
       "      <td>200</td>\n",
       "      <td>6</td>\n",
       "    </tr>\n",
       "    <tr>\n",
       "      <th>6</th>\n",
       "      <td>서울</td>\n",
       "      <td>banana</td>\n",
       "      <td>400</td>\n",
       "      <td>7</td>\n",
       "    </tr>\n",
       "  </tbody>\n",
       "</table>\n",
       "</div>"
      ],
      "text/plain": [
       "  city  fruits  price  quantity\n",
       "0   부산   apple    100         1\n",
       "1   부산  orange    200         2\n",
       "2   부산  banana    250         3\n",
       "3   부산  banana    300         4\n",
       "4   서울   apple    150         5\n",
       "5   서울   apple    200         6\n",
       "6   서울  banana    400         7"
      ]
     },
     "execution_count": 29,
     "metadata": {},
     "output_type": "execute_result"
    }
   ],
   "source": [
    "import pandas as pd\n",
    "import numpy as np\n",
    "df = pd.DataFrame({\n",
    "    'city': ['부산', '부산', '부산', '부산', '서울', '서울', '서울'],\n",
    "    'fruits': ['apple', 'orange', 'banana', 'banana', 'apple', 'apple', 'banana'],\n",
    "    'price': [100, 200, 250, 300, 150, 200, 400],\n",
    "    'quantity': [1, 2, 3, 4, 5, 6, 7]\n",
    "})\n",
    "df"
   ]
  },
  {
   "cell_type": "code",
   "execution_count": 31,
   "metadata": {},
   "outputs": [
    {
     "data": {
      "text/plain": [
       "<pandas.core.groupby.generic.DataFrameGroupBy object at 0x000001C6D958B5B0>"
      ]
     },
     "execution_count": 31,
     "metadata": {},
     "output_type": "execute_result"
    }
   ],
   "source": [
    "df.groupby('city')"
   ]
  },
  {
   "cell_type": "code",
   "execution_count": 32,
   "metadata": {},
   "outputs": [
    {
     "data": {
      "text/html": [
       "<div>\n",
       "<style scoped>\n",
       "    .dataframe tbody tr th:only-of-type {\n",
       "        vertical-align: middle;\n",
       "    }\n",
       "\n",
       "    .dataframe tbody tr th {\n",
       "        vertical-align: top;\n",
       "    }\n",
       "\n",
       "    .dataframe thead th {\n",
       "        text-align: right;\n",
       "    }\n",
       "</style>\n",
       "<table border=\"1\" class=\"dataframe\">\n",
       "  <thead>\n",
       "    <tr style=\"text-align: right;\">\n",
       "      <th></th>\n",
       "      <th>price</th>\n",
       "      <th>quantity</th>\n",
       "    </tr>\n",
       "    <tr>\n",
       "      <th>city</th>\n",
       "      <th></th>\n",
       "      <th></th>\n",
       "    </tr>\n",
       "  </thead>\n",
       "  <tbody>\n",
       "    <tr>\n",
       "      <th>부산</th>\n",
       "      <td>212.5</td>\n",
       "      <td>2.5</td>\n",
       "    </tr>\n",
       "    <tr>\n",
       "      <th>서울</th>\n",
       "      <td>250.0</td>\n",
       "      <td>6.0</td>\n",
       "    </tr>\n",
       "  </tbody>\n",
       "</table>\n",
       "</div>"
      ],
      "text/plain": [
       "      price  quantity\n",
       "city                 \n",
       "부산    212.5       2.5\n",
       "서울    250.0       6.0"
      ]
     },
     "execution_count": 32,
     "metadata": {},
     "output_type": "execute_result"
    }
   ],
   "source": [
    "df.groupby('city').mean()"
   ]
  },
  {
   "cell_type": "code",
   "execution_count": null,
   "metadata": {},
   "outputs": [],
   "source": [
    "df.groupby('city').agg('mean')"
   ]
  },
  {
   "cell_type": "code",
   "execution_count": null,
   "metadata": {},
   "outputs": [],
   "source": [
    "df.groupby('city').transform('mean')"
   ]
  },
  {
   "cell_type": "code",
   "execution_count": null,
   "metadata": {},
   "outputs": [],
   "source": [
    "df.groupby('city').agg(['mean', 'max', 'min'])"
   ]
  },
  {
   "cell_type": "code",
   "execution_count": null,
   "metadata": {},
   "outputs": [],
   "source": [
    "df.groupby(['city', 'fruits']).mean()"
   ]
  },
  {
   "cell_type": "code",
   "execution_count": null,
   "metadata": {},
   "outputs": [],
   "source": [
    "df.groupby(['fruits', 'city']).mean()"
   ]
  },
  {
   "cell_type": "code",
   "execution_count": 34,
   "metadata": {},
   "outputs": [
    {
     "data": {
      "text/html": [
       "<div>\n",
       "<style scoped>\n",
       "    .dataframe tbody tr th:only-of-type {\n",
       "        vertical-align: middle;\n",
       "    }\n",
       "\n",
       "    .dataframe tbody tr th {\n",
       "        vertical-align: top;\n",
       "    }\n",
       "\n",
       "    .dataframe thead th {\n",
       "        text-align: right;\n",
       "    }\n",
       "</style>\n",
       "<table border=\"1\" class=\"dataframe\">\n",
       "  <thead>\n",
       "    <tr style=\"text-align: right;\">\n",
       "      <th></th>\n",
       "      <th>city</th>\n",
       "      <th>fruits</th>\n",
       "      <th>price</th>\n",
       "      <th>quantity</th>\n",
       "    </tr>\n",
       "  </thead>\n",
       "  <tbody>\n",
       "    <tr>\n",
       "      <th>0</th>\n",
       "      <td>부산</td>\n",
       "      <td>apple</td>\n",
       "      <td>100</td>\n",
       "      <td>1</td>\n",
       "    </tr>\n",
       "    <tr>\n",
       "      <th>1</th>\n",
       "      <td>부산</td>\n",
       "      <td>orange</td>\n",
       "      <td>200</td>\n",
       "      <td>2</td>\n",
       "    </tr>\n",
       "    <tr>\n",
       "      <th>2</th>\n",
       "      <td>부산</td>\n",
       "      <td>banana</td>\n",
       "      <td>250</td>\n",
       "      <td>3</td>\n",
       "    </tr>\n",
       "    <tr>\n",
       "      <th>3</th>\n",
       "      <td>부산</td>\n",
       "      <td>banana</td>\n",
       "      <td>300</td>\n",
       "      <td>4</td>\n",
       "    </tr>\n",
       "  </tbody>\n",
       "</table>\n",
       "</div>"
      ],
      "text/plain": [
       "  city  fruits  price  quantity\n",
       "0   부산   apple    100         1\n",
       "1   부산  orange    200         2\n",
       "2   부산  banana    250         3\n",
       "3   부산  banana    300         4"
      ]
     },
     "execution_count": 34,
     "metadata": {},
     "output_type": "execute_result"
    }
   ],
   "source": [
    "df.groupby('city').get_group('부산')"
   ]
  },
  {
   "cell_type": "code",
   "execution_count": null,
   "metadata": {},
   "outputs": [],
   "source": [
    "df.groupby(['city', 'fruits']).get_group(('부산', 'orange'))"
   ]
  },
  {
   "cell_type": "code",
   "execution_count": null,
   "metadata": {},
   "outputs": [],
   "source": [
    "df.groupby('city').size()"
   ]
  },
  {
   "cell_type": "code",
   "execution_count": null,
   "metadata": {},
   "outputs": [],
   "source": [
    "df.groupby('city').size()['부산']"
   ]
  },
  {
   "cell_type": "code",
   "execution_count": 33,
   "metadata": {},
   "outputs": [
    {
     "data": {
      "text/html": [
       "<div>\n",
       "<style scoped>\n",
       "    .dataframe tbody tr th:only-of-type {\n",
       "        vertical-align: middle;\n",
       "    }\n",
       "\n",
       "    .dataframe tbody tr th {\n",
       "        vertical-align: top;\n",
       "    }\n",
       "\n",
       "    .dataframe thead th {\n",
       "        text-align: right;\n",
       "    }\n",
       "</style>\n",
       "<table border=\"1\" class=\"dataframe\">\n",
       "  <thead>\n",
       "    <tr style=\"text-align: right;\">\n",
       "      <th></th>\n",
       "      <th>fruits</th>\n",
       "      <th>price</th>\n",
       "      <th>quantity</th>\n",
       "    </tr>\n",
       "    <tr>\n",
       "      <th>city</th>\n",
       "      <th></th>\n",
       "      <th></th>\n",
       "      <th></th>\n",
       "    </tr>\n",
       "  </thead>\n",
       "  <tbody>\n",
       "    <tr>\n",
       "      <th>부산</th>\n",
       "      <td>4</td>\n",
       "      <td>4</td>\n",
       "      <td>4</td>\n",
       "    </tr>\n",
       "    <tr>\n",
       "      <th>서울</th>\n",
       "      <td>3</td>\n",
       "      <td>3</td>\n",
       "      <td>3</td>\n",
       "    </tr>\n",
       "  </tbody>\n",
       "</table>\n",
       "</div>"
      ],
      "text/plain": [
       "      fruits  price  quantity\n",
       "city                         \n",
       "부산         4      4         4\n",
       "서울         3      3         3"
      ]
     },
     "execution_count": 33,
     "metadata": {},
     "output_type": "execute_result"
    }
   ],
   "source": [
    "df.groupby('city').count()"
   ]
  },
  {
   "cell_type": "code",
   "execution_count": null,
   "metadata": {},
   "outputs": [],
   "source": [
    "\n",
    "len(df.groupby('city'))"
   ]
  },
  {
   "cell_type": "code",
   "execution_count": null,
   "metadata": {},
   "outputs": [],
   "source": [
    "# 예제 6-14\n",
    "import pandas as pd\n",
    "import seaborn as sns\n",
    "\n",
    "# titanic 데이터셋에서 age, sex 등 5개 열을 선택하여 데이터프레임 만들기\n",
    "titanic = sns.load_dataset('titanic')\n",
    "df = titanic.loc[:, ['age','sex', 'class', 'fare', 'survived']]\n",
    "\n",
    "print('승객 수:', len(df))\n",
    "print(df.head())\n",
    "print('\\n')\n",
    "\n",
    "# class 열을 기준으로 분할\n",
    "grouped = df.groupby(['class']) \n",
    "print(grouped)\n",
    "print('\\n')\n",
    "\n",
    "# 그룹 객체를 iteration으로 출력: head() 메소드로 첫 5행만을 출력\n",
    "for key, group in grouped:\n",
    "    print('* key :', key)\n",
    "    print('* number :', len(group))    \n",
    "    print(group.head())\n",
    "    print('\\n')\n",
    "    \n",
    "# 연산 메소드 적용\n",
    "average = grouped.mean()\n",
    "print(average)\n",
    "print('\\n')\n",
    "\n",
    "# 개별 그룹 선택하기\n",
    "group3 = grouped.get_group('Third')\n",
    "print(group3.head())\n",
    "print('\\n')\n",
    "\n",
    "# class 열, sex 열을 기준으로 분할\n",
    "grouped_two = df.groupby(['class', 'sex']) \n",
    "\n",
    "# grouped_two 그룹 객체를 iteration으로 출력\n",
    "for key, group in grouped_two:\n",
    "    print('* key :', key)\n",
    "    print('* number :', len(group))    \n",
    "    print(group.head())\n",
    "    print('\\n')\n",
    "    \n",
    "# grouped_two 그룹 객체에 연산 메소드 적용\n",
    "average_two = grouped_two.mean()\n",
    "print(average_two)\n",
    "print('\\n')\n",
    "print(type(average_two))\n",
    "\n",
    "# grouped_two 그룹 객체에서 개별 그룹 선택하기\n",
    "group3f = grouped_two.get_group(('Third','female'))\n",
    "print(group3f.head())"
   ]
  },
  {
   "cell_type": "code",
   "execution_count": null,
   "metadata": {},
   "outputs": [],
   "source": [
    "# 예제 6-15\n",
    "import pandas as pd\n",
    "import seaborn as sns\n",
    "\n",
    "# titanic 데이터셋에서 age, sex 등 5개 열을 선택하여 데이터프레임 만들기\n",
    "titanic = sns.load_dataset('titanic')\n",
    "df = titanic.loc[:, ['age','sex', 'class', 'fare', 'survived']]\n",
    "\n",
    "# class 열을 기준으로 분할\n",
    "grouped = df.groupby(['class']) \n",
    "\n",
    "# 각 그룹에 대한 모든 열의 표준편차를 집계하여 데이터프레임으로 반환\n",
    "std_all = grouped.std()  \n",
    "print(std_all)\n",
    "print('\\n')\n",
    "print(type(std_all))\n",
    "print('\\n')\n",
    "\n",
    "# 각 그룹에 대한 fare 열의 표준편차를 집계하여 시리즈로 반환 \n",
    "std_fare = grouped.fare.std()  \n",
    "print(std_fare)\n",
    "print('\\n')\n",
    "print(type(std_fare))\n",
    "print('\\n')\n",
    "\n",
    "# 그룹 객체에 agg() 메소드 적용 - 사용자 정의 함수를 인수로 전달\n",
    "def min_max(x):    # 최대값 - 최소값\n",
    "    return x.max() - x.min()\n",
    "    \n",
    "# 각 그룹의 최대값과 최소값의 차이를 계산하여 그룹별로 집계\n",
    "agg_minmax = grouped.agg(min_max)  \n",
    "print(agg_minmax.head())\n",
    "print('\\n')\n",
    "\n",
    "# 여러 함수를 각 열에 동일하게 적용하여 집계\n",
    "agg_all = grouped.agg(['min', 'max'])  \n",
    "print(agg_all.head())\n",
    "print('\\n')\n",
    "\n",
    "# 각 열마다 다른 함수를 적용하여 집계\n",
    "agg_sep = grouped.agg({'fare':['min', 'max'], 'age':'mean'})  \n",
    "print(agg_sep.head())\n"
   ]
  },
  {
   "cell_type": "code",
   "execution_count": null,
   "metadata": {},
   "outputs": [],
   "source": [
    "titanic = sns.load_dataset('titanic')\n",
    "df = titanic.loc[:, ['age','sex', 'class', 'fare', 'survived']]\n",
    "\n",
    "def z_score(x): \n",
    "    return (x - x.mean()) / x.std()\n",
    "   \n",
    "# transform() 메소드를 이용하여 age 열의 데이터를 z-score로 변환\n",
    "age_zscore = df.age.transform(z_score)  \n",
    "age_zscore"
   ]
  },
  {
   "cell_type": "code",
   "execution_count": null,
   "metadata": {},
   "outputs": [],
   "source": [
    "titanic = sns.load_dataset('titanic')\n",
    "df = titanic.loc[:, ['age','sex', 'class', 'fare', 'survived']]\n",
    "grouped = df.groupby(['class']) \n",
    "def z_score(x): \n",
    "    return (x - x.mean()) / x.std()\n",
    "   \n",
    "# transform() 메소드를 이용하여 age 열의 데이터를 z-score로 변환\n",
    "age_zscore = grouped.age.transform(z_score)  \n",
    "age_zscore"
   ]
  },
  {
   "cell_type": "code",
   "execution_count": null,
   "metadata": {},
   "outputs": [],
   "source": [
    "# 예제 6-16\n",
    "import pandas as pd\n",
    "import seaborn as sns\n",
    "\n",
    "# titanic 데이터셋에서 age, sex 등 5개 열을 선택하여 데이터프레임 만들기\n",
    "titanic = sns.load_dataset('titanic')\n",
    "df = titanic.loc[:, ['age','sex', 'class', 'fare', 'survived']]\n",
    "\n",
    "# class 열을 기준으로 분할\n",
    "grouped = df.groupby(['class']) \n",
    "\n",
    "# 그룹별 age 열의 평균 집계 연산\n",
    "age_mean = grouped.age.mean()\n",
    "print(age_mean)\n",
    "print('\\n')\n",
    "\n",
    "# 그룹별 age 열의 표준편차 집계 연산\n",
    "age_std = grouped.age.std()\n",
    "print(age_std)\n",
    "print('\\n') \n",
    "\n",
    "# 그룹 객체의 age 열을 iteration으로 z-score를 계산하여 출력\n",
    "for key, group in grouped.age:\n",
    "    group_zscore = (group - age_mean.loc[key]) / age_std.loc[key]         \n",
    "    print('* origin :', key)\n",
    "    print(group_zscore.head(3))  # 각 그룹의 첫 3개의 행을 출력\n",
    "    print('\\n')\n",
    "\n",
    "# z-score를 계산하는 사용자 함수 정의\n",
    "def z_score(x): \n",
    "    return (x - x.mean()) / x.std()\n",
    "   \n",
    "# transform() 메소드를 이용하여 age 열의 데이터를 z-score로 변환\n",
    "age_zscore = grouped.age.transform(z_score)  \n",
    "print(age_zscore.loc[[1, 9, 0]])     # 1, 2, 3 그룹의 첫 데이터 확인 (변환 결과)\n",
    "print('\\n')\n",
    "print(len(age_zscore))              # transform 메소드 반환 값의 길이\n",
    "print('\\n')\n",
    "print(age_zscore.loc[0:9])          # transform 메소드 반환 값 출력 (첫 10개)\n",
    "print('\\n')\n",
    "print(type(age_zscore))             # transform 메소드 반환 객체의 자료형\n"
   ]
  },
  {
   "cell_type": "code",
   "execution_count": null,
   "metadata": {},
   "outputs": [],
   "source": [
    "# 예제 6-17\n",
    "import pandas as pd\n",
    "import seaborn as sns\n",
    "\n",
    "# titanic 데이터셋에서 age, sex 등 5개 열을 선택하여 데이터프레임 만들기\n",
    "titanic = sns.load_dataset('titanic')\n",
    "df = titanic.loc[:, ['age','sex', 'class', 'fare', 'survived']]\n",
    "\n",
    "# class 열을 기준으로 분할\n",
    "grouped = df.groupby(['class'])\n",
    "\n",
    "# 데이터 개수가 200개 이상인 그룹만을 필터링하여 데이터프레임으로 반환\n",
    "grouped_filter = grouped.filter(lambda x: len(x) >= 200)  \n",
    "print(grouped_filter.head())   \n",
    "print('\\n')\n",
    "print(type(grouped_filter))\n",
    "\n",
    "# age 열의 평균이 30보다 작은 그룹만을 필터링하여 데이터프레임으로 반환\n",
    "age_filter = grouped.filter(lambda x: x.age.mean() < 30)  \n",
    "print(age_filter.tail())   \n",
    "print('\\n')\n",
    "print(type(age_filter))\n"
   ]
  },
  {
   "cell_type": "code",
   "execution_count": null,
   "metadata": {},
   "outputs": [],
   "source": [
    "# 예제 6-18\n",
    "import pandas as pd\n",
    "import seaborn as sns\n",
    "\n",
    "# titanic 데이터셋에서 age, sex 등 5개 열을 선택하여 데이터프레임 만들기\n",
    "titanic = sns.load_dataset('titanic')\n",
    "df = titanic.loc[:, ['age','sex', 'class', 'fare', 'survived']]\n",
    "\n",
    "# class 열을 기준으로 분할\n",
    "grouped = df.groupby(['class']) \n",
    "\n",
    "# 집계 : 각 그룹별 요약 통계정보를 집계\n",
    "agg_grouped = grouped.apply(lambda x: x.describe())   \n",
    "print(agg_grouped)\n",
    "print('\\n')"
   ]
  },
  {
   "cell_type": "code",
   "execution_count": null,
   "metadata": {},
   "outputs": [],
   "source": [
    "# z-score를 계산하는 사용자 함수 정의\n",
    "def z_score(x):                          \n",
    "    return (x - x.mean()) / x.std()\n",
    "\n",
    "age_zscore = grouped.age.apply(z_score)   #기본값 axis=0 \n",
    "print(age_zscore.head())\n",
    "print('\\n')\n",
    "\n",
    "# 필터링 : age 열의 데이터 평균이 30보다 작은 그룹만을 필터링하여 출력\n",
    "age_filter = grouped.apply(lambda x: x.age.mean() < 30)  \n",
    "print(age_filter)   \n",
    "print('\\n')\n",
    "for x in age_filter.index:\n",
    "    if age_filter[x]==True:\n",
    "        age_filter_df = grouped.get_group(x)\n",
    "        print(age_filter_df.head())\n",
    "        print('\\n')"
   ]
  },
  {
   "cell_type": "code",
   "execution_count": null,
   "metadata": {},
   "outputs": [],
   "source": [
    "# 예제 6-19\n",
    "import pandas as pd\n",
    "import seaborn as sns\n",
    "\n",
    "# titanic 데이터셋에서 age, sex 등 5개 열을 선택하여 데이터프레임 만들기\n",
    "titanic = sns.load_dataset('titanic')\n",
    "df = titanic.loc[:, ['age','sex', 'class', 'fare', 'survived']]\n",
    "\n",
    "# class 열, sex 열을 기준으로 분할\n",
    "grouped = df.groupby(['class', 'sex']) \n",
    "print(type(grouped)) # 10-26추가함\n",
    "print(\"-------------1---------------\")\n",
    "# 그룹 객체에 연산 메서드 적용\n",
    "gdf = grouped.mean()\n",
    "print(gdf)\n",
    "print(type(gdf))\n",
    "print('\\n')\n",
    "print(gdf.index)\n",
    "print(\"-------------2---------------\")\n",
    "# class 값이 First인 행을 선택하여 출력\n",
    "print(gdf.loc['First'])\n",
    "print('\\n')\n",
    "print(\"-------------3---------------\")\n",
    "# class 값이 First이고, sex 값이 female인 행을 선택하여 출력\n",
    "print(gdf.loc[('First', 'female')])\n",
    "print('\\n')\n",
    "print(\"-------------4---------------\")\n",
    "# sex 값이 male인 행을 선택하여 출력\n",
    "print(gdf.xs('male', level='sex'))"
   ]
  },
  {
   "cell_type": "markdown",
   "metadata": {},
   "source": [
    "<img src='images/pivot_table.jpg' width=500 height=400>"
   ]
  },
  {
   "cell_type": "code",
   "execution_count": 12,
   "metadata": {},
   "outputs": [
    {
     "name": "stdout",
     "output_type": "stream",
     "text": [
      "    age     sex  class     fare  survived\n",
      "0  22.0    male  Third   7.2500         0\n",
      "1  38.0  female  First  71.2833         1\n",
      "2  26.0  female  Third   7.9250         1\n",
      "3  35.0  female  First  53.1000         1\n",
      "4  35.0    male  Third   8.0500         0\n",
      "\n",
      "\n",
      "sex        female       male\n",
      "class                       \n",
      "First   34.611765  41.281386\n",
      "Second  28.722973  30.740707\n",
      "Third   21.750000  26.507589\n",
      "\n",
      "\n"
     ]
    }
   ],
   "source": [
    "# 예제 6-20\n",
    "# 라이브러리 불러오기\n",
    "import pandas as pd\n",
    "import seaborn as sns\n",
    "\n",
    "# IPyhton 디스플레이 설정 변경 \n",
    "pd.set_option('display.max_columns', 10)    # 출력할 최대 열의 개수\n",
    "pd.set_option('display.max_colwidth', 20)    # 출력할 열의 너비\n",
    "\n",
    "# titanic 데이터셋에서 age, sex 등 5개 열을 선택하여 데이터프레임 만들기\n",
    "titanic = sns.load_dataset('titanic')\n",
    "df = titanic.loc[:, ['age','sex', 'class', 'fare', 'survived']]\n",
    "print(df.head())\n",
    "print('\\n')\n",
    "\n",
    "# 행, 열, 값, 집계에 사용할 열을 1개씩 지정 - 평균 집계\n",
    "pdf1 = pd.pivot_table(df,              # 피벗할 데이터프레임\n",
    "                     index='class',    # 행 위치에 들어갈 열\n",
    "                     columns='sex',    # 열 위치에 들어갈 열\n",
    "                     values='age',     # 데이터로 사용할 열\n",
    "                     aggfunc='mean')   # 데이터 집계 함수\n",
    "\n",
    "print(pdf1.head())\n",
    "print('\\n')"
   ]
  }
 ],
 "metadata": {
  "kernelspec": {
   "display_name": "pydatavenv",
   "language": "python",
   "name": "pydatavenv"
  },
  "language_info": {
   "codemirror_mode": {
    "name": "ipython",
    "version": 3
   },
   "file_extension": ".py",
   "mimetype": "text/x-python",
   "name": "python",
   "nbconvert_exporter": "python",
   "pygments_lexer": "ipython3",
   "version": "3.8.8"
  }
 },
 "nbformat": 4,
 "nbformat_minor": 4
}
